{
 "cells": [
  {
   "cell_type": "markdown",
   "metadata": {},
   "source": [
    "# Statistics in Python\n",
    "This notebook covers **Measures of Dispersion** and **Measures of Position** with Python code examples and simple assignments."
   ]
  },
  {
   "cell_type": "markdown",
   "metadata": {},
   "source": [
    "## 1. Variance\n",
    "**Definition:** Variance measures how far data points spread out from the mean.\n",
    "\n",
    "Formula:\n",
    "$$ \\sigma^2 = \\frac{\\sum (x_i - \\bar{x})^2}{N} $$"
   ]
  },
  {
   "cell_type": "code",
   "execution_count": null,
   "metadata": {},
   "outputs": [],
   "source": [
    "import numpy as np\n",
    "\n",
    "# Example dataset\n",
    "data = [2, 4, 6, 8]\n",
    "\n",
    "# Variance using numpy\n",
    "variance = np.var(data)\n",
    "print(\"Variance:\", variance)"
   ]
  },
  {
   "cell_type": "code",
   "execution_count": null,
   "metadata": {},
   "outputs": [],
   "source": [
    "# Assignment (Easy)\n",
    "# Find the variance of dataset [3, 3, 3, 3]\n",
    "assignment_data = [3, 3, 3, 3]\n",
    "# Your code here"
   ]
  },
  {
   "cell_type": "markdown",
   "metadata": {},
   "source": [
    "## 2. Standard Deviation\n",
    "**Definition:** Standard Deviation is the square root of variance. It is in the same unit as the data.\n",
    "\n",
    "$$ \\sigma = \\sqrt{\\sigma^2} $$"
   ]
  },
  {
   "cell_type": "code",
   "execution_count": null,
   "metadata": {},
   "outputs": [],
   "source": [
    "# Standard Deviation Example\n",
    "std_dev = np.std(data)\n",
    "print(\"Standard Deviation:\", std_dev)"
   ]
  },
  {
   "cell_type": "code",
   "execution_count": null,
   "metadata": {},
   "outputs": [],
   "source": [
    "# Assignment (Easy)\n",
    "# Compute standard deviation of [1, 2, 3, 4, 5]\n",
    "assignment_data = [1, 2, 3, 4, 5]\n",
    "# Your code here"
   ]
  },
  {
   "cell_type": "markdown",
   "metadata": {},
   "source": [
    "## 3. Coefficient of Variation (CV)\n",
    "**Definition:** CV is the ratio of standard deviation to mean, expressed as a percentage.\n",
    "\n",
    "$$ CV = \\frac{\\sigma}{\\bar{x}} \\times 100 $$"
   ]
  },
  {
   "cell_type": "code",
   "execution_count": null,
   "metadata": {},
   "outputs": [],
   "source": [
    "# Coefficient of Variation Example\n",
    "data = [10, 12, 15, 18, 20]\n",
    "mean = np.mean(data)\n",
    "std_dev = np.std(data)\n",
    "cv = (std_dev / mean) * 100\n",
    "print(\"Coefficient of Variation:\", cv, \"%\")"
   ]
  },
  {
   "cell_type": "code",
   "execution_count": null,
   "metadata": {},
   "outputs": [],
   "source": [
    "# Assignment (Easy)\n",
    "# Calculate CV for dataset [5, 10, 15, 20, 25]\n",
    "assignment_data = [5, 10, 15, 20, 25]\n",
    "# Your code here"
   ]
  },
  {
   "cell_type": "markdown",
   "metadata": {},
   "source": [
    "## 4. Skewness\n",
    "**Definition:** Skewness measures asymmetry of distribution.\n",
    "- Positive skew: Tail on right\n",
    "- Negative skew: Tail on left"
   ]
  },
  {
   "cell_type": "code",
   "execution_count": 5,
   "metadata": {},
   "outputs": [
    {
     "name": "stdout",
     "output_type": "stream",
     "text": [
      "Skewness: 1.3577270894181972\n"
     ]
    }
   ],
   "source": [
    "from scipy.stats import skew\n",
    "\n",
    "data = [30, 35, 40, 45, 100]  # Example salaries\n",
    "skewness = skew(data)\n",
    "print(\"Skewness:\", skewness)"
   ]
  },
  {
   "cell_type": "code",
   "execution_count": 6,
   "metadata": {},
   "outputs": [],
   "source": [
    "# Assignment (Easy)\n",
    "# Find skewness of [1, 2, 2, 3, 50]\n",
    "assignment_data = [1, 2, 2, 3, 50]\n",
    "# Your code here"
   ]
  },
  {
   "cell_type": "markdown",
   "metadata": {},
   "source": [
    "## 5. Kurtosis\n",
    "**Definition:** Kurtosis measures the peakedness or heaviness of tails.\n",
    "- Mesokurtic ≈ 3 (Normal)\n",
    "- Leptokurtic > 3 (Peaked, heavy tails)\n",
    "- Platykurtic < 3 (Flat)"
   ]
  },
  {
   "cell_type": "code",
   "execution_count": null,
   "metadata": {},
   "outputs": [],
   "source": [
    "from scipy.stats import kurtosis\n",
    "\n",
    "data = [10, 10, 10, 10, 50, 60, 70]  # Example exam scores\n",
    "kurt = kurtosis(data)\n",
    "print(\"Kurtosis:\", kurt)"
   ]
  },
  {
   "cell_type": "code",
   "execution_count": null,
   "metadata": {},
   "outputs": [],
   "source": [
    "# Assignment (Easy)\n",
    "# Find kurtosis of [1, 2, 3, 4, 5]\n",
    "assignment_data = [1, 2, 3, 4, 5]\n",
    "# Your code here"
   ]
  },
  {
   "cell_type": "markdown",
   "metadata": {},
   "source": [
    "# Measures of Position"
   ]
  },
  {
   "cell_type": "markdown",
   "metadata": {},
   "source": [
    "## 6. Z-Score\n",
    "**Definition:** Z-Score shows how many standard deviations a value is away from mean.\n",
    "\n",
    "$$ Z = \\frac{x - \\bar{x}}{\\sigma} $$"
   ]
  },
  {
   "cell_type": "code",
   "execution_count": null,
   "metadata": {},
   "outputs": [],
   "source": [
    "# Z-Score Example\n",
    "x = 70\n",
    "mean = 50\n",
    "std_dev = 10\n",
    "z_score = (x - mean) / std_dev\n",
    "print(\"Z-Score:\", z_score)"
   ]
  },
  {
   "cell_type": "code",
   "execution_count": 2,
   "metadata": {},
   "outputs": [
    {
     "name": "stdout",
     "output_type": "stream",
     "text": [
      "[-1.41421356 -0.70710678  0.          0.70710678  1.41421356]\n"
     ]
    }
   ],
   "source": [
    "from scipy.stats import zscore\n",
    "import numpy as np\n",
    "data = [2,4,6,8,10]\n",
    "z_score = zscore(data)\n",
    "print(z_score)"
   ]
  },
  {
   "cell_type": "code",
   "execution_count": 4,
   "metadata": {},
   "outputs": [
    {
     "name": "stdout",
     "output_type": "stream",
     "text": [
      "0.0\n"
     ]
    }
   ],
   "source": [
    "print(z_score[2])"
   ]
  },
  {
   "cell_type": "code",
   "execution_count": null,
   "metadata": {},
   "outputs": [],
   "source": [
    "# Assignment (Easy)\n",
    "# Compute Z-score if x=60, mean=50, std=10\n",
    "x = 60\n",
    "mean = 50\n",
    "std_dev = 10\n",
    "# Your code here"
   ]
  },
  {
   "cell_type": "markdown",
   "metadata": {},
   "source": [
    "## 7. Percentiles\n",
    "**Definition:** Percentiles divide data into 100 equal parts.\n",
    "- 25th percentile = Q1\n",
    "- 50th percentile = Q2 (median)\n",
    "- 75th percentile = Q3"
   ]
  },
  {
   "cell_type": "code",
   "execution_count": null,
   "metadata": {},
   "outputs": [],
   "source": [
    "# Percentile Example\n",
    "data = [40, 50, 60, 70, 80, 90, 100]\n",
    "p60 = np.percentile(data, 60)\n",
    "print(\"60th Percentile:\", p60)"
   ]
  },
  {
   "cell_type": "code",
   "execution_count": null,
   "metadata": {},
   "outputs": [],
   "source": [
    "# Assignment (Easy)\n",
    "# Find the 25th percentile of [5,10,15,20,25,30,35,40]\n",
    "assignment_data = [5,10,15,20,25,30,35,40]\n",
    "# Your code here"
   ]
  },
  {
   "cell_type": "markdown",
   "metadata": {},
   "source": [
    "## 8. Quartiles\n",
    "**Definition:** Quartiles divide data into 4 equal parts.\n",
    "- Q1 = 25th percentile\n",
    "- Q2 = 50th percentile (median)\n",
    "- Q3 = 75th percentile"
   ]
  },
  {
   "cell_type": "code",
   "execution_count": null,
   "metadata": {},
   "outputs": [],
   "source": [
    "# Quartile Example\n",
    "data = [2, 4, 6, 8, 10, 12, 14, 16]\n",
    "q1 = np.percentile(data, 25)\n",
    "q2 = np.percentile(data, 50)\n",
    "q3 = np.percentile(data, 75)\n",
    "print(\"Q1:\", q1, \"Q2:\", q2, \"Q3:\", q3)\n",
    "\n",
    "# Interquartile Range (IQR)\n",
    "iqr = q3 - q1\n",
    "print(\"IQR:\", iqr)"
   ]
  },
  {
   "cell_type": "code",
   "execution_count": null,
   "metadata": {},
   "outputs": [],
   "source": [
    "# Assignment (Easy)\n",
    "# Find Q1, Q2, Q3 for [10,20,30,40,50,60,70,80]\n",
    "assignment_data = [10,20,30,40,50,60,70,80]\n",
    "# Your code here"
   ]
  }
 ],
 "metadata": {
  "kernelspec": {
   "display_name": "Python 3 (ipykernel)",
   "language": "python",
   "name": "python3"
  },
  "language_info": {
   "codemirror_mode": {
    "name": "ipython",
    "version": 3
   },
   "file_extension": ".py",
   "mimetype": "text/x-python",
   "name": "python",
   "nbconvert_exporter": "python",
   "pygments_lexer": "ipython3",
   "version": "3.12.7"
  }
 },
 "nbformat": 4,
 "nbformat_minor": 4
}
