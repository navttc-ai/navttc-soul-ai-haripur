{
 "cells": [
  {
   "cell_type": "markdown",
   "id": "fe7e60c1",
   "metadata": {},
   "source": [
    "\n",
    "# Advanced OOP Concepts in Python: A Tutorial Notebook\n",
    "\n",
    "This notebook provides a hands-on guide to advanced Object-Oriented Programming concepts in Python. Each section includes detailed explanations and runnable code examples.\n",
    "\n",
    "---\n",
    "\n",
    "### **Table of Contents**\n",
    "\n",
    "1.  **Polymorphism**\n",
    "2.  **Operator Overloading**\n",
    "3.  **Magic (Dunder) Functions**\n",
    "4.  **Dynamic Polymorphism**\n",
    "5.  **Abstract Method and Class**\n",
    "6.  **Empty Class**\n",
    "7.  **Data Class**\n",
    "8.  **Keyword Arguments**\n"
   ]
  },
  {
   "cell_type": "markdown",
   "id": "6d13ecc7",
   "metadata": {},
   "source": [
    "\n",
    "## 1. Polymorphism\n",
    "\n",
    "**Definition**: From Greek, meaning \"many forms.\" [cite_start]In programming, it's the principle that a single interface can represent different underlying forms (data types)[cite: 5].\n",
    "\n",
    "[cite_start]The same method call will behave differently depending on the object it is called on[cite: 5].\n"
   ]
  },
  {
   "cell_type": "code",
   "execution_count": null,
   "id": "ad294993",
   "metadata": {},
   "outputs": [],
   "source": [
    "# Polymorphism: Simple Example\n",
    "# Different objects respond to the same method call.\n",
    "\n",
    "# Base class (not formally required for this example)\n",
    "class Dog:\n",
    "    def speak(self): print(\"Woof!\")\n",
    "\n",
    "class Cat:\n",
    "    def speak(self): print(\"Meow!\")\n",
    "\n",
    "# A function that can work with any object that has a .speak() method\n",
    "def make_animal_speak(animal):\n",
    "    animal.speak()\n",
    "\n",
    "make_animal_speak(Dog())\n",
    "make_animal_speak(Cat())"
   ]
  },
  {
   "cell_type": "code",
   "execution_count": null,
   "id": "8d5e87b4-afff-4846-a286-c7ee106aa116",
   "metadata": {},
   "outputs": [],
   "source": [
    "# Base class (the general interface)\n",
    "class AIModel:\n",
    "    def load_model(self, path):\n",
    "        # General logic to load a model file\n",
    "        pass\n",
    "\n",
    "    def predict(self, input_data):\n",
    "        # This is a placeholder; it must be implemented by subclasses\n",
    "        raise NotImplementedError(\"Subclasses must implement this method\")\n",
    "\n",
    "# Derived class 1: Image Classifier\n",
    "class ImageClassifier(AIModel):\n",
    "    def predict(self, image):\n",
    "        # Specific implementation for processing an image\n",
    "        print(\"Classifying image...\")\n",
    "        # ... image-specific logic ...\n",
    "        return \"Cat\"\n",
    "\n",
    "# Derived class 2: Text Analyzer\n",
    "class TextAnalyzer(AIModel):\n",
    "    def predict(self, text):\n",
    "        # Specific implementation for processing text\n",
    "        print(\"Analyzing text sentiment...\")\n",
    "        # ... text-specific logic ...\n",
    "        return \"Positive\"\n",
    "\n",
    "# --- Using Polymorphism ---\n",
    "# We can treat both objects as if they are the same type (AIModel)\n",
    "image_model = ImageClassifier()\n",
    "text_model = TextAnalyzer()\n",
    "\n",
    "models = [image_model, text_model]\n",
    "input_data = [\"some_image.jpg\", \"This movie was fantastic!\"]\n",
    "\n",
    "# The same function call `model.predict()` works for different model types\n",
    "for i, model in enumerate(models):\n",
    "    result = model.predict(input_data[i])\n",
    "    print(f\"Prediction: {result}\\n\")"
   ]
  },
  {
   "cell_type": "markdown",
   "id": "8b62ef2b",
   "metadata": {},
   "source": [
    "\n",
    "## 2. Operator Overloading\n",
    "\n",
    "[cite_start]**Concept**: A specific type of polymorphism where you redefine how built-in operators (`+`, `-`, `*`, `==`, etc.) work with your custom objects[cite: 9].\n",
    "\n",
    "[cite_start]This is achieved by implementing special \"dunder\" methods (e.g., `__add__` for `+`) and makes code more intuitive and readable[cite: 9].\n",
    "\n",
    "[cite_start]**Syntax**: Common operators and their corresponding dunder methods[cite: 11]:\n",
    "- `+`  -> `__add__(self, other)`\n",
    "- `-`  -> `__sub__(self, other)`\n",
    "- `*`  -> `__mul__(self, other)`\n",
    "- `==` -> `__eq__(self, other)`\n",
    "- `len()` -> `__len__(self)`\n"
   ]
  },
  {
   "cell_type": "code",
   "execution_count": null,
   "id": "cf6b551a",
   "metadata": {},
   "outputs": [],
   "source": [
    "# Operator Overloading: Example\n",
    "class Money:\n",
    "    def __init__(self, amount, currency):\n",
    "        self.amount = amount\n",
    "        self.currency = currency\n",
    "\n",
    "    def __add__(self, other):\n",
    "        if self.currency != other.currency:\n",
    "            raise ValueError(\"Cannot add different currencies\")\n",
    "        return Money(self.amount + other.amount, self.currency)\n",
    "\n",
    "    def __repr__(self):\n",
    "        return f\"{self.amount} {self.currency}\"\n",
    "\n",
    "wallet1 = Money(100, \"USD\")\n",
    "wallet2 = Money(50, \"USD\")\n",
    "print(wallet1 + wallet2)"
   ]
  },
  {
   "cell_type": "code",
   "execution_count": 1,
   "id": "bf465492-d0ce-47eb-b22c-331290230f77",
   "metadata": {},
   "outputs": [],
   "source": [
    "# Another Example "
   ]
  },
  {
   "cell_type": "code",
   "execution_count": null,
   "id": "b2e5149c-2735-48ff-b1e5-af469b1c0cfb",
   "metadata": {},
   "outputs": [],
   "source": [
    "class Point:\n",
    "    def __init__(self, x, y):\n",
    "        self.x = x\n",
    "        self.y = y\n",
    "\n",
    "    def __str__(self):\n",
    "        return f\"Point({self.x}, {self.y})\"\n",
    "\n",
    "p1 = Point(1, 2)\n",
    "p2 = Point(5, 3)\n",
    "\n",
    "# we did'nt overloaded '+', this will not work!\n",
    "result = p1 + p2\n",
    "\n",
    "print(result) # error"
   ]
  },
  {
   "cell_type": "code",
   "execution_count": null,
   "id": "2823876c-ad46-4f2a-9697-d9da34351c8a",
   "metadata": {},
   "outputs": [],
   "source": [
    "class Point:\n",
    "    def __init__(self, x, y):\n",
    "        self.x = x\n",
    "        self.y = y\n",
    "\n",
    "    # This special method defines the behavior of the '+' operator\n",
    "    def __add__(self, other_point):\n",
    "        # Add the x and y coordinates separately\n",
    "        new_x = self.x + other_point.x\n",
    "        new_y = self.y + other_point.y\n",
    "        return Point(new_x, new_y)\n",
    "\n",
    "    def __str__(self):\n",
    "        return f\"Point({self.x}, {self.y})\"\n",
    "\n",
    "# --- Using Operator Overloading ---\n",
    "p1 = Point(1, 2)\n",
    "p2 = Point(5, 3)\n",
    "\n",
    "# Because we overloaded '+', this now works!\n",
    "result = p1 + p2\n",
    "\n",
    "print(result) # Output: Point(6, 5)"
   ]
  },
  {
   "cell_type": "markdown",
   "id": "f2b25f64-1c5d-40a9-bf08-b3087a7dc110",
   "metadata": {},
   "source": [
    "## Assignment: Operator Overloading"
   ]
  },
  {
   "cell_type": "markdown",
   "id": "a88b61e3-6a68-4744-b851-7bdc45a007d8",
   "metadata": {},
   "source": [
    "• Task: Create a `Dimension` class for a rectangular area.\n",
    "• It should have `width` and `height` attributes.\n",
    "• Overload the multiplication (`*`) operator so that multiplying two `Dimension` objects returns a new `Dimension` object with its area's width and height added together.\n"
   ]
  },
  {
   "cell_type": "code",
   "execution_count": null,
   "id": "a958ede0-b2e2-4483-bab4-4368f106b615",
   "metadata": {},
   "outputs": [],
   "source": []
  },
  {
   "cell_type": "markdown",
   "id": "0bdd0a9f",
   "metadata": {},
   "source": [
    "\n",
    "## 3. Magic (Dunder) Functions\n",
    "\n",
    "[cite_start]**Definition**: Special methods, identified by double underscores, that Python calls internally in response to specific syntax[cite: 20]. [cite_start]They allow your custom objects to integrate seamlessly with Python's language features[cite: 20].\n",
    "\n",
    "[cite_start]You don't call them directly (e.g., you use `len(obj)` not `obj.__len__()`)[cite: 20].\n",
    "\n",
    "#### Dunder Functions for Representation\n",
    "[cite_start]Controlling how your objects are displayed as strings is crucial[cite: 22].\n",
    "- `__str__(self)`: For `print()` and `str()`. [cite_start]Should be readable and user-friendly[cite: 22, 23].\n",
    "- `__repr__(self)`: For developers. [cite_start]Should be unambiguous, ideally allowing object recreation[cite: 23].\n"
   ]
  },
  {
   "cell_type": "code",
   "execution_count": null,
   "id": "6ce040d6",
   "metadata": {},
   "outputs": [],
   "source": [
    "# Dunder Representation: Example\n",
    "class Book:\n",
    "    def __init__(self, title, author):\n",
    "        self.title, self.author = title, author\n",
    "\n",
    "    def __str__(self): return f\"{self.title} by {self.author}\"\n",
    "    def __repr__(self): return f\"Book('{self.title}', '{self.author}')\"\n",
    "\n",
    "my_book = Book(\"Dune\", \"F. Herbert\")\n",
    "print(my_book)      # Calls __str__\n",
    "print(repr(my_book)) # Calls __repr__"
   ]
  },
  {
   "cell_type": "code",
   "execution_count": null,
   "id": "ea7a72f5-79e6-4470-9b25-0270abe5aeca",
   "metadata": {},
   "outputs": [],
   "source": [
    "class Book:\n",
    "    def __init__(self, title, author):\n",
    "        self.title = title\n",
    "        self.author = author\n",
    "\n",
    "\n",
    "my_book = Book(\"Dune\", \"Frank Herbert\")\n",
    "\n",
    "print(my_book)       \n",
    "print(repr(my_book))  "
   ]
  },
  {
   "cell_type": "code",
   "execution_count": 4,
   "id": "0ada9de4-afbd-40be-8edf-a7fc7dda13f2",
   "metadata": {},
   "outputs": [
    {
     "name": "stdout",
     "output_type": "stream",
     "text": [
      "Dune by Frank Herbert\n",
      "Book(title='Dune', author='Frank Herbert')\n"
     ]
    }
   ],
   "source": [
    "class Book:\n",
    "    def __init__(self, title, author):\n",
    "        self.title = title\n",
    "        self.author = author\n",
    "\n",
    "    def __str__(self):\n",
    "        # User-friendly output for print()\n",
    "        return f\"{self.title} by {self.author}\"\n",
    "\n",
    "    def __repr__(self):\n",
    "        # Unambiguous representation for developers\n",
    "        return f\"Book(title='{self.title}', author='{self.author}')\"\n",
    "\n",
    "my_book = Book(\"Dune\", \"Frank Herbert\")\n",
    "\n",
    "print(my_book)        # Calls __str__ -> Output: Dune by Frank Herbert\n",
    "print(repr(my_book))  # Calls __repr__ -> Output: Book(title='Dune', author='Frank Herbert')"
   ]
  },
  {
   "cell_type": "code",
   "execution_count": 2,
   "id": "1da85635-3c83-44ad-88ba-3ffb761e64ce",
   "metadata": {},
   "outputs": [],
   "source": [
    "# another example \n"
   ]
  },
  {
   "cell_type": "code",
   "execution_count": null,
   "id": "b32e40f3-f2d3-4a31-aff0-bcc1618dee55",
   "metadata": {},
   "outputs": [],
   "source": [
    "class Point:\n",
    "    def __init__(self, x, y):\n",
    "        self.x = x\n",
    "        self.y = y\n",
    "\n",
    "    def __str__(self):\n",
    "        return f\"Point({self.x}, {self.y})\"\n",
    "\n",
    "p1 = Point(1, 2)\n",
    "p2 = Point(5, 3)\n",
    "\n",
    "# we did'nt overloaded '+', this will not work!\n",
    "result = p1 + p2\n",
    "\n",
    "print(result) # error"
   ]
  },
  {
   "cell_type": "code",
   "execution_count": 3,
   "id": "5892f58c-b365-4581-a103-70b08dea690c",
   "metadata": {},
   "outputs": [
    {
     "name": "stdout",
     "output_type": "stream",
     "text": [
      "Point(6, 5)\n"
     ]
    }
   ],
   "source": [
    "class Point:\n",
    "    def __init__(self, x, y):\n",
    "        self.x = x\n",
    "        self.y = y\n",
    "\n",
    "    # This special method defines the behavior of the '+' operator\n",
    "    def __add__(self, other_point):\n",
    "        # Add the x and y coordinates separately\n",
    "        new_x = self.x + other_point.x\n",
    "        new_y = self.y + other_point.y\n",
    "        return Point(new_x, new_y)\n",
    "\n",
    "    def __str__(self):\n",
    "        return f\"Point({self.x}, {self.y})\"\n",
    "\n",
    "# --- Using Operator Overloading ---\n",
    "p1 = Point(1, 2)\n",
    "p2 = Point(5, 3)\n",
    "\n",
    "# Because we overloaded '+', this now works!\n",
    "result = p1 + p2\n",
    "\n",
    "print(result) # Output: Point(6, 5)"
   ]
  },
  {
   "cell_type": "markdown",
   "id": "76ae550d",
   "metadata": {},
   "source": [
    "\n",
    "#### Dunder Functions for Containers\n",
    "[cite_start]Make your object behave like a list or dictionary[cite: 25].\n",
    "- [cite_start]`__len__(self)`: Supports the `len()` function[cite: 25].\n",
    "- [cite_start]`__getitem__(self, key)`: Supports indexing (`obj[key]`)[cite: 25].\n"
   ]
  },
  {
   "cell_type": "code",
   "execution_count": null,
   "id": "829e0ee1",
   "metadata": {},
   "outputs": [],
   "source": [
    "# Dunder Container: Example\n",
    "class Playlist:\n",
    "    def __init__(self, songs):\n",
    "        self.songs = songs\n",
    "\n",
    "    def __len__(self): return len(self.songs)\n",
    "    def __getitem__(self, index): return self.songs[index]\n",
    "\n",
    "my_playlist = Playlist([\"Song A\", \"Song B\", \"Song C\"])\n",
    "print(f\"Playlist length: {len(my_playlist)}\")\n",
    "print(f\"Second song: {my_playlist[1]}"
   ]
  },
  {
   "cell_type": "code",
   "execution_count": 5,
   "id": "bdd3b8cf-7021-4d66-b7b4-2ca3a8d57104",
   "metadata": {},
   "outputs": [
    {
     "name": "stdout",
     "output_type": "stream",
     "text": [
      "Number of books on shelf: 2\n",
      "First book on shelf: 1984 by George Orwell\n"
     ]
    }
   ],
   "source": [
    "# Step 1: Define the Book class WITH the __str__ method\n",
    "class Book:\n",
    "    def __init__(self, title, author):\n",
    "        self.title = title\n",
    "        self.author = author\n",
    "\n",
    "    # 💡 This is the crucial part that print() uses.\n",
    "    def __str__(self):\n",
    "        # User-friendly output for print()\n",
    "        return f\"{self.title} by {self.author}\"\n",
    "\n",
    "    def __repr__(self):\n",
    "        # Unambiguous representation for developers\n",
    "        return f\"Book(title='{self.title}', author='{self.author}')\"\n",
    "\n",
    "# Step 2: Define the Bookshelf class that USES the Book class\n",
    "class Bookshelf:\n",
    "    def __init__(self):\n",
    "        self.books = []\n",
    "\n",
    "    def add_book(self, book):\n",
    "        self.books.append(book)\n",
    "\n",
    "    def __len__(self):\n",
    "        return len(self.books)\n",
    "\n",
    "    def __getitem__(self, index):\n",
    "        return self.books[index]\n",
    "\n",
    "# Step 3: Now run the code to create and print objects\n",
    "shelf = Bookshelf()\n",
    "shelf.add_book(Book(\"Dune\", \"Frank Herbert\"))\n",
    "shelf.add_book(Book(\"1984\", \"George Orwell\"))\n",
    "\n",
    "print(f\"Number of books on shelf: {len(shelf)}\")\n",
    "\n",
    "# This will now work correctly because shelf[0] returns a Book object,\n",
    "# and that Book object has a __str__ method.\n",
    "print(f\"First book on shelf: {shelf[1]}\")"
   ]
  },
  {
   "cell_type": "markdown",
   "id": "9416845e-9144-4a47-82bb-fae562ec91c2",
   "metadata": {},
   "source": [
    "## Assignment: Dunder Functions"
   ]
  },
  {
   "cell_type": "markdown",
   "id": "564c9031-d40a-42f7-a2e7-3895b9a02237",
   "metadata": {},
   "source": [
    "• Task: Create a `Team` class that holds a list of player names.\n",
    "• Implement `__len__` to return the number of players.\n",
    "• Implement `__contains__` so you can use the `in` keyword to check if a player is on the team (e.g., `if \"Alice\" in my_team:`).\n"
   ]
  },
  {
   "cell_type": "code",
   "execution_count": 10,
   "id": "a0ee138f-d235-4541-b060-96e1372a0998",
   "metadata": {},
   "outputs": [],
   "source": []
  },
  {
   "cell_type": "code",
   "execution_count": 12,
   "id": "9ff1bcc5-6cea-41de-a787-94deaa55de2b",
   "metadata": {},
   "outputs": [],
   "source": []
  },
  {
   "cell_type": "code",
   "execution_count": null,
   "id": "0553a0de-b70e-4a5e-8a13-be16db9ba915",
   "metadata": {},
   "outputs": [],
   "source": []
  },
  {
   "cell_type": "markdown",
   "id": "25000ffa",
   "metadata": {},
   "source": [
    "\n",
    "## 4. Dynamic Polymorphism\n",
    "\n",
    "[cite_start]**Definition**: The most common form of polymorphism, achieved via inheritance and method overriding. The specific method to be executed is determined at **runtime**, based on the object's actual type[cite: 31].\n",
    "\n",
    "[cite_start]This allows you to write general, flexible code that works on a whole family of objects[cite: 31].\n",
    "\n",
    "#### How it Simplifies Code\n",
    "[cite_start]Instead of rigid type-checking, you can use a clean, general loop[cite: 33].\n"
   ]
  },
  {
   "cell_type": "code",
   "execution_count": null,
   "id": "3926e421",
   "metadata": {},
   "outputs": [],
   "source": [
    "# Dynamic Polymorphism: Example\n",
    "class Notification:\n",
    "    def send(self, message): raise NotImplementedError\n",
    "\n",
    "class Email(Notification):\n",
    "    def send(self, message): print(f\"Sending '{message}' via Email\")\n",
    "\n",
    "class SMS(Notification):\n",
    "    def send(self, message): print(f\"Sending '{message}' via SMS\")\n",
    "\n",
    "# This function works with any object that is a 'Notification'\n",
    "def send_alert(notification_channel, message):\n",
    "    notification_channel.send(message)\n",
    "\n",
    "# The correct .send() method is called at runtime\n",
    "send_alert(Email(), \"Server is down!\")\n",
    "send_alert(SMS(), \"Server is down!\")"
   ]
  },
  {
   "cell_type": "code",
   "execution_count": 14,
   "id": "7f31f8d9-5461-4e8f-817b-13963c89d8b2",
   "metadata": {},
   "outputs": [],
   "source": [
    "# another example"
   ]
  },
  {
   "cell_type": "code",
   "execution_count": 15,
   "id": "6d2fcb1d-9207-4ea3-836e-6cb0bb394e98",
   "metadata": {},
   "outputs": [],
   "source": [
    "# Base class\n",
    "class Employee:\n",
    "    def __init__(self, name):\n",
    "        self.name = name\n",
    "\n",
    "    def calculate_pay(self):\n",
    "        # A generic placeholder implementation\n",
    "        raise NotImplementedError(\"Subclasses must implement this method\")"
   ]
  },
  {
   "cell_type": "code",
   "execution_count": 16,
   "id": "cb0138f3-6380-4fa3-b6b2-4e62cfb8384e",
   "metadata": {},
   "outputs": [],
   "source": [
    "# Subclass 1\n",
    "class SalariedEmployee(Employee):\n",
    "    def __init__(self, name, weekly_salary):\n",
    "        super().__init__(name)\n",
    "        self.weekly_salary = weekly_salary\n",
    "\n",
    "    def calculate_pay(self):\n",
    "        return self.weekly_salary\n",
    "\n",
    "# Subclass 2\n",
    "class HourlyEmployee(Employee):\n",
    "    def __init__(self, name, hours_worked, rate):\n",
    "        super().__init__(name)\n",
    "        self.hours_worked = hours_worked\n",
    "        self.rate = rate\n",
    "\n",
    "    def calculate_pay(self):\n",
    "        return self.hours_worked * self.rate"
   ]
  },
  {
   "cell_type": "code",
   "execution_count": 17,
   "id": "0a74cd1c-83d4-4ec7-9215-089049b3c08f",
   "metadata": {},
   "outputs": [],
   "source": [
    "# Base class\n",
    "class Employee:\n",
    "    def __init__(self, name):\n",
    "        self.name = name\n",
    "\n",
    "    def calculate_pay(self):\n",
    "        # A generic placeholder implementation\n",
    "        raise NotImplementedError(\"Subclasses must implement this method\")"
   ]
  },
  {
   "cell_type": "code",
   "execution_count": 18,
   "id": "b9a2c4ca-7566-4709-8ba0-b65991745abc",
   "metadata": {},
   "outputs": [
    {
     "name": "stdout",
     "output_type": "stream",
     "text": [
      "Alice's pay is: $1500\n",
      "Bob's pay is: $2000\n",
      "Charlie's pay is: $1575\n"
     ]
    }
   ],
   "source": [
    "# Create instances of the subclasses\n",
    "emp1 = SalariedEmployee(\"Alice\", 1500)\n",
    "emp2 = HourlyEmployee(\"Bob\", 40, 50)\n",
    "emp3 = HourlyEmployee(\"Charlie\", 35, 45)\n",
    "\n",
    "# Treat all objects as the base class type (Employee)\n",
    "employees = [emp1, emp2, emp3]\n",
    "\n",
    "# The same method call works differently for each object\n",
    "for employee in employees:\n",
    "    # Python dynamically checks the object's actual type at runtime\n",
    "    # and calls the correct calculate_pay() method.\n",
    "    pay = employee.calculate_pay()\n",
    "    print(f\"{employee.name}'s pay is: ${pay}\")"
   ]
  },
  {
   "cell_type": "markdown",
   "id": "19599b27-2fc4-4968-a767-a521840a54ce",
   "metadata": {},
   "source": [
    "## Assignement Polymorphism"
   ]
  },
  {
   "cell_type": "code",
   "execution_count": null,
   "id": "103da5f2-8dbb-47aa-b292-485ffd3b5988",
   "metadata": {},
   "outputs": [],
   "source": [
    "Task: Create a base class `Exporter` with a method `export(data)`.\n",
    "• Create two subclasses, `JSONExporter` and `CSVExporter`.\n",
    "• Each subclass should override `export()` to print a message indicating the format it's exporting to (e.g., \"Exporting data to JSON...\")."
   ]
  },
  {
   "cell_type": "code",
   "execution_count": null,
   "id": "3a39492f-b783-4e5a-8e9f-3fbc67cba9da",
   "metadata": {},
   "outputs": [],
   "source": []
  },
  {
   "cell_type": "markdown",
   "id": "8fc48d4f",
   "metadata": {},
   "source": [
    "\n",
    "## 5. Abstract Method and Class\n",
    "\n",
    "[cite_start]**Concept**: A formal way to enforce a contract on subclasses. An abstract class is a blueprint that cannot be instantiated itself[cite: 41, 42].\n",
    "\n",
    "An abstract method is declared in the blueprint but has no implementation. [cite_start]Subclasses **must** implement all inherited abstract methods[cite: 42].\n"
   ]
  },
  {
   "cell_type": "code",
   "execution_count": null,
   "id": "5bb99866",
   "metadata": {},
   "outputs": [],
   "source": [
    "# Abstract Class: Example\n",
    "from abc import ABC, abstractmethod\n",
    "\n",
    "class DataStorage(ABC):\n",
    "    @abstractmethod\n",
    "    def save(self, data):\n",
    "        pass\n",
    "\n",
    "    @abstractmethod\n",
    "    def load(self):\n",
    "        pass\n",
    "\n",
    "class FileStorage(DataStorage):\n",
    "    def save(self, data):\n",
    "        print(f\"Saving '{data}' to file...\")\n",
    "\n",
    "    def load(self):\n",
    "        print(\"Loading from file...\")\n",
    "        return \"some_data\"\n",
    "\n",
    "# you cannot create an instance of an abstract class\n",
    "# storage = DataStorage() # This would raise a TypeError\n",
    "\n",
    "# A concrete class can be instantiated\n",
    "file_handler = FileStorage()\n",
    "file_handler.save(\"My important data\")"
   ]
  },
  {
   "cell_type": "code",
   "execution_count": 20,
   "id": "dd11748c-9995-42d4-8f77-ce294ef738c1",
   "metadata": {},
   "outputs": [],
   "source": [
    "#another example"
   ]
  },
  {
   "cell_type": "code",
   "execution_count": 21,
   "id": "3bc956a6-7e2f-4bf0-85d7-8ce7518c2ffa",
   "metadata": {
    "scrolled": true
   },
   "outputs": [
    {
     "name": "stdout",
     "output_type": "stream",
     "text": [
      "Car engine starting with a key turn.\n",
      "Motorcycle engine starting with a kickstart.\n"
     ]
    }
   ],
   "source": [
    " from abc import ABC, abstractmethod\n",
    "\n",
    "# Abstract Class (Blueprint)\n",
    "class Vehicle(ABC):\n",
    "    @abstractmethod\n",
    "    def start_engine(self):\n",
    "        # This method has no code. It's a required rule.\n",
    "        pass\n",
    "\n",
    "# Concrete Subclass 1\n",
    "class Car(Vehicle):\n",
    "    def start_engine(self):\n",
    "        # Car provides its own implementation\n",
    "        print(\"Car engine starting with a key turn.\")\n",
    "\n",
    "# Concrete Subclass 2\n",
    "class Motorcycle(Vehicle):\n",
    "    def start_engine(self):\n",
    "        # Motorcycle also provides its own implementation\n",
    "        print(\"Motorcycle engine starting with a kickstart.\")\n",
    "\n",
    "# --- Usage ---\n",
    "my_car = Car()\n",
    "my_bike = Motorcycle()\n",
    "\n",
    "my_car.start_engine()    # Output: Car engine starting with a key turn.\n",
    "my_bike.start_engine()   # Output: Motorcycle engine starting with a kickstart.\n",
    "\n",
    "# This would cause an error because you can't create an object from a blueprint\n",
    "# my_vehicle = Vehicle() # TypeError: Can't instantiate abstract class Vehicle"
   ]
  },
  {
   "cell_type": "markdown",
   "id": "9c643b81-ed24-4f6a-89a0-2076efe4229a",
   "metadata": {},
   "source": [
    "## Assignment: Abstract Class"
   ]
  },
  {
   "cell_type": "code",
   "execution_count": null,
   "id": "831951b7-5e1a-43d3-af9f-c3b12b19f71d",
   "metadata": {},
   "outputs": [],
   "source": [
    "• Task: Create an abstract class `UIElement` with an abstract method `draw()`.\n",
    "• Create two concrete subclasses, `Button` and `TextBox`.\n",
    "• Each subclass must implement the `draw()` method to print a description of what it would look like on a screen.\n"
   ]
  },
  {
   "cell_type": "code",
   "execution_count": null,
   "id": "d89400de-b5ee-46c5-8e4f-fc62f1da259f",
   "metadata": {},
   "outputs": [],
   "source": []
  },
  {
   "cell_type": "markdown",
   "id": "89c53004",
   "metadata": {},
   "source": [
    "\n",
    "## 6. Empty Class\n",
    "\n",
    "[cite_start]**Definition**: A class with no methods or attributes, created using the `pass` keyword[cite: 50].\n",
    "\n",
    "[cite_start]**Use Case**: Often used as a simple, lightweight object to hold arbitrary data, where attributes are added dynamically after creation[cite: 50].\n"
   ]
  },
  {
   "cell_type": "code",
   "execution_count": null,
   "id": "be6b1742",
   "metadata": {},
   "outputs": [],
   "source": [
    "# Empty Class: Example\n",
    "# A simple namespace object\n",
    "class Config:\n",
    "    pass\n",
    "\n",
    "settings = Config()\n",
    "settings.api_key = \"xyz123\"\n",
    "settings.timeout = 30\n",
    "settings.retries = 3\n",
    "\n",
    "print(f\"API Key: {settings.api_key}\")\n",
    "print(f\"Timeout: {settings.timeout}s"
   ]
  },
  {
   "cell_type": "code",
   "execution_count": 22,
   "id": "b3614a61-ab54-4523-b03c-9ca6289a5d07",
   "metadata": {},
   "outputs": [],
   "source": [
    "#another example"
   ]
  },
  {
   "cell_type": "code",
   "execution_count": 23,
   "id": "b381dd75-757f-4173-ad42-c7481af7149a",
   "metadata": {},
   "outputs": [
    {
     "name": "stdout",
     "output_type": "stream",
     "text": [
      "Player: Arif, Score: 100\n"
     ]
    }
   ],
   "source": [
    "# Defining an empty class\n",
    "class GameObject:\n",
    "    pass\n",
    "\n",
    "# Creating an instance\n",
    "player = GameObject()\n",
    "\n",
    "# Now we can add attributes to this empty object dynamically\n",
    "player.name = \"Arif\"\n",
    "player.score = 100\n",
    "player.position = (10, 20)\n",
    "\n",
    "print(f\"Player: {player.name}, Score: {player.score}\")\n",
    "# Output: Player: Arif, Score: 100"
   ]
  },
  {
   "cell_type": "markdown",
   "id": "cfa2362e-5ed1-40c7-8653-037c223bae94",
   "metadata": {},
   "source": [
    "## Assignment: Empty Class"
   ]
  },
  {
   "cell_type": "code",
   "execution_count": null,
   "id": "f908c4b9-27b3-49ff-854f-e8965f0eebc0",
   "metadata": {},
   "outputs": [],
   "source": [
    "• Task: Create an empty class named `SceneNode`.\u000b",
    "• Create an instance of it named `root`.\n",
    "• Dynamically add three attributes to `root`: `name` (string), `position` (a tuple), and `children` (an empty list).\n"
   ]
  },
  {
   "cell_type": "code",
   "execution_count": null,
   "id": "59bfdfab-85bf-4ccc-b856-6445c9dbe09d",
   "metadata": {},
   "outputs": [],
   "source": []
  },
  {
   "cell_type": "markdown",
   "id": "b1b94e08",
   "metadata": {},
   "source": [
    "\n",
    "## 7. Data Class\n",
    "\n",
    "[cite_start]**Concept**: A class designed primarily to hold data. Using the `@dataclass` decorator automatically generates boilerplate code like `__init__`, `__repr__`, `__eq__`, etc[cite: 56].\n",
    "\n",
    "[cite_start]**Benefit**: Reduces code, prevents bugs, and makes intent clear[cite: 56].\n"
   ]
  },
  {
   "cell_type": "code",
   "execution_count": null,
   "id": "53a97305",
   "metadata": {},
   "outputs": [],
   "source": [
    "# Data Class: Example\n",
    "from dataclasses import dataclass\n",
    "\n",
    "# Before (Manual)\n",
    "class ManualPoint:\n",
    "    def __init__(self, x, y):\n",
    "        self.x = x\n",
    "        self.y = y\n",
    "    def __repr__(self):\n",
    "        return f\"ManualPoint(x={self.x}, y={self.y})\"\n",
    "\n",
    "# After (Automatic with dataclass)\n",
    "@dataclass\n",
    "class Point:\n",
    "    x: int\n",
    "    y: int\n",
    "\n",
    "p1 = ManualPoint(10, 20)\n",
    "p2 = Point(10, 20)\n",
    "\n",
    "print(f\"Manual Class: {p1}\")\n",
    "print(f\"Data Class:   {p2}"
   ]
  },
  {
   "cell_type": "code",
   "execution_count": 24,
   "id": "70ea8789-ffee-4089-94dd-0d3eab9c1763",
   "metadata": {},
   "outputs": [],
   "source": [
    "#another exaple"
   ]
  },
  {
   "cell_type": "code",
   "execution_count": 25,
   "id": "cb446dcc-7b3b-4be3-988e-d06ff77a3aed",
   "metadata": {},
   "outputs": [
    {
     "name": "stdout",
     "output_type": "stream",
     "text": [
      "Point(x=1, y=2)\n",
      "True\n"
     ]
    }
   ],
   "source": [
    "class Point:\n",
    "    def __init__(self, x, y):\n",
    "        self.x = x\n",
    "        self.y = y\n",
    "    \n",
    "    def __repr__(self):\n",
    "        return f\"Point(x={self.x}, y={self.y})\"\n",
    "        \n",
    "    def __eq__(self, other):\n",
    "        return (self.x, self.y) == (other.x, other.y)\n",
    "\n",
    "p1 = Point(1, 2)\n",
    "print(p1) # Output: Point(x=1, y=2)\n",
    "p2 = Point(1,2)\n",
    "print(p1==p2)"
   ]
  },
  {
   "cell_type": "code",
   "execution_count": 26,
   "id": "a9a728c5-27f8-4f3f-9dbd-e321f6f5b85e",
   "metadata": {},
   "outputs": [
    {
     "name": "stdout",
     "output_type": "stream",
     "text": [
      "Point(x=1, y=2)\n",
      "True\n"
     ]
    }
   ],
   "source": [
    "from dataclasses import dataclass\n",
    "\n",
    "@dataclass\n",
    "class Point:\n",
    "    x: int\n",
    "    y: int\n",
    "\n",
    "# The __init__, __repr__, and __eq__ methods are all created automatically!\n",
    "p1 = Point(1, 2)\n",
    "p2 = Point(1, 2)\n",
    "\n",
    "print(p1)         # Output: Point(x=1, y=2)\n",
    "print(p1 == p2)   # Output: True"
   ]
  },
  {
   "cell_type": "markdown",
   "id": "317b99c1-afd7-4979-adc6-b4262bed3ce8",
   "metadata": {},
   "source": [
    "## Assignment: Data Class"
   ]
  },
  {
   "cell_type": "code",
   "execution_count": null,
   "id": "8fd731de-3832-4d3b-99bd-af13595d4eb4",
   "metadata": {},
   "outputs": [],
   "source": [
    "• Task: You have a regular class for storing user information.\n",
    "class User:\n",
    "    def __init__(self, user_id, username, email):\n",
    "        self.user_id = user_id\n",
    "        self.username = username\n",
    "        self.email = email\n",
    "• Your task is to convert this into a Data Class.\n"
   ]
  },
  {
   "cell_type": "markdown",
   "id": "2c5d85b4",
   "metadata": {},
   "source": [
    "\n",
    "## 8. Keyword Arguments\n",
    "\n",
    "[cite_start]**Definition**: Arguments passed to a function by specifying the parameter name (`key=value`)[cite: 63].\n",
    "\n",
    "[cite_start]**Benefits**[cite: 63, 64]:\n",
    "- **Clarity**: The argument's purpose is obvious.\n",
    "- **Flexibility**: The order of arguments doesn't matter.\n",
    "- **Defaults**: Ideal for optional parameters with default values.\n"
   ]
  },
  {
   "cell_type": "code",
   "execution_count": null,
   "id": "7c22eb28",
   "metadata": {},
   "outputs": [],
   "source": [
    "# Keyword Arguments: Example\n",
    "def connect(host, port=5432, user=\"admin\", ssl=False):\n",
    "    print(\"--- Connection Details ---\")\n",
    "    print(f\"Connecting to {host}:{port} as {user}...\")\n",
    "    print(f\"SSL Enabled: {ssl}\")\n",
    "\n",
    "# Call using positional and default arguments\n",
    "connect(\"db.example.com\")\n",
    "\n",
    "# Call overriding defaults using keywords, out of order\n",
    "connect(\"db.example.com\", ssl=True, user=\"guest\")"
   ]
  },
  {
   "cell_type": "code",
   "execution_count": 27,
   "id": "bea53709-7c96-4a8b-a04d-164a25769361",
   "metadata": {},
   "outputs": [],
   "source": [
    "#another example"
   ]
  },
  {
   "cell_type": "code",
   "execution_count": 28,
   "id": "427cf666-833d-4f90-bf99-0c51f354fbf2",
   "metadata": {
    "scrolled": true
   },
   "outputs": [
    {
     "name": "stdout",
     "output_type": "stream",
     "text": [
      "Creating profile for Zoya.\n",
      "Role: user\n",
      "Status: Active\n",
      "--------------------\n",
      "Creating profile for Bilal.\n",
      "Role: admin\n",
      "Status: Active\n",
      "--------------------\n",
      "Creating profile for Fatima.\n",
      "Role: moderator\n",
      "Status: Inactive\n",
      "--------------------\n"
     ]
    }
   ],
   "source": [
    "def create_profile(name, role=\"user\", is_active=True):\n",
    "    print(f\"Creating profile for {name}.\")\n",
    "    print(f\"Role: {role}\")\n",
    "    print(f\"Status: {'Active' if is_active else 'Inactive'}\")\n",
    "    print(\"-\" * 20)\n",
    "\n",
    "# --- Calling the function in different ways ---\n",
    "\n",
    "# 1. Using only the required positional argument\n",
    "create_profile(\"Zoya\")\n",
    "\n",
    "# 2. Overriding one default value using its keyword\n",
    "create_profile(\"Bilal\", role=\"admin\")\n",
    "\n",
    "# 3. Overriding all defaults, in a different order\n",
    "create_profile(\"Fatima\", is_active=False, role=\"moderator\")"
   ]
  },
  {
   "cell_type": "code",
   "execution_count": null,
   "id": "dbfdcf77-30e8-4985-8706-a9f99b81e697",
   "metadata": {},
   "outputs": [],
   "source": []
  },
  {
   "cell_type": "markdown",
   "id": "00386811-0917-4757-bd04-339f837e1b96",
   "metadata": {},
   "source": [
    "## Assignment: Keyword Arguments"
   ]
  },
  {
   "cell_type": "code",
   "execution_count": null,
   "id": "2c524afb-a0fa-46ce-afa8-d9f68c378893",
   "metadata": {},
   "outputs": [],
   "source": [
    "• Task: Write a function `generate_invitation`.\u000b",
    "• It must take a required positional argument `guest_name`.\n",
    "• It should also take two optional keyword arguments: `event_name` (defaulting to \"Grand Gala\") and `date` (defaulting to \"TBD\").\n"
   ]
  },
  {
   "cell_type": "code",
   "execution_count": null,
   "id": "a1cd8c89-d4bc-4af3-b1dd-8949766ecc41",
   "metadata": {},
   "outputs": [],
   "source": []
  }
 ],
 "metadata": {
  "kernelspec": {
   "display_name": "Python 3 (ipykernel)",
   "language": "python",
   "name": "python3"
  },
  "language_info": {
   "codemirror_mode": {
    "name": "ipython",
    "version": 3
   },
   "file_extension": ".py",
   "mimetype": "text/x-python",
   "name": "python",
   "nbconvert_exporter": "python",
   "pygments_lexer": "ipython3",
   "version": "3.12.7"
  }
 },
 "nbformat": 4,
 "nbformat_minor": 5
}
