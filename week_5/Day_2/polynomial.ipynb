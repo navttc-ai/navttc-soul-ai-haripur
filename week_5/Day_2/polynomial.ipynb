{
 "cells": [
  {
   "cell_type": "markdown",
   "id": "dfad3530",
   "metadata": {},
   "source": [
    "# 📘 Introduction to Polynomial Regression for AI Beginners"
   ]
  },
  {
   "cell_type": "markdown",
   "id": "bf1a15aa",
   "metadata": {},
   "source": [
    "### Welcome to Your Introduction to Polynomial Regression! 🎉\n",
    "\n",
    "In this 2-hour session, we're going to explore a powerful tool used in AI and data science: **Polynomial Regression**.\n",
    "\n",
    "Ever tried to draw a straight line through a set of points that follow a curve? It doesn't work very well, right? Linear regression is great for straight-line relationships, but the real world is often more complex and curvy. That's where Polynomial Regression comes in! It helps us model these more complex, non-linear patterns.\n",
    "\n",
    "--- \n",
    "\n",
    "### 🎯 Learning Objectives\n",
    "By the end of this session, you will be able to:\n",
    "1.  **Understand** what Polynomial Regression is and why it's useful.\n",
    "2.  **Explain** how it extends simple linear regression.\n",
    "3.  **Write Python code** to build a simple Polynomial Regression model using `scikit-learn`.\n",
    "4.  **Visualize** the results to see how well the model fits the data.\n",
    "5.  **Recognize** the importance of choosing the right polynomial degree to avoid common pitfalls like overfitting."
   ]
  },
  {
   "cell_type": "markdown",
   "id": "cbc7799d",
   "metadata": {},
   "source": [
    "## Topic 1: What is Polynomial Regression?\n",
    "\n",
    "Polynomial Regression is a type of regression where the relationship between the input `x` and the output `y` is modeled as an *n-th degree polynomial*.\n",
    "\n",
    "Think of it like this:\n",
    "- **Linear Regression** = Drawing a straight line.\n",
    "- **Polynomial Regression** = Drawing a curve.\n",
    "\n",
    "This allows us to capture more complex relationships in our data. For example, the growth of a plant might be slow at first, then speed up, and finally slow down again. A simple straight line can't show this, but a curve can!"
   ]
  },
  {
   "cell_type": "markdown",
   "id": "76d80b1e",
   "metadata": {},
   "source": [
    "### The Mathematical Formula ➗\n",
    "\n",
    "A simple straight line (linear regression) looks like this:\n",
    "\n",
    "`y = β₀ + β₁x`\n",
    "\n",
    "To make it capable of curving, we add more 'terms' with higher powers of `x` (like x², x³, etc.). This is the polynomial regression formula:\n",
    "\n",
    "**`y = β₀ + β₁x + β₂x² + ... + βₙxⁿ + ε`**\n",
    "\n",
    "- **`y`**: The value we want to predict.\n",
    "- **`x`**: Our input feature.\n",
    "- **`β₀, β₁, β₂, ...`**: These are the coefficients (weights) our model learns. They decide the shape of the curve.\n",
    "- **`n`**: This is the **degree** of the polynomial. It determines how curvy our line can be.\n",
    "  - **Degree 1:** A straight line (just like linear regression).\n",
    "  - **Degree 2:** A parabola (a simple 'U' shape).\n",
    "  - **Degree 3:** A more complex curve with up to two bends.\n",
    "\n",
    "💡 **Fun Fact:** Even though we are fitting a curve to the data, it's still considered a type of **linear model**. Why? Because the equation is linear in terms of the coefficients (`β`) we are trying to learn!"
   ]
  },
  {
   "cell_type": "markdown",
   "id": "20aa5b71",
   "metadata": {},
   "source": [
    "## Topic 2: How It Works - The Logic ⚙️\n",
    "\n",
    "The magic of polynomial regression is a clever trick. We transform our simple problem into something a linear regression model can solve.\n",
    "\n",
    "Here's the two-step process:\n",
    "\n",
    "1.  **Feature Transformation**: We take our single input feature, `x`, and create new features from it by raising it to different powers. If we choose degree 2, we transform `x` into `x` and `x²`.\n",
    "\n",
    "    `[x]` becomes `[x, x²]`\n",
    "\n",
    "2.  **Model Fitting**: We then fit a **multiple linear regression** model on these new features. The model doesn't know that `x²` came from `x`; it just treats them as two separate inputs to find the best-fitting line (which is actually a curve in our original data!).\n",
    "\n",
    "Let's see this in action with Python!"
   ]
  },
  {
   "cell_type": "markdown",
   "id": "6b4d8d0b",
   "metadata": {},
   "source": [
    "## Topic 3: Python Coding Example 💻\n",
    "\n",
    "We'll use the popular `scikit-learn` library to build our model. Let's imagine we have data that perfectly follows the curve `y = x²`."
   ]
  },
  {
   "cell_type": "code",
   "execution_count": 1,
   "id": "df79a1de",
   "metadata": {},
   "outputs": [
    {
     "name": "stdout",
     "output_type": "stream",
     "text": [
      "Original X values:\n",
      " [[1]\n",
      " [2]\n",
      " [3]\n",
      " [4]\n",
      " [5]\n",
      " [6]]\n",
      "\n",
      "Original y values: [ 1  4  9 16 25 36]\n"
     ]
    }
   ],
   "source": [
    "# Step 1: Import necessary libraries\n",
    "import numpy as np\n",
    "import matplotlib.pyplot as plt\n",
    "from sklearn.linear_model import LinearRegression\n",
    "from sklearn.preprocessing import PolynomialFeatures\n",
    "\n",
    "# Step 2: Create some sample data with a non-linear relationship\n",
    "# Here, y is exactly the square of X\n",
    "X = np.array([1, 2, 3, 4, 5, 6]).reshape(-1, 1) # Input feature\n",
    "y = np.array([1, 4, 9, 16, 25, 36]) # Target variable (y = X^2)\n",
    "\n",
    "print(\"Original X values:\\n\", X)\n",
    "print(\"\\nOriginal y values:\", y)"
   ]
  },
  {
   "cell_type": "markdown",
   "id": "a60ef093",
   "metadata": {},
   "source": [
    "Now, let's do the **feature transformation** we talked about. We'll turn our `X` into `X` and `X²`."
   ]
  },
  {
   "cell_type": "code",
   "execution_count": 2,
   "id": "765d4881",
   "metadata": {},
   "outputs": [
    {
     "name": "stdout",
     "output_type": "stream",
     "text": [
      "Transformed X_poly values (X, X^2):\n",
      " [[ 1.  1.]\n",
      " [ 2.  4.]\n",
      " [ 3.  9.]\n",
      " [ 4. 16.]\n",
      " [ 5. 25.]\n",
      " [ 6. 36.]]\n"
     ]
    }
   ],
   "source": [
    "# Step 3: Transform features to include polynomial terms (degree 2)\n",
    "poly_features = PolynomialFeatures(degree=2, include_bias=False) # We want degree 2 (x and x^2)\n",
    "X_poly = poly_features.fit_transform(X)\n",
    "\n",
    "print(\"Transformed X_poly values (X, X^2):\\n\", X_poly)"
   ]
  },
  {
   "cell_type": "markdown",
   "id": "a12e998a",
   "metadata": {},
   "source": [
    "See? Our `X` data, which was just `[1, 2, 3...]`, is now `[[1, 1], [2, 4], [3, 9]...]`. The model can now use both columns to predict `y`.\n",
    "\n",
    "Let's fit a linear model to this transformed data."
   ]
  },
  {
   "cell_type": "code",
   "execution_count": 3,
   "id": "6b306988",
   "metadata": {},
   "outputs": [
    {
     "name": "stdout",
     "output_type": "stream",
     "text": [
      "Coefficients (for X and X^2): [5.30788129e-16 1.00000000e+00]\n",
      "Intercept: -5.329070518200751e-15\n"
     ]
    }
   ],
   "source": [
    "# Step 4: Fit a linear regression model to the transformed features\n",
    "model = LinearRegression()\n",
    "model.fit(X_poly, y)\n",
    "\n",
    "# Print the learned coefficients and intercept\n",
    "# We expect the coefficient for X to be near 0, and for X^2 to be near 1\n",
    "print(f\"Coefficients (for X and X^2): {model.coef_}\")\n",
    "print(f\"Intercept: {model.intercept_}\")\n",
    "\n",
    "# Because of how floating point numbers work, the values are very close to 0 and 1, which is perfect!"
   ]
  },
  {
   "cell_type": "markdown",
   "id": "41a06674",
   "metadata": {},
   "source": [
    "Finally, let's visualize our results to see the beautiful curve we've fitted!"
   ]
  },
  {
   "cell_type": "code",
   "execution_count": 4,
   "id": "0edc772e",
   "metadata": {},
   "outputs": [
    {
     "data": {
      "image/png": "[encoded data removed]",
      "text/plain": [
       "<Figure size 640x480 with 1 Axes>"
      ]
     },
     "metadata": {},
     "output_type": "display_data"
    }
   ],
   "source": [
    "# Step 5: Plot the results to see our model in action\n",
    "\n",
    "# Create a smooth line for plotting our model's predictions\n",
    "X_new = np.linspace(0, 7, 100).reshape(-1, 1)\n",
    "X_new_poly = poly_features.transform(X_new)\n",
    "y_new = model.predict(X_new_poly)\n",
    "\n",
    "# Plot the original data points\n",
    "plt.scatter(X, y, label='Original Data')\n",
    "\n",
    "# Plot the polynomial regression curve\n",
    "plt.plot(X_new, y_new, 'r-', label='Polynomial Regression (Degree 2)')\n",
    "\n",
    "# Add labels and title\n",
    "plt.xlabel('X')\n",
    "plt.ylabel('y')\n",
    "plt.title('Polynomial Regression Example')\n",
    "plt.legend()\n",
    "plt.show()"
   ]
  },
  {
   "cell_type": "markdown",
   "id": "385559b4",
   "metadata": {},
   "source": [
    "### 🎯 Practice Task\n",
    "\n",
    "Let's experiment! Go back to the code cell where we created `poly_features`.\n",
    "\n",
    "1.  Change `degree=2` to `degree=3` and re-run all the cells after it.\n",
    "2.  Then, change it to `degree=1` and re-run them again.\n",
    "\n",
    "**Question:** What happens to the red line in the plot each time? Does it still fit the data well?"
   ]
  },
  {
   "cell_type": "markdown",
   "id": "e0236af7",
   "metadata": {},
   "source": [
    "## Topic 4: The Danger of Choosing the Wrong Degree\n",
    "\n",
    "The `degree` is a hyperparameter you must choose carefully. It controls the **bias-variance tradeoff**.\n",
    "\n",
    "🔵 **Low Degree (e.g., 1): Underfitting**\n",
    "- The model is too simple (a straight line trying to fit a curve).\n",
    "- It can't capture the underlying pattern in the data.\n",
    "- This is called **high bias**.\n",
    "\n",
    "🔴 **High Degree (e.g., 15): Overfitting**\n",
    "- The model is too complex and flexible.\n",
    "- It tries to fit every single point perfectly, including the random noise!\n",
    "- It will look great on the data it was trained on, but will fail badly on new, unseen data.\n",
    "- This is called **high variance**.\n",
    "\n",
    "**The Goal:** Find a degree that is 'just right'—complex enough to capture the trend, but simple enough to not fit the noise."
   ]
  },
  {
   "cell_type": "markdown",
   "id": "d1b14354",
   "metadata": {},
   "source": [
    "### 🧠 Practice Task\n",
    "\n",
    "Imagine you are modeling the relationship between the number of hours spent studying and exam scores. You notice that initially, scores increase, but after too many hours, they start to decline (due to fatigue).\n",
    "\n",
    "**Question**: What degree would you start with for your polynomial model and why? (Hint: Think about the shape of the curve described)."
   ]
  },
  {
   "cell_type": "markdown",
   "id": "c50ae8d7",
   "metadata": {},
   "source": [
    "## 🏡 Final Revision Assignment\n",
    "\n",
    "Time to practice what you've learned! Here are a few exercises to work on. Don't worry, they are all beginner-friendly."
   ]
  },
  {
   "cell_type": "markdown",
   "id": "eacb7272",
   "metadata": {},
   "source": [
    "### Task 1: Conceptual Question (Short Answer)\n",
    "\n",
    "In your own words, explain why Polynomial Regression is still considered a 'linear' model, even though it produces a curved line."
   ]
  },
  {
   "cell_type": "markdown",
   "id": "ce00d0c3",
   "metadata": {},
   "source": [
    "### Task 2: Multiple Choice\n",
    "\n",
    "If you fit a polynomial regression model with a very high degree to your training data, what is the most likely outcome?\n",
    "\n",
    "a) High bias, low variance\n",
    "b) Low bias, high variance (Overfitting)\n",
    "c) Low bias, low variance\n",
    "d) High bias, high variance"
   ]
  },
  {
   "cell_type": "markdown",
   "id": "d97cb86c",
   "metadata": {},
   "source": [
    "### Task 3: Problem Solving\n",
    "\n",
    "Given the dataset `X = [0, 1, 2]` and `y = [1, 3, 7]`, what would be the transformed features `X_poly` if you use a polynomial of degree 2? (You can write code to solve this or figure it out manually!)"
   ]
  },
  {
   "cell_type": "code",
   "execution_count": null,
   "id": "171c033e",
   "metadata": {},
   "outputs": [],
   "source": [
    "# Use this cell to solve Task 3\n",
    "X_task = np.array([0, 1, 2]).reshape(-1, 1)\n",
    "\n",
    "# Your code here to create the PolynomialFeatures transformer and apply it\n",
    "# poly_features_task = ...\n",
    "# X_poly_task = ...\n",
    "\n",
    "# print(X_poly_task)"
   ]
  },
  {
   "cell_type": "markdown",
   "id": "b2326dd6",
   "metadata": {},
   "source": [
    "### Task 4: Describe a Real-World Scenario\n",
    "\n",
    "Besides the examples we've discussed (plant growth, studying), describe another real-world scenario where a polynomial regression model would be more appropriate than a simple linear regression model. Explain why."
   ]
  },
  {
   "cell_type": "markdown",
   "id": "c5df6510",
   "metadata": {},
   "source": [
    "### Task 5: Code Modification - Adding Noise\n",
    "\n",
    "Copy the code from our main example. Before fitting the model, add some random 'noise' to the `y` variable. How does this affect the final plotted curve? Is the fit still perfect?\n",
    "\n",
    "**Hint**: You can add noise like this: `y_noisy = y + np.random.randn(len(y)) * 4` (The `* 4` just makes the noise bigger and more obvious)."
   ]
  },
  {
   "cell_type": "code",
   "execution_count": null,
   "id": "13af6845",
   "metadata": {},
   "outputs": [],
   "source": [
    "# Use this cell for Task 5. Copy the full example code here and modify it.\n"
   ]
  },
  {
   "cell_type": "markdown",
   "id": "ddc11129",
   "metadata": {},
   "source": [
    "## 🌟 Summary & Key Takeaways\n",
    "\n",
    "*   **Definition:** Polynomial regression models non-linear relationships by fitting a polynomial equation to the data.\n",
    "*   **Flexibility:** It can capture more complex patterns than simple linear regression.\n",
    "*   **How it Works:** It's a special case of multiple linear regression where we first create new features by raising our input `x` to different powers.\n",
    "*   **Degree is Key:** The degree of the polynomial is a critical choice that controls the model's complexity. You must choose carefully to avoid **overfitting** or **underfitting**.\n",
    "*   **Practical Applications:** Widely used in science, finance, and engineering to model non-linear phenomena.\n",
    "\n",
    "✅ **Well done! You've learned the fundamentals of Polynomial Regression!**"
   ]
  }
 ],
 "metadata": {
  "kernelspec": {
   "display_name": "Python 3 (ipykernel)",
   "language": "python",
   "name": "python3"
  },
  "language_info": {
   "codemirror_mode": {
    "name": "ipython",
    "version": 3
   },
   "file_extension": ".py",
   "mimetype": "text/x-python",
   "name": "python",
   "nbconvert_exporter": "python",
   "pygments_lexer": "ipython3",
   "version": "3.12.7"
  }
 },
 "nbformat": 4,
 "nbformat_minor": 5
}
