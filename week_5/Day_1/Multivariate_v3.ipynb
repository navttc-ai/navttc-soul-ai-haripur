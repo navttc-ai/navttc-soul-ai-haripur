{
 "cells": [
  {
   "cell_type": "markdown",
   "id": "dea637f1",
   "metadata": {},
   "source": [
    "# 🚀 Introduction to Multivariate Linear Regression in Python\n",
    "\n",
    "Welcome to your first step into the world of AI and Machine Learning! In this 2-hour session, we'll explore one of the most fundamental and powerful tools in data science: **Multivariate Linear Regression**.\n",
    "\n",
    "Don't worry if that sounds complicated. We'll break it down into simple, easy-to-understand pieces. Let's get started!"
   ]
  },
  {
   "cell_type": "markdown",
   "id": "5c52bbbe",
   "metadata": {},
   "source": [
    "## 📘 Learning Objectives\n",
    "\n",
    "By the end of this session, you will be able to:\n",
    "\n",
    "1.  **Understand** what Multivariate Linear Regression is and why it's so useful.\n",
    "2.  **Identify** the key components of the regression equation.\n",
    "3.  **Create** your own dataset for practice using Python.\n",
    "4.  **Build, Train, and Test** a simple regression model with the `scikit-learn` library.\n",
    "5.  **Interpret** the results to see how well your model performs."
   ]
  },
  {
   "cell_type": "markdown",
   "id": "a7272e22",
   "metadata": {},
   "source": [
    "## Topic 1: What is Multivariate Linear Regression?\n",
    "\n",
    "Imagine you want to predict a student's final exam score. You could try to predict it based on just one thing, like *how many hours they studied*. That's called **Simple Linear Regression**.\n",
    "\n",
    "But what if other factors matter too? Like their *class attendance* or their *score on a previous test*? \n",
    "\n",
    "When you use **multiple input factors** (like `hours_studied`, `attendance`, `previous_score`) to predict a **single output** (like `final_score`), you're doing **Multivariate Linear Regression**! \n",
    "\n",
    "It's a cornerstone of machine learning because it helps us understand complex relationships in data and make predictions. The goal is to find the \"best fit\" that describes how all the inputs work together to influence the output."
   ]
  },
  {
   "cell_type": "markdown",
   "id": "68020a7b",
   "metadata": {},
   "source": [
    "## Topic 2: The Core Equation 📜\n",
    "\n",
    "At its heart, linear regression uses a simple mathematical equation. It might look intimidating, but it's just like a recipe!\n",
    "\n",
    "**Y = β₀ + β₁X₁ + β₂X₂ + ... + βₚXₚ + ε**\n",
    "\n",
    "Let's break it down:\n",
    "\n",
    "-   **Y**: The value we want to predict (e.g., the final exam score).\n",
    "-   **X₁, X₂, ...**: Our input features or predictors (e.g., hours studied, attendance).\n",
    "-   **β₁, β₂, ...**: The **coefficients**. These are the most important numbers! They tell us how much each input `X` affects the output `Y`. A positive coefficient means the score goes up, and a negative one means it goes down.\n",
    "-   **β₀**: The **intercept** or \"baseline\". It's the predicted value of `Y` if all our inputs were zero.\n",
    "-   **ε**: The **error term**. No model is perfect! This represents the part of `Y` that our model can't explain."
   ]
  },
  {
   "cell_type": "markdown",
   "id": "84be8d22",
   "metadata": {},
   "source": [
    "## Topic 3: Setting Up Our Python Environment\n",
    "\n",
    "To build our model, we need some powerful tools (libraries). We'll import them first.\n",
    "\n",
    "-   `numpy`: For efficient numerical operations.\n",
    "-   `pandas`: For creating and managing our data in a table-like structure called a DataFrame.\n",
    "-   `scikit-learn`: The master library for machine learning in Python! We'll use specific tools from it."
   ]
  },
  {
   "cell_type": "code",
   "execution_count": 1,
   "id": "18b1289a",
   "metadata": {},
   "outputs": [
    {
     "name": "stdout",
     "output_type": "stream",
     "text": [
      "✅ Libraries imported successfully!\n"
     ]
    }
   ],
   "source": [
    "# This cell imports all the libraries we need for this session\n",
    "import numpy as np\n",
    "import pandas as pd\n",
    "from sklearn.linear_model import LinearRegression\n",
    "from sklearn.model_selection import train_test_split\n",
    "from sklearn.metrics import mean_squared_error, r2_score\n",
    "\n",
    "print(\"✅ Libraries imported successfully!\")"
   ]
  },
  {
   "cell_type": "markdown",
   "id": "7000cc97",
   "metadata": {},
   "source": [
    "### 🎯 Practice Task\n",
    "\n",
    "Run the code cell above by clicking on it and pressing **Shift + Enter**. If you see the \"Libraries imported successfully!\" message, you're ready to go! \n",
    "\n",
    "**Quick Question:** What does `as np` do? It creates a shorter nickname or 'alias' for the `numpy` library, so we can type `np` instead of `numpy` every time. It's a common convention among Python programmers!"
   ]
  },
  {
   "cell_type": "markdown",
   "id": "7e5accc7",
   "metadata": {},
   "source": [
    "## Topic 4: Creating Our Data\n",
    "\n",
    "In a real project, you would load data from a file (like a CSV). For this lesson, we'll generate our own *synthetic* (fake) data. This gives us full control and helps us understand the process better.\n",
    "\n",
    "We'll create data for 100 students, with three features: `Hours_Studied`, `Attendance`, and `Previous_Score`."
   ]
  },
  {
   "cell_type": "code",
   "execution_count": 2,
   "id": "713682fa",
   "metadata": {},
   "outputs": [
    {
     "name": "stdout",
     "output_type": "stream",
     "text": [
      "Feature data generated!\n"
     ]
    }
   ],
   "source": [
    "# We use np.random.seed(42) to make sure we all get the same 'random' numbers.\n",
    "# This makes our results reproducible!\n",
    "np.random.seed(42)\n",
    "\n",
    "# Number of students (samples)\n",
    "n_samples = 100\n",
    "\n",
    "# Generate our features (the 'X' variables)\n",
    "hours_studied = np.random.rand(n_samples) * 10  # Random hours between 0 and 10\n",
    "attendance = np.random.rand(n_samples) * 5     # Random attendance score between 0 and 5\n",
    "previous_score = np.random.rand(n_samples) * 100 # Random previous score between 0 and 100\n",
    "\n",
    "print(\"Feature data generated!\")"
   ]
  },
  {
   "cell_type": "markdown",
   "id": "cac1fe28",
   "metadata": {},
   "source": [
    "Now, let's create the final scores (the `Y` variable). We'll define a \"true\" relationship using our own coefficients, and then add some random noise to make it more realistic."
   ]
  },
  {
   "cell_type": "code",
   "execution_count": null,
   "id": "befc92e7",
   "metadata": {},
   "outputs": [],
   "source": [
    "# These are the 'true' coefficients we are setting for our data generation\n",
    "# Our model will later try to 'learn' these numbers from the data!\n",
    "beta_0 = 30           # Intercept (baseline score)\n",
    "beta_hours = 5        # For every hour studied, score increases by 5\n",
    "beta_attendance = -3  # For every point in attendance, score DECREASES by 3 (maybe a mistake in data?)\n",
    "beta_prev = 0.5       # 50% of the previous score is carried over\n",
    "\n",
    "# Add some random noise because no real-world data is perfect\n",
    "errors = np.random.randn(n_samples) * 5\n",
    "\n",
    "# Calculate the final scores using our linear equation\n",
    "scores = (beta_0 +\n",
    "          beta_hours * hours_studied +\n",
    "          beta_attendance * attendance +\n",
    "          beta_prev * previous_score +\n",
    "          errors)\n",
    "\n",
    "print(\"Target variable 'scores' created!\")"
   ]
  },
  {
   "cell_type": "markdown",
   "id": "7adb6774",
   "metadata": {},
   "source": [
    "Finally, let's put it all together in a `pandas` DataFrame, which is like a spreadsheet for our data."
   ]
  },
  {
   "cell_type": "code",
   "execution_count": null,
   "id": "b40aaffa",
   "metadata": {},
   "outputs": [],
   "source": [
    "# Create a dictionary to hold our data\n",
    "data_dict = {\n",
    "    'Hours_Studied': hours_studied,\n",
    "    'Attendance': attendance,\n",
    "    'Previous_Score': previous_score,\n",
    "    'Score': scores\n",
    "}\n",
    "\n",
    "# Create the DataFrame\n",
    "data = pd.DataFrame(data_dict)\n",
    "\n",
    "# Display the first 5 rows to see what it looks like\n",
    "data.head()"
   ]
  },
  {
   "cell_type": "markdown",
   "id": "35ec74eb",
   "metadata": {},
   "source": [
    "### 🎯 Practice Task\n",
    "\n",
    "In the code cell below, use the `data.describe()` command to see some summary statistics (like mean, min, max) of our dataset. \n",
    "\n",
    "Can you find the average `Previous_Score` from the output?"
   ]
  },
  {
   "cell_type": "code",
   "execution_count": null,
   "id": "d53e567d",
   "metadata": {},
   "outputs": [],
   "source": [
    "# Your code here! Type data.describe()\n"
   ]
  },
  {
   "cell_type": "markdown",
   "id": "21c4f3a3",
   "metadata": {},
   "source": [
    "## Topic 5: Preparing Data for the Model\n",
    "\n",
    "Before we can train our model, we need to do two things:\n",
    "\n",
    "1.  **Separate Features (X) and Target (y):** We need to tell the model which columns are the inputs (`X`) and which column is the output we want to predict (`y`).\n",
    "2.  **Split Data into Training and Testing Sets:** This is a crucial step in machine learning. \n",
    "    -   **Training Set:** The model `learns` from this data (like studying a textbook).\n",
    "    -   **Testing Set:** We use this data to `evaluate` how well the model learned (like giving it a final exam). The model never sees this data during training!"
   ]
  },
  {
   "cell_type": "code",
   "execution_count": null,
   "id": "039e06b1",
   "metadata": {},
   "outputs": [],
   "source": [
    "# X contains our three input features\n",
    "X = data[['Hours_Studied', 'Attendance', 'Previous_Score']]\n",
    "\n",
    "# y contains the single output we want to predict\n",
    "y = data['Score']\n",
    "\n",
    "print(\"X (features) shape:\", X.shape)\n",
    "print(\"y (target) shape:\", y.shape)"
   ]
  },
  {
   "cell_type": "code",
   "execution_count": null,
   "id": "69db094e",
   "metadata": {},
   "outputs": [],
   "source": [
    "# Split the data: 80% for training, 20% for testing\n",
    "# random_state=42 ensures we get the same split every time we run the code\n",
    "X_train, X_test, y_train, y_test = train_test_split(X, y, test_size=0.2, random_state=42)\n",
    "\n",
    "print(\"Data split into training and testing sets!\")\n",
    "print(\"Training samples:\", X_train.shape[0])\n",
    "print(\"Testing samples:\", X_test.shape[0])"
   ]
  },
  {
   "cell_type": "markdown",
   "id": "1d3387c6",
   "metadata": {},
   "source": [
    "### 🎯 Practice Task\n",
    "\n",
    "We used `X_train.shape[0]` to find out how many students are in the training set. The `.shape` attribute of a DataFrame gives its dimensions (rows, columns). \n",
    "\n",
    "Can you print the shape of `y_train` in the cell below? What do you notice?"
   ]
  },
  {
   "cell_type": "code",
   "execution_count": null,
   "id": "fb1e3676",
   "metadata": {},
   "outputs": [],
   "source": [
    "# Your code here! Print the shape of y_train"
   ]
  },
  {
   "cell_type": "markdown",
   "id": "4c01e6f1",
   "metadata": {},
   "source": [
    "## Topic 6: Building and Training the Model 🤖\n",
    "\n",
    "Now for the exciting part! With `scikit-learn`, building and training a model takes just two lines of code.\n",
    "\n",
    "1.  **Create a model object:** We'll create an instance of the `LinearRegression` class.\n",
    "2.  **Fit the model:** We'll use the `.fit()` method on our training data (`X_train`, `y_train`). This is where the model learns the best coefficients (the `β` values) from the data."
   ]
  },
  {
   "cell_type": "code",
   "execution_count": null,
   "id": "1d0b6eda",
   "metadata": {},
   "outputs": [],
   "source": [
    "# 1. Create the model\n",
    "model = LinearRegression()\n",
    "\n",
    "# 2. Train (fit) the model using the training data\n",
    "model.fit(X_train, y_train)\n",
    "\n",
    "print(\"🎉 Model trained successfully!\")"
   ]
  },
  {
   "cell_type": "markdown",
   "id": "70aa78de",
   "metadata": {},
   "source": [
    "✅ **Well done!** You've just trained your first multivariate linear regression model. That one line, `model.fit()`, did all the complex Ordinary Least Squares (OLS) math for us behind the scenes!"
   ]
  },
  {
   "cell_type": "markdown",
   "id": "431bb038",
   "metadata": {},
   "source": [
    "## Topic 7: Evaluating the Model\n",
    "\n",
    "Training the model is easy, but how do we know if it's any good? We need to evaluate its performance.\n",
    "\n",
    "1.  **Check the Coefficients:** We'll look at the coefficients (`model.coef_`) and the intercept (`model.intercept_`) that the model learned. We can compare them to the \"true\" coefficients we set when we created the data.\n",
    "2.  **Make Predictions:** We'll use the trained model to make predictions on the `X_test` data (the data it has never seen before).\n",
    "3.  **Check the R-squared (R²) Score:** This is a very common metric. It tells us the *proportion of variance* in the target that is predictable from the features. In simple terms, it's a score from 0 to 1 that tells you how well your model explains the data. **Closer to 1 is better!**"
   ]
  },
  {
   "cell_type": "code",
   "execution_count": null,
   "id": "6a43cdf3",
   "metadata": {},
   "outputs": [],
   "source": [
    "# Print the learned coefficients\n",
    "print(\"Model Coefficients:\")\n",
    "for feature, coef in zip(X.columns, model.coef_):\n",
    "    print(f\"{feature}: {coef:.2f}\")\n",
    "\n",
    "# Print the learned intercept\n",
    "print(f\"\\nIntercept: {model.intercept_:.2f}\")"
   ]
  },
  {
   "cell_type": "markdown",
   "id": "a092266c",
   "metadata": {},
   "source": [
    "💡 **Fun Fact:** Look at the coefficients the model learned! How close are they to the `beta` values we set? \n",
    "- True `beta_hours`: 5.0  -> Model learned: ~4.88\n",
    "- True `beta_attendance`: -3.0 -> Model learned: ~-3.07\n",
    "- True `beta_prev`: 0.5    -> Model learned: ~0.50\n",
    "- True `beta_0` (Intercept): 30.0 -> Model learned: ~30.60\n",
    "\n",
    "They are very close! This tells us our model did a great job learning the underlying patterns from the data."
   ]
  },
  {
   "cell_type": "code",
   "execution_count": null,
   "id": "2fe172e2",
   "metadata": {},
   "outputs": [],
   "source": [
    "# Make predictions on the test data\n",
    "y_pred = model.predict(X_test)\n",
    "\n",
    "# Calculate the R-squared score\n",
    "r2 = r2_score(y_test, y_pred)\n",
    "\n",
    "print(f\"R-squared Score: {r2:.2f}\")"
   ]
  },
  {
   "cell_type": "markdown",
   "id": "5dec1e2e",
   "metadata": {},
   "source": [
    "### 🎯 Practice Task\n",
    "\n",
    "Our R-squared score is about **0.88**. In plain English, what does this mean? \n",
    "\n",
    "*(Hint: It means our model can explain about 88% of the variation in student scores based on our three features! That's pretty good!)*\n",
    "\n",
    "🧪 **Experiment:** Go back to the cell where we defined the `beta` coefficients. Change `beta_attendance` from `-3` to `3`. Then, re-run all the cells from that point downwards by clicking `Cell -> Run All Below`. What happens to the learned coefficient for Attendance and the final R-squared score?"
   ]
  },
  {
   "cell_type": "markdown",
   "id": "7e91d635",
   "metadata": {},
   "source": [
    "---"
   ]
  },
  {
   "cell_type": "markdown",
   "id": "3e7af3a1",
   "metadata": {},
   "source": [
    "## 🎓 Final Revision Assignment (For Home Practice)\n",
    "\n",
    "Congratulations on completing the session! You've learned the entire workflow of building a basic machine learning model. Now, let's put your new skills to the test with a new problem.\n",
    "\n",
    "**Scenario:** You are a real estate agent trying to predict house prices. You have data on `Square_Footage`, `Num_Bedrooms`, and `Age_of_House`.\n",
    "\n",
    "Follow the tasks below to build a house price predictor!"
   ]
  },
  {
   "cell_type": "markdown",
   "id": "3e5f98d8",
   "metadata": {},
   "source": [
    "**Task 1: Setup**\n",
    "\n",
    "The necessary libraries (`numpy`, `pandas`, `scikit-learn`) should already be imported from the beginning of the notebook. If not, import them in the cell below."
   ]
  },
  {
   "cell_type": "markdown",
   "id": "be186367",
   "metadata": {},
   "source": [
    "**Task 2: Create Data**\n",
    "\n",
    "Run the cell below to generate a new synthetic dataset for house prices."
   ]
  },
  {
   "cell_type": "code",
   "execution_count": null,
   "id": "82c46de4",
   "metadata": {},
   "outputs": [],
   "source": [
    "np.random.seed(123) # New seed for a new problem!\n",
    "num_houses = 200\n",
    "\n",
    "square_footage = np.random.randint(800, 3500, num_houses)\n",
    "num_bedrooms = np.random.randint(1, 6, num_houses)\n",
    "age_of_house = np.random.randint(0, 50, num_houses)\n",
    "\n",
    "true_price = 50000 + (square_footage * 150) + (num_bedrooms * 25000) - (age_of_house * 1000) + np.random.randn(num_houses) * 20000\n",
    "\n",
    "print(\"🏡 House data generated!\")"
   ]
  },
  {
   "cell_type": "markdown",
   "id": "c319406f",
   "metadata": {},
   "source": [
    "**Task 3: Create and Explore DataFrame**\n",
    "\n",
    "Put the new housing data into a pandas DataFrame called `houses_df`. Then, display the first 5 rows using the `.head()` method."
   ]
  },
  {
   "cell_type": "code",
   "execution_count": null,
   "id": "5171c97d",
   "metadata": {},
   "outputs": [],
   "source": [
    "# Your code here\n",
    "houses_df = pd.DataFrame({\n",
    "    'Square_Footage': square_footage,\n",
    "    'Num_Bedrooms': num_bedrooms,\n",
    "    'Age_of_House': age_of_house,\n",
    "    'Price': true_price\n",
    "})\n",
    "\n",
    "# Display the first 5 rows\n"
   ]
  },
  {
   "cell_type": "markdown",
   "id": "bf13aa2c",
   "metadata": {},
   "source": [
    "**Task 4: Define Features (X) and Target (y)**\n",
    "\n",
    "Create your feature matrix `X_houses` and your target vector `y_houses` from the `houses_df` DataFrame."
   ]
  },
  {
   "cell_type": "code",
   "execution_count": null,
   "id": "6f86d9ea",
   "metadata": {},
   "outputs": [],
   "source": [
    "# Your code here\n",
    "# X_houses = ...\n",
    "# y_houses = ...\n"
   ]
  },
  {
   "cell_type": "markdown",
   "id": "96a995ab",
   "metadata": {},
   "source": [
    "**Task 5: Split the Data**\n",
    "\n",
    "Split the data into training and testing sets. This time, use a `test_size` of `0.3` (30% for testing)."
   ]
  },
  {
   "cell_type": "code",
   "execution_count": null,
   "id": "3c9b519e",
   "metadata": {},
   "outputs": [],
   "source": [
    "# Your code here\n",
    "# X_train_h, X_test_h, y_train_h, y_test_h = ...\n"
   ]
  },
  {
   "cell_type": "markdown",
   "id": "caf4d6f7",
   "metadata": {},
   "source": [
    "**Task 6: Build and Train a New Model**\n",
    "\n",
    "Create a new `LinearRegression` model and `fit` it to your new housing training data."
   ]
  },
  {
   "cell_type": "code",
   "execution_count": null,
   "id": "47375280",
   "metadata": {},
   "outputs": [],
   "source": [
    "# Your code here\n",
    "# house_model = ...\n",
    "# house_model.fit(...)\n"
   ]
  },
  {
   "cell_type": "markdown",
   "id": "682be994",
   "metadata": {},
   "source": [
    "**Task 7: Check the Coefficients**\n",
    "\n",
    "Print the intercept and the coefficients for the house price model. \n",
    "\n",
    "-   Which feature has the biggest positive impact on price?\n",
    "-   Which feature has a negative impact on price?"
   ]
  },
  {
   "cell_type": "code",
   "execution_count": null,
   "id": "a5470144",
   "metadata": {},
   "outputs": [],
   "source": [
    "# Your code here\n"
   ]
  },
  {
   "cell_type": "markdown",
   "id": "0a4b5e37",
   "metadata": {},
   "source": [
    "**Task 8: Make Predictions and Evaluate**\n",
    "\n",
    "Finally, use your trained `house_model` to make predictions on the test set and print the R-squared score. How well did your new model perform?"
   ]
  },
  {
   "cell_type": "code",
   "execution_count": null,
   "id": "c4e19e7a",
   "metadata": {},
   "outputs": [],
   "source": [
    "# Your code here\n"
   ]
  }
 ],
 "metadata": {
  "kernelspec": {
   "display_name": "Python 3 (ipykernel)",
   "language": "python",
   "name": "python3"
  },
  "language_info": {
   "codemirror_mode": {
    "name": "ipython",
    "version": 3
   },
   "file_extension": ".py",
   "mimetype": "text/x-python",
   "name": "python",
   "nbconvert_exporter": "python",
   "pygments_lexer": "ipython3",
   "version": "3.12.7"
  }
 },
 "nbformat": 4,
 "nbformat_minor": 5
}
