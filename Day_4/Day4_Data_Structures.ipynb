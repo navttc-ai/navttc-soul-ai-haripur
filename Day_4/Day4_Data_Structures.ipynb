{
 "cells": [
  {
   "cell_type": "markdown",
   "id": "292f47b0",
   "metadata": {},
   "source": [
    "# Day 4: Python Data Structures In-Depth\n",
    "**Strings, Lists, Tuples, Dictionaries, and Sets**"
   ]
  },
  {
   "cell_type": "markdown",
   "id": "e8026bea",
   "metadata": {},
   "source": [
    "## Day 4: Learning Objectives\n",
    "- How Python variables work: References, not containers\n",
    "- The core concept: Mutable vs. Immutable objects\n",
    "- Strings: Indexing, slicing, and common methods\n",
    "- Lists: The mutable workhorse, indexing, and its methods\n",
    "- Tuples: Immutable containers, packing/unpacking, and methods"
   ]
  },
  {
   "cell_type": "markdown",
   "id": "0583aa7a",
   "metadata": {},
   "source": [
    "## How Python Sees Variables: Labels, Not Boxes\n",
    "A common misconception is that a variable is a box that holds data.\n",
    "\n",
    "In Python, a variable is actually a label or a name that points to an object stored in memory.\n",
    "- Think of your contact list: Your friend's name (the variable) points to their phone number (the data).\n",
    "\n",
    "### Concept: Variables as References\n",
    "When you assign a variable, you are creating a reference to the data's memory address.\n",
    "```python\n",
    "# When you write this...\n",
    "x = 100\n",
    "\n",
    "# Python does this:\n",
    "# 1. Creates an integer object with the value 100 in memory.\n",
    "# 2. Creates a variable named `x`.\n",
    "# 3. Makes `x` point to the memory location of the 100 object.\n",
    "```"
   ]
  },
  {
   "cell_type": "markdown",
   "id": "9067fee3",
   "metadata": {},
   "source": [
    "### Proving it with the `id()` function\n",
    "The built-in `id()` function gives us the unique memory address of an object.\n",
    "\n",
    "If two variables have the same ID, they point to the exact same object."
   ]
  },
  {
   "cell_type": "code",
   "execution_count": 1,
   "id": "391b9d39",
   "metadata": {
    "scrolled": true
   },
   "outputs": [
    {
     "name": "stdout",
     "output_type": "stream",
     "text": [
      "ID of x: 140721610176024\n",
      "ID of y: 140721610176024\n",
      "New ID of x: 140721610179224\n"
     ]
    }
   ],
   "source": [
    "x = 100\n",
    "y = x # y is now a second label pointing to the SAME object\n",
    "\n",
    "print(f\"ID of x: {id(x)}\")\n",
    "print(f\"ID of y: {id(y)}\") # The IDs will be identical!\n",
    "\n",
    "# Let's change x\n",
    "x = 200\n",
    "\n",
    "print(f\"New ID of x: {id(x)}\") # x now points to a NEW object"
   ]
  },
  {
   "cell_type": "code",
   "execution_count": 2,
   "id": "52cf19a1-24fd-401f-bc2f-e2de7a085081",
   "metadata": {},
   "outputs": [
    {
     "name": "stdout",
     "output_type": "stream",
     "text": [
      "New ID of x: 140721610176024\n"
     ]
    }
   ],
   "source": [
    "print(f\"New ID of x: {id(y)}\")"
   ]
  },
  {
   "cell_type": "markdown",
   "id": "9734c4b7",
   "metadata": {},
   "source": [
    "## This Leads To: Mutable vs. Immutable\n",
    "Understanding references is KEY to understanding data types.\n",
    "\n",
    "- **Mutable objects** CAN be changed in-place after they are created.\n",
    "  - Examples: lists, dictionaries, sets\n",
    "\n",
    "- **Immutable objects** CANNOT be changed. Any 'change' creates a new object.\n",
    "  - Examples: integers, strings, tuples"
   ]
  },
  {
   "cell_type": "markdown",
   "id": "9184ebdf",
   "metadata": {},
   "source": [
    "## Deep Dive: Strings are Immutable\n",
    "Strings cannot be changed in-place. Any modification creates a new string."
   ]
  },
  {
   "cell_type": "code",
   "execution_count": 3,
   "id": "277dd651",
   "metadata": {},
   "outputs": [
    {
     "name": "stdout",
     "output_type": "stream",
     "text": [
      "Original ID: 2105512167216\n",
      "New ID: 2105512169520\n"
     ]
    }
   ],
   "source": [
    "my_city = \"Peshawar\"\n",
    "print(\"Original ID:\", id(my_city))\n",
    "\n",
    "# This creates a NEW string object\n",
    "my_city = my_city + \", Pakistan\"\n",
    "\n",
    "print(\"New ID:\", id(my_city)) # The ID has changed!"
   ]
  },
  {
   "cell_type": "markdown",
   "id": "b70b3e3c",
   "metadata": {},
   "source": [
    "### String Indexing and Slicing\n",
    "Access parts of a string using indexes (positions)."
   ]
  },
  {
   "cell_type": "code",
   "execution_count": 4,
   "id": "54010277",
   "metadata": {},
   "outputs": [
    {
     "name": "stdout",
     "output_type": "stream",
     "text": [
      "H\n",
      "d\n",
      "World\n"
     ]
    }
   ],
   "source": [
    "greeting = \"Hello World\"\n",
    "\n",
    "# Get the first character (index 0)\n",
    "print(greeting[0])\n",
    "\n",
    "# Get the last character (index -1)\n",
    "print(greeting[-1])\n",
    "\n",
    "# Get a slice (from index 6 to the end)\n",
    "print(greeting[6:])"
   ]
  },
  {
   "cell_type": "markdown",
   "id": "ea77b229",
   "metadata": {},
   "source": [
    "### More String Methods\n",
    "Each method returns a new, modified string."
   ]
  },
  {
   "cell_type": "code",
   "execution_count": 5,
   "id": "964cc594",
   "metadata": {},
   "outputs": [
    {
     "name": "stdout",
     "output_type": "stream",
     "text": [
      "Pakistan is a beautiful country\n",
      "14\n",
      "['pakistan', 'is', 'a', 'beautiful', 'country']\n"
     ]
    }
   ],
   "source": [
    "text = \"pakistan is a beautiful country\"\n",
    "\n",
    "# Capitalize the first letter\n",
    "print(text.capitalize())\n",
    "\n",
    "# Find the starting index of a substring\n",
    "print(text.find(\"beautiful\"))\n",
    "\n",
    "# Split the string into a list of words\n",
    "words = text.split()\n",
    "print(words)"
   ]
  },
  {
   "cell_type": "markdown",
   "id": "579d69a1",
   "metadata": {},
   "source": [
    "### Practice Time: Strings\n",
    "1. Given the string `s = \"Digital Pakistan\"`, use slicing to print just \"Digital\".\n",
    "2. Take the string `\"I love programming\"` and use a method to replace `\"programming\"` with `\"AI\"`.\n",
    "3. Use the `.upper()` method to print your full name in capital letters."
   ]
  },
  {
   "cell_type": "code",
   "execution_count": 6,
   "id": "95e3fe73",
   "metadata": {},
   "outputs": [
    {
     "name": "stdout",
     "output_type": "stream",
     "text": [
      "Digital\n"
     ]
    }
   ],
   "source": [
    "# Solution 1\n",
    "s = \"Digital Pakistan\"\n",
    "print(s[0:7])"
   ]
  },
  {
   "cell_type": "code",
   "execution_count": 7,
   "id": "5d2f78f7",
   "metadata": {},
   "outputs": [
    {
     "name": "stdout",
     "output_type": "stream",
     "text": [
      "I love AI\n"
     ]
    }
   ],
   "source": [
    "# Solution 2\n",
    "phrase = \"I love programming\"\n",
    "print(phrase.replace(\"programming\", \"AI\"))"
   ]
  },
  {
   "cell_type": "code",
   "execution_count": 8,
   "id": "bdc32ff8",
   "metadata": {},
   "outputs": [
    {
     "name": "stdout",
     "output_type": "stream",
     "text": [
      "YOUR NAME HERE\n"
     ]
    }
   ],
   "source": [
    "# Solution 3\n",
    "full_name = \"Your Name Here\"\n",
    "print(full_name.upper())"
   ]
  },
  {
   "cell_type": "markdown",
   "id": "6a2ec943",
   "metadata": {},
   "source": [
    "## Deep Dive: Lists are Mutable\n",
    "You can change a list 'in-place' without creating a new object."
   ]
  },
  {
   "cell_type": "code",
   "execution_count": 9,
   "id": "66287eb5",
   "metadata": {},
   "outputs": [
    {
     "name": "stdout",
     "output_type": "stream",
     "text": [
      "Original ID: 2105512002560\n",
      "Updated ID:  2105512002560\n"
     ]
    }
   ],
   "source": [
    "my_subjects = [\"Maths\", \"Physics\", \"Urdu\"]\n",
    "print(\"Original ID:\", id(my_subjects))\n",
    "\n",
    "my_subjects[0] = \"Calculus\"  # Change an item\n",
    "my_subjects.append(\"AI\")      # Add an item\n",
    "\n",
    "print(\"Updated ID: \", id(my_subjects)) # The ID remains the SAME!"
   ]
  },
  {
   "cell_type": "markdown",
   "id": "b92a3829",
   "metadata": {},
   "source": [
    "### List Indexing, Slicing, and Modifying\n",
    "Lists have powerful and flexible indexing."
   ]
  },
  {
   "cell_type": "code",
   "execution_count": 10,
   "id": "1b289404",
   "metadata": {},
   "outputs": [
    {
     "name": "stdout",
     "output_type": "stream",
     "text": [
      "Sindh\n",
      "['Punjab', 'Sindh']\n",
      "['Punjab', 'Sindh', 'Khyber Pakhtunkhwa', 'Balochistan', 'GB']\n"
     ]
    }
   ],
   "source": [
    "provinces = [\"Punjab\", \"Sindh\", \"KPK\", \"Balochistan\"]\n",
    "\n",
    "# Access the second item\n",
    "print(provinces[1])\n",
    "\n",
    "# Get the first two items\n",
    "print(provinces[0:2])\n",
    "\n",
    "# Modify a range of items\n",
    "provinces[2:] = [\"Khyber Pakhtunkhwa\", \"Balochistan\", \"GB\"]\n",
    "print(provinces)"
   ]
  },
  {
   "cell_type": "markdown",
   "id": "d3952b3f",
   "metadata": {},
   "source": [
    "### More List Methods\n",
    "These methods modify the list directly (in-place)."
   ]
  },
  {
   "cell_type": "code",
   "execution_count": 11,
   "id": "6b9661cd",
   "metadata": {},
   "outputs": [
    {
     "name": "stdout",
     "output_type": "stream",
     "text": [
      "['Islamabad', 'Lahore', 'Karachi']\n",
      "['Islamabad', 'Karachi']\n",
      "['Islamabad', 'Karachi']\n"
     ]
    }
   ],
   "source": [
    "cities = [\"Lahore\", \"Karachi\"]\n",
    "\n",
    "# .insert(index, item) adds at a specific position\n",
    "cities.insert(0, \"Islamabad\")\n",
    "print(cities)\n",
    "\n",
    "# .remove(item) deletes the first occurrence of an item\n",
    "cities.remove(\"Lahore\")\n",
    "print(cities)\n",
    "\n",
    "# .sort() arranges the list\n",
    "cities.sort()\n",
    "print(cities)"
   ]
  },
  {
   "cell_type": "markdown",
   "id": "cf758840",
   "metadata": {},
   "source": [
    "### Practice Time: Lists\n",
    "1. Create a list of numbers from 1 to 5. Use the `.insert()` method to add the number 100 at index 2.\n",
    "2. Create a list of your favorite foods. Use the `.pop()` method to remove and print the last food item.\n",
    "3. Create a list of cities. Use the `.sort()` method and then print the list to see it alphabetized."
   ]
  },
  {
   "cell_type": "code",
   "execution_count": 12,
   "id": "a18d8870",
   "metadata": {},
   "outputs": [
    {
     "name": "stdout",
     "output_type": "stream",
     "text": [
      "[1, 2, 100, 3, 4, 5]\n"
     ]
    }
   ],
   "source": [
    "# Solution 1\n",
    "numbers = [1, 2, 3, 4, 5]\n",
    "numbers.insert(2, 100)\n",
    "print(numbers)"
   ]
  },
  {
   "cell_type": "code",
   "execution_count": 13,
   "id": "1cfb2c21",
   "metadata": {},
   "outputs": [
    {
     "name": "stdout",
     "output_type": "stream",
     "text": [
      "Removed food: Karahi\n",
      "Remaining list: ['Biryani', 'Pulao']\n"
     ]
    }
   ],
   "source": [
    "# Solution 2\n",
    "foods = [\"Biryani\", \"Pulao\", \"Karahi\"]\n",
    "last_food = foods.pop()\n",
    "print(f\"Removed food: {last_food}\")\n",
    "print(f\"Remaining list: {foods}\")"
   ]
  },
  {
   "cell_type": "code",
   "execution_count": 14,
   "id": "27940495",
   "metadata": {},
   "outputs": [
    {
     "name": "stdout",
     "output_type": "stream",
     "text": [
      "['Karachi', 'Lahore', 'Peshawar', 'Quetta']\n"
     ]
    }
   ],
   "source": [
    "# Solution 3\n",
    "cities = [\"Peshawar\", \"Lahore\", \"Quetta\", \"Karachi\"]\n",
    "cities.sort()\n",
    "print(cities)"
   ]
  },
  {
   "cell_type": "markdown",
   "id": "86fb3fe4",
   "metadata": {},
   "source": [
    "## Deep Dive: Tuples are Immutable\n",
    "Use tuples for data that should not change, like coordinates or records."
   ]
  },
  {
   "cell_type": "code",
   "execution_count": 15,
   "id": "cb380722",
   "metadata": {},
   "outputs": [
    {
     "name": "stdout",
     "output_type": "stream",
     "text": [
      "Name: Ahmed\n"
     ]
    }
   ],
   "source": [
    "person_record = (\"Ahmed\", 25, \"Peshawar\")\n",
    "\n",
    "# You can access data by index\n",
    "print(f\"Name: {person_record[0]}\")\n",
    "\n",
    "# But you CANNOT change it\n",
    "# person_record[1] = 26 # This would cause a TypeError!"
   ]
  },
  {
   "cell_type": "markdown",
   "id": "86c22196",
   "metadata": {},
   "source": [
    "### Tuple Packing and Unpacking\n",
    "A powerful feature for assigning tuple values to variables."
   ]
  },
  {
   "cell_type": "code",
   "execution_count": 16,
   "id": "da1327a6",
   "metadata": {},
   "outputs": [
    {
     "name": "stdout",
     "output_type": "stream",
     "text": [
      "Ali\n",
      "3.5\n"
     ]
    }
   ],
   "source": [
    "# Packing: Storing values into a tuple\n",
    "student = (\"Ali\", 3.5, \"Computer Science\")\n",
    "\n",
    "# Unpacking: Assigning tuple items to variables\n",
    "name, gpa, major = student\n",
    "\n",
    "print(name)\n",
    "print(gpa)"
   ]
  },
  {
   "cell_type": "markdown",
   "id": "71920ec9",
   "metadata": {},
   "source": [
    "### Useful Methods for Tuples\n",
    "Tuples have few methods because they cannot be changed."
   ]
  },
  {
   "cell_type": "code",
   "execution_count": 17,
   "id": "20e4db6c",
   "metadata": {},
   "outputs": [
    {
     "name": "stdout",
     "output_type": "stream",
     "text": [
      "Number of A grades: 2\n",
      "First C grade is at index: 2\n"
     ]
    }
   ],
   "source": [
    "grades = (\"A\", \"B\", \"C\", \"A\", \"B\")\n",
    "\n",
    "# .count() tells you how many times an item appears\n",
    "print(f\"Number of A grades: {grades.count('A')}\")\n",
    "\n",
    "# .index() finds the first position of an item\n",
    "print(f\"First C grade is at index: {grades.index('C')}\")"
   ]
  },
  {
   "cell_type": "markdown",
   "id": "ed19add8",
   "metadata": {},
   "source": [
    "### Practice Time: Tuples\n",
    "1. Create a tuple to store a student's ID, name, and GPA. Then, unpack this tuple into three separate variables and print each one.\n",
    "2. Create a tuple with duplicate numbers, e.g., `(1, 2, 5, 2, 8, 2)`. Use a tuple method to count how many times `2` appears."
   ]
  },
  {
   "cell_type": "code",
   "execution_count": 18,
   "id": "34a25c0e",
   "metadata": {},
   "outputs": [
    {
     "name": "stdout",
     "output_type": "stream",
     "text": [
      "ID: 101\n",
      "Name: Fatima\n",
      "GPA: 3.8\n"
     ]
    }
   ],
   "source": [
    "# Solution 1\n",
    "student_data = (101, \"Fatima\", 3.8)\n",
    "student_id, name, gpa = student_data\n",
    "print(f\"ID: {student_id}\")\n",
    "print(f\"Name: {name}\")\n",
    "print(f\"GPA: {gpa}\")"
   ]
  },
  {
   "cell_type": "code",
   "execution_count": 19,
   "id": "3226867c",
   "metadata": {},
   "outputs": [
    {
     "name": "stdout",
     "output_type": "stream",
     "text": [
      "The number 2 appears 3 times.\n"
     ]
    }
   ],
   "source": [
    "# Solution 2\n",
    "numbers = (1, 2, 5, 2, 8, 2)\n",
    "count_of_2 = numbers.count(2)\n",
    "print(f\"The number 2 appears {count_of_2} times.\")"
   ]
  },
  {
   "cell_type": "markdown",
   "id": "59ec4d91",
   "metadata": {},
   "source": [
    "## Deep Dive: Dictionaries (Mutable)\n",
    "Dictionaries store data in `key:value` pairs. Keys must be unique."
   ]
  },
  {
   "cell_type": "code",
   "execution_count": 20,
   "id": "6ff99199",
   "metadata": {},
   "outputs": [
    {
     "name": "stdout",
     "output_type": "stream",
     "text": [
      "Fatima\n",
      "{'name': 'Fatima', 'course': 'Artificial Intelligence', 'city': 'Peshawar'}\n"
     ]
    }
   ],
   "source": [
    "student = {\n",
    "    \"name\": \"Fatima\",\n",
    "    \"course\": \"AI/ML\"\n",
    "}\n",
    "\n",
    "# Access data using its key\n",
    "print(student[\"name\"])\n",
    "\n",
    "# Add or update data\n",
    "student[\"city\"] = \"Peshawar\"\n",
    "student[\"course\"] = \"Artificial Intelligence\"\n",
    "print(student)"
   ]
  },
  {
   "cell_type": "markdown",
   "id": "36274385",
   "metadata": {},
   "source": [
    "### Accessing Dictionary Data Safely\n",
    "Accessing a non-existent key causes an error. Use `.get()` to avoid this."
   ]
  },
  {
   "cell_type": "code",
   "execution_count": 21,
   "id": "590b2f86",
   "metadata": {},
   "outputs": [
    {
     "name": "stdout",
     "output_type": "stream",
     "text": [
      "None\n",
      "Not Provided\n"
     ]
    }
   ],
   "source": [
    "student = {\"name\": \"Fatima\"}\n",
    "\n",
    "# This will cause a KeyError!\n",
    "# print(student[\"age\"])\n",
    "\n",
    "# .get() returns None (or a default value) if key is not found\n",
    "print(student.get(\"age\"))\n",
    "print(student.get(\"age\", \"Not Provided\"))"
   ]
  },
  {
   "cell_type": "markdown",
   "id": "2f58b004",
   "metadata": {},
   "source": [
    "### More Dictionary Methods\n",
    "Methods to explore and modify dictionaries."
   ]
  },
  {
   "cell_type": "code",
   "execution_count": 22,
   "id": "69a56e33",
   "metadata": {},
   "outputs": [
    {
     "name": "stdout",
     "output_type": "stream",
     "text": [
      "Removed course: AI/ML\n",
      "Student now: {'name': 'Fatima'}\n",
      "name: Fatima\n",
      "course: AI/ML\n"
     ]
    }
   ],
   "source": [
    "student = {\"name\": \"Fatima\", \"course\": \"AI/ML\"}\n",
    "\n",
    "# .pop(key) removes a key-value pair and returns the value\n",
    "course = student.pop(\"course\")\n",
    "print(f\"Removed course: {course}\")\n",
    "print(f\"Student now: {student}\")\n",
    "\n",
    "# Iterating through a dictionary\n",
    "student = {\"name\": \"Fatima\", \"course\": \"AI/ML\"} # Resetting for the next example\n",
    "for key, value in student.items():\n",
    "    print(f\"{key}: {value}\")"
   ]
  },
  {
   "cell_type": "markdown",
   "id": "f66032ca",
   "metadata": {},
   "source": [
    "### Practice Time: Dictionaries\n",
    "1. Create a dictionary for a product with 'name', 'price', and 'in_stock' keys.\n",
    "2. Use the `.get()` method to safely check if a 'discount' key exists.\n",
    "3. Use a `for` loop with the `.items()` method to print each key and value on a new line."
   ]
  },
  {
   "cell_type": "code",
   "execution_count": 23,
   "id": "04c80e6e",
   "metadata": {},
   "outputs": [
    {
     "name": "stdout",
     "output_type": "stream",
     "text": [
      "{'name': 'Laptop', 'price': 150000, 'in_stock': True}\n"
     ]
    }
   ],
   "source": [
    "# Solution 1\n",
    "product = {\n",
    "    'name': 'Laptop',\n",
    "    'price': 150000,\n",
    "    'in_stock': True\n",
    "}\n",
    "print(product)"
   ]
  },
  {
   "cell_type": "code",
   "execution_count": 24,
   "id": "81df8645",
   "metadata": {},
   "outputs": [
    {
     "name": "stdout",
     "output_type": "stream",
     "text": [
      "No discount available\n"
     ]
    }
   ],
   "source": [
    "# Solution 2\n",
    "discount = product.get('discount', 'No discount available')\n",
    "print(discount)"
   ]
  },
  {
   "cell_type": "code",
   "execution_count": 25,
   "id": "4ae93c49",
   "metadata": {},
   "outputs": [
    {
     "name": "stdout",
     "output_type": "stream",
     "text": [
      "Name: Laptop\n",
      "Price: 150000\n",
      "In_stock: True\n"
     ]
    }
   ],
   "source": [
    "# Solution 3\n",
    "for key, value in product.items():\n",
    "    print(f\"{key.capitalize()}: {value}\")"
   ]
  },
  {
   "cell_type": "markdown",
   "id": "9a33eeb8",
   "metadata": {},
   "source": [
    "## Deep Dive: Sets (Mutable)\n",
    "Sets are unordered collections of UNIQUE items. Duplicates are automatically removed."
   ]
  },
  {
   "cell_type": "code",
   "execution_count": 26,
   "id": "58e2065c",
   "metadata": {},
   "outputs": [
    {
     "name": "stdout",
     "output_type": "stream",
     "text": [
      "{'Python', 'Data Science', 'AI'}\n",
      "{'Python', 'Cloud', 'Data Science'}\n"
     ]
    }
   ],
   "source": [
    "# Note the duplicate \"Python\"\n",
    "skills = {\"Python\", \"AI\", \"Data Science\", \"Python\"}\n",
    "print(skills)\n",
    "\n",
    "# Add and remove items\n",
    "skills.add(\"Cloud\")\n",
    "skills.remove(\"AI\")\n",
    "print(skills)"
   ]
  },
  {
   "cell_type": "markdown",
   "id": "3acd37cd",
   "metadata": {},
   "source": [
    "### Powerful Set Operations\n",
    "Sets are great for comparing collections of items."
   ]
  },
  {
   "cell_type": "code",
   "execution_count": 27,
   "id": "f7112ad8",
   "metadata": {},
   "outputs": [
    {
     "name": "stdout",
     "output_type": "stream",
     "text": [
      "Union: {'Git', 'SQL', 'Python', 'Maths', 'AI'}\n",
      "Intersection: {'Python'}\n",
      "Difference: {'Git', 'SQL'}\n"
     ]
    }
   ],
   "source": [
    "dev_skills = {\"Python\", \"Git\", \"SQL\"}\n",
    "ai_skills = {\"Python\", \"Maths\", \"AI\"}\n",
    "\n",
    "# Union (all skills from both sets)\n",
    "print(f\"Union: {dev_skills | ai_skills}\")\n",
    "\n",
    "# Intersection (skills that are in both sets)\n",
    "print(f\"Intersection: {dev_skills & ai_skills}\")\n",
    "\n",
    "# Difference (skills in dev but not in AI)\n",
    "print(f\"Difference: {dev_skills - ai_skills}\")"
   ]
  },
  {
   "cell_type": "markdown",
   "id": "81761409",
   "metadata": {},
   "source": [
    "### Practice Time: Sets\n",
    "1. Create a list with duplicate city names. Convert it to a set to get a list of unique cities.\n",
    "2. Create two sets of friends' names. Use a set operation to find which friends are unique to the first set."
   ]
  },
  {
   "cell_type": "code",
   "execution_count": 28,
   "id": "8d004e8c",
   "metadata": {},
   "outputs": [
    {
     "name": "stdout",
     "output_type": "stream",
     "text": [
      "{'Peshawar', 'Lahore', 'Karachi', 'Islamabad'}\n"
     ]
    }
   ],
   "source": [
    "# Solution 1\n",
    "cities_list = [\"Lahore\", \"Karachi\", \"Lahore\", \"Islamabad\", \"Peshawar\", \"Karachi\"]\n",
    "unique_cities = set(cities_list)\n",
    "print(unique_cities)"
   ]
  },
  {
   "cell_type": "code",
   "execution_count": 29,
   "id": "9e67c797",
   "metadata": {},
   "outputs": [
    {
     "name": "stdout",
     "output_type": "stream",
     "text": [
      "Friends unique to the first set: {'Bilal', 'Ali'}\n"
     ]
    }
   ],
   "source": [
    "# Solution 2\n",
    "friends1 = {\"Ali\", \"Ahmed\", \"Fatima\", \"Bilal\"}\n",
    "friends2 = {\"Ahmed\", \"Aisha\", \"Fatima\", \"David\"}\n",
    "unique_to_friends1 = friends1 - friends2\n",
    "print(f\"Friends unique to the first set: {unique_to_friends1}\")"
   ]
  },
  {
   "cell_type": "markdown",
   "id": "99bb20be",
   "metadata": {},
   "source": [
    "## Data Types at a Glance\n",
    "\n",
    "| Data Type  | Mutability | Indexed By | Iterable |\n",
    "|------------|------------|------------|----------|\n",
    "| **String** | Immutable  | Integers   | Yes      |\n",
    "| **List** | Mutable    | Integers   | Yes      |\n",
    "| **Tuple** | Immutable  | Integers   | Yes      |\n",
    "| **Dict** | Mutable    | Keys       | Yes      |\n",
    "| **Set** | Mutable    | N/A        | Yes      |"
   ]
  },
  {
   "cell_type": "markdown",
   "id": "622c84fb",
   "metadata": {},
   "source": [
    "## Day 4: Recap & Next Steps\n",
    "You now understand Python's core data structures.\n",
    "\n",
    "**Key Takeaway**: Choose the right data structure for the job!"
   ]
  },
  {
   "cell_type": "markdown",
   "id": "13afa424",
   "metadata": {},
   "source": [
    "## At-Home Practice\n",
    "\n",
    "1.  **Contact List:**\n",
    "    * Create a list of dictionaries, where each dictionary represents a contact with keys for `name`, `phone`, and `email`.\n",
    "    * Write a loop that iterates through the list and prints each contact's information in a user-friendly format.\n",
    "    * Add a new contact to the list.\n",
    "\n",
    "2.  **Inventory Management:**\n",
    "    * Create a dictionary to represent a store's inventory. The keys should be item names (strings) and the values should be their quantities (integers).\n",
    "    * Write a function that takes the inventory and an item name, and returns the quantity of that item, or `0` if the item is not in the inventory.\n",
    "    * Write another function to handle a sale, which takes the inventory, an item name, and a quantity to sell. It should decrease the item's quantity in the inventory.\n",
    "\n",
    "3.  **Unique Tags:**\n",
    "    * You are given two lists of tags for two different blog posts.\n",
    "    * Use sets to find: a) all unique tags used across both posts, and b) tags that are common to both posts."
   ]
  },
  {
   "cell_type": "code",
   "execution_count": null,
   "id": "6b21cab7-a951-4cf2-b0bf-08a76b0aa8f5",
   "metadata": {},
   "outputs": [],
   "source": []
  }
 ],
 "metadata": {
  "kernelspec": {
   "display_name": "Python 3 (ipykernel)",
   "language": "python",
   "name": "python3"
  },
  "language_info": {
   "codemirror_mode": {
    "name": "ipython",
    "version": 3
   },
   "file_extension": ".py",
   "mimetype": "text/x-python",
   "name": "python",
   "nbconvert_exporter": "python",
   "pygments_lexer": "ipython3",
   "version": "3.12.7"
  }
 },
 "nbformat": 4,
 "nbformat_minor": 5
}
