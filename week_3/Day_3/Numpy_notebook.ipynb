{
 "cells": [
  {
   "cell_type": "markdown",
   "id": "7d872f95",
   "metadata": {},
   "source": [
    "# 📘 Introduction to NumPy for AI Beginners\n",
    "\n",
    "Welcome to your first step into the world of AI with Python! In this 2-hour session, we'll explore **NumPy**, a powerful library that is the foundation of scientific computing and data analysis in Python.\n",
    "\n",
    "Think of NumPy as a super-powered tool for working with lists of numbers. It's incredibly fast and efficient, which is why it's essential for AI and Machine Learning.\n",
    "\n",
    "### 🎯 Learning Objectives\n",
    "\n",
    "By the end of this session, you will be able to:\n",
    "1.  **Create NumPy Arrays:** From Python lists, using built-in functions, and with random numbers.\n",
    "2.  **Inspect Arrays:** Understand their properties like shape, size, and data type.\n",
    "3.  **Manipulate Arrays:** Perform essential operations like copying, sorting, combining, and splitting."
   ]
  },
  {
   "cell_type": "markdown",
   "id": "12b1a353",
   "metadata": {},
   "source": [
    "## Part 1: Creating NumPy Arrays\n",
    "\n",
    "Let's start with the basics! An array is a grid of values. We'll learn three common ways to create them."
   ]
  },
  {
   "cell_type": "markdown",
   "id": "94cd5e0f",
   "metadata": {},
   "source": [
    "### 📄 Topic 1: Creating Arrays from a Python List\n",
    "\n",
    "The most straightforward way to create a NumPy array is by converting a regular Python list. NumPy is smart enough to figure out the data type (like integer or float), but we can also tell it what type to use."
   ]
  },
  {
   "cell_type": "code",
   "execution_count": null,
   "id": "7ded42e2",
   "metadata": {},
   "outputs": [],
   "source": [
    "# First, we need to import the NumPy library\n",
    "# We give it the nickname 'np' which is a standard convention\n",
    "import numpy as np\n",
    "\n",
    "# Creating a 1-dimensional (1D) array from a list\n",
    "list_1d = [1, 2, 3, 4]\n",
    "arr_1d = np.array(list_1d)\n",
    "print(f\"1D Array: {arr_1d}\")"
   ]
  },
  {
   "cell_type": "code",
   "execution_count": null,
   "id": "693a7760",
   "metadata": {},
   "outputs": [],
   "source": [
    "# Creating a 2-dimensional (2D) array from a list of lists\n",
    "# Think of this like a grid or a table\n",
    "list_2d = [[1, 2, 3], [4, 5, 6]]\n",
    "arr_2d = np.array(list_2d)\n",
    "print(f\"2D Array:\\n{arr_2d}\")"
   ]
  },
  {
   "cell_type": "code",
   "execution_count": null,
   "id": "e72c01e3",
   "metadata": {},
   "outputs": [],
   "source": [
    "# We can also specify the data type\n",
    "# Let's create an array of floating-point numbers\n",
    "arr_float = np.array([1, 2, 3], dtype=np.float64)\n",
    "print(f\"Float Array: {arr_float}\")\n",
    "print(f\"Data type of this array: {arr_float.dtype}\")"
   ]
  },
  {
   "cell_type": "markdown",
   "id": "b9418bd5",
   "metadata": {},
   "source": [
    "### 🧠 Practice Task 1\n",
    "\n",
    "Create a 1D NumPy array containing the ages of your family members (or any 5 numbers you like) and print it."
   ]
  },
  {
   "cell_type": "code",
   "execution_count": null,
   "id": "adbc3cc6",
   "metadata": {},
   "outputs": [],
   "source": [
    "# Your code here!\n",
    "# Create a list of ages\n",
    "my_ages_list = [25, 30, 55, 60, 5]\n",
    "\n",
    "# Convert the list to a NumPy array\n",
    "ages_array = np.array(my_ages_list)\n",
    "\n",
    "# Print the array\n",
    "print(f\"My family ages array: {ages_array}\")"
   ]
  },
  {
   "cell_type": "markdown",
   "id": "3e0bd3e3",
   "metadata": {},
   "source": [
    "### 📄 Topic 2: Creating Arrays with Built-in Methods\n",
    "\n",
    "NumPy has super useful functions to create large, structured arrays without typing out a list first. This is very efficient!\n",
    "\n",
    "- `np.arange()`: Like Python's `range()` but for arrays.\n",
    "- `np.zeros()`: Creates an array filled with zeros.\n",
    "- `np.ones()`: Creates an array filled with ones.\n",
    "- `np.linspace()`: Creates an array with evenly spaced numbers over an interval.\n",
    "- `np.eye()`: Creates an \"identity matrix\" (a special square array)."
   ]
  },
  {
   "cell_type": "code",
   "execution_count": null,
   "id": "a8a39d7a",
   "metadata": {},
   "outputs": [],
   "source": [
    "# np.arange(start, stop, step) creates an array from 0 up to (but not including) 10\n",
    "arr_range = np.arange(0, 10, 1)\n",
    "print(f\"An array from 0 to 9: {arr_range}\")"
   ]
  },
  {
   "cell_type": "code",
   "execution_count": null,
   "id": "8dd5111c",
   "metadata": {},
   "outputs": [],
   "source": [
    "# np.zeros(shape) creates a 2x3 array (2 rows, 3 columns) of zeros\n",
    "arr_zeros = np.zeros((2, 3))\n",
    "print(f\"A 2x3 array of zeros:\\n{arr_zeros}\")\n",
    "\n",
    "# 💡 Notice the numbers have a dot (e.g., 0.). This means they are floats by default!"
   ]
  },
  {
   "cell_type": "code",
   "execution_count": null,
   "id": "282db297",
   "metadata": {},
   "outputs": [],
   "source": [
    "# np.ones(shape) creates a 3x2 array of ones\n",
    "# We can also specify the dtype to make them integers\n",
    "arr_ones = np.ones((3, 2), dtype=int)\n",
    "print(f\"A 3x2 array of integer ones:\\n{arr_ones}\")"
   ]
  },
  {
   "cell_type": "code",
   "execution_count": null,
   "id": "569293f5",
   "metadata": {},
   "outputs": [],
   "source": [
    "# np.linspace(start, stop, num) creates 5 evenly spaced numbers between 0 and 10 (inclusive)\n",
    "arr_linspace = np.linspace(0, 10, 5)\n",
    "print(f\"5 evenly spaced numbers from 0 to 10: {arr_linspace}\")"
   ]
  },
  {
   "cell_type": "code",
   "execution_count": null,
   "id": "d3073b21",
   "metadata": {},
   "outputs": [],
   "source": [
    "# np.eye(N) creates a 3x3 identity matrix (ones on the diagonal)\n",
    "arr_eye = np.eye(3)\n",
    "print(f\"A 3x3 identity matrix:\\n{arr_eye}\")"
   ]
  },
  {
   "cell_type": "markdown",
   "id": "eee17a22",
   "metadata": {},
   "source": [
    "### 🧠 Practice Task 2\n",
    "\n",
    "Create a 1D NumPy array containing all the even numbers from 2 to 20 using `np.arange()`."
   ]
  },
  {
   "cell_type": "code",
   "execution_count": null,
   "id": "d44411fd",
   "metadata": {},
   "outputs": [],
   "source": [
    "# Your code here!\n",
    "# Hint: The 'step' argument in np.arange() will be very useful!\n",
    "even_numbers = np.arange(2, 21, 2)\n",
    "print(f\"Even numbers from 2 to 20: {even_numbers}\")"
   ]
  },
  {
   "cell_type": "markdown",
   "id": "a2ee5cf1",
   "metadata": {},
   "source": [
    "### 📄 Topic 3: Creating Arrays with Random Numbers\n",
    "\n",
    "Random numbers are vital in AI for things like simulating data or initializing machine learning models. NumPy's `random` module is your best friend for this.\n",
    "\n",
    "- `np.random.rand()`: Random numbers between 0 and 1 (uniform distribution).\n",
    "- `np.random.randn()`: Random numbers from a 'bell curve' (standard normal distribution).\n",
    "- `np.random.randint()`: Random integers within a specific range."
   ]
  },
  {
   "cell_type": "code",
   "execution_count": null,
   "id": "4b64bc30",
   "metadata": {},
   "outputs": [],
   "source": [
    "# A 2x3 array with random values between 0 and 1\n",
    "rand_uniform = np.random.rand(2, 3)\n",
    "print(f\"A 2x3 array of random floats between 0 and 1:\\n{rand_uniform}\")\n",
    "\n",
    "# 🧪 Try re-running this cell! The numbers will change every time."
   ]
  },
  {
   "cell_type": "code",
   "execution_count": null,
   "id": "e076c4f0",
   "metadata": {},
   "outputs": [],
   "source": [
    "# A 2x3 array with values from a standard normal distribution\n",
    "# Notice that some numbers can be negative!\n",
    "rand_normal = np.random.randn(2, 3)\n",
    "print(f\"A 2x3 array from a normal distribution:\\n{rand_normal}\")"
   ]
  },
  {
   "cell_type": "code",
   "execution_count": null,
   "id": "907c2e09",
   "metadata": {},
   "outputs": [],
   "source": [
    "# A 1D array of 5 random integers between 10 (inclusive) and 20 (exclusive)\n",
    "rand_int = np.random.randint(10, 20, size=5)\n",
    "print(f\"5 random integers between 10 and 20: {rand_int}\")"
   ]
  },
  {
   "cell_type": "code",
   "execution_count": null,
   "id": "7a6fa16d",
   "metadata": {},
   "outputs": [],
   "source": [
    "# A 3x4 array of random integers between 0 and 50\n",
    "rand_int_2d = np.random.randint(0, 50, size=(3, 4))\n",
    "print(f\"A 3x4 array of random integers between 0 and 50:\\n{rand_int_2d}\")"
   ]
  },
  {
   "cell_type": "markdown",
   "id": "1c117354",
   "metadata": {},
   "source": [
    "### 🧠 Practice Task 3\n",
    "\n",
    "Imagine you're rolling a standard six-sided die 10 times. Create a NumPy array that simulates these 10 rolls. (Hint: you'll need random integers between 1 and 7)."
   ]
  },
  {
   "cell_type": "code",
   "execution_count": null,
   "id": "95ea3958",
   "metadata": {},
   "outputs": [],
   "source": [
    "# Your code here!\n",
    "die_rolls = np.random.randint(1, 7, size=10)\n",
    "print(f\"10 die rolls: {die_rolls}\")"
   ]
  },
  {
   "cell_type": "markdown",
   "id": "1f18b327",
   "metadata": {},
   "source": [
    "## Part 2: Array Attributes and Methods\n",
    "\n",
    "Now that we can create arrays, let's learn how to inspect and understand them. **Attributes** are properties of the array (like its size), and **methods** are functions that do things with the array (like find the biggest value)."
   ]
  },
  {
   "cell_type": "markdown",
   "id": "b0dfd4ef",
   "metadata": {},
   "source": [
    "### 📄 Topic 4: Inspecting Array Attributes\n",
    "\n",
    "Attributes tell you about the array's metadata. You access them without using parentheses `()`.\n",
    "\n",
    "- `.ndim`: The number of dimensions (or axes).\n",
    "- `.shape`: A tuple showing the size in each dimension (rows, columns, etc.).\n",
    "- `.size`: The total number of elements in the array.\n",
    "- `.dtype`: The data type of the elements (`int64`, `float64`, etc.)."
   ]
  },
  {
   "cell_type": "code",
   "execution_count": null,
   "id": "92fdf532",
   "metadata": {},
   "outputs": [],
   "source": [
    "# Create a sample 3D array (e.g., a 2x3x4 block of numbers)\n",
    "arr = np.random.randint(0, 10, size=(2, 3, 4))\n",
    "\n",
    "print(f\"Our Array:\\n{arr}\\n\")\n",
    "\n",
    "# Let's inspect its attributes\n",
    "print(f\"Number of dimensions (ndim): {arr.ndim}\")\n",
    "print(f\"Shape of array (shape): {arr.shape}\")\n",
    "print(f\"Total elements (size): {arr.size}\")\n",
    "print(f\"Data type (dtype): {arr.dtype}\")\n",
    "\n",
    "# 💡 Fun Fact: arr.size is always the product of the numbers in arr.shape. Here, 2 * 3 * 4 = 24."
   ]
  },
  {
   "cell_type": "markdown",
   "id": "4dce49cc",
   "metadata": {},
   "source": [
    "### 🧠 Practice Task 4\n",
    "\n",
    "Create a 2D array with 5 rows and 2 columns, filled with ones. Then, print its `shape` and `size`."
   ]
  },
  {
   "cell_type": "code",
   "execution_count": null,
   "id": "96e98597",
   "metadata": {},
   "outputs": [],
   "source": [
    "# Your code here!\n",
    "my_array = np.ones((5, 2))\n",
    "\n",
    "print(f\"Array:\\n{my_array}\")\n",
    "print(f\"Shape: {my_array.shape}\")\n",
    "print(f\"Size: {my_array.size}\")"
   ]
  },
  {
   "cell_type": "markdown",
   "id": "be167e82",
   "metadata": {},
   "source": [
    "### 📄 Topic 5: Using Basic Array Methods\n",
    "\n",
    "Methods are functions that belong to the array object. You call them with parentheses `()`.\n",
    "\n",
    "- `.reshape()`: Changes the shape of the array without changing its data.\n",
    "- `.max()` / `.min()`: Finds the maximum or minimum value.\n",
    "- `.argmax()` / `.argmin()`: Finds the *index* of the maximum or minimum value.\n",
    "\n",
    "💡 **Super important concept:** The `axis` parameter. For a 2D array, `axis=0` operates on columns and `axis=1` operates on rows."
   ]
  },
  {
   "cell_type": "code",
   "execution_count": null,
   "id": "edbdc598",
   "metadata": {},
   "outputs": [],
   "source": [
    "# Create a 3x3 array with numbers from 1 to 9\n",
    "data = np.arange(1, 10).reshape((3, 3))\n",
    "print(f\"Original Array:\\n{data}\\n\")\n",
    "\n",
    "# Reshape it into a 9x1 array (9 rows, 1 column)\n",
    "reshaped = data.reshape((9, 1))\n",
    "print(f\"Reshaped to (9, 1):\\n{reshaped}\\n\")"
   ]
  },
  {
   "cell_type": "code",
   "execution_count": null,
   "id": "56013c1c",
   "metadata": {},
   "outputs": [],
   "source": [
    "# Let's use our original 3x3 'data' array again\n",
    "data = np.arange(1, 10).reshape((3, 3))\n",
    "print(f\"Original Array:\\n{data}\\n\")\n",
    "\n",
    "# Find max and min values of the entire array\n",
    "print(f\"Max value of entire array: {data.max()}\")\n",
    "print(f\"Min value of entire array: {data.min()}\")\n",
    "\n",
    "# Find the index of the max and min values (as if the array was flattened into 1D)\n",
    "print(f\"Index of max value: {data.argmax()}\") # 9 is at the 8th index (0-indexed)\n",
    "print(f\"Index of min value: {data.argmin()}\") # 1 is at the 0th index"
   ]
  },
  {
   "cell_type": "code",
   "execution_count": null,
   "id": "354ff80f",
   "metadata": {},
   "outputs": [],
   "source": [
    "# Now let's use the 'axis' parameter\n",
    "data = np.arange(1, 10).reshape((3, 3))\n",
    "print(f\"Original Array:\\n{data}\\n\")\n",
    "\n",
    "# Find the max value in each COLUMN (axis=0)\n",
    "print(f\"Max value in each column (axis=0): {data.max(axis=0)}\") # Compares [1, 4, 7], [2, 5, 8], [3, 6, 9]\n",
    "\n",
    "# Find the min value in each ROW (axis=1)\n",
    "print(f\"Min value in each row (axis=1): {data.min(axis=1)}\")   # Compares [1, 2, 3], [4, 5, 6], [7, 8, 9]"
   ]
  },
  {
   "cell_type": "markdown",
   "id": "a5a99dfc",
   "metadata": {},
   "source": [
    "### 🧠 Practice Task 5\n",
    "\n",
    "Create a 2x4 array of random integers between 0 and 100. Then, find the maximum value for the entire array and the minimum value for each row."
   ]
  },
  {
   "cell_type": "code",
   "execution_count": null,
   "id": "c6dddf68",
   "metadata": {},
   "outputs": [],
   "source": [
    "# Your code here!\n",
    "my_random_array = np.random.randint(0, 100, size=(2, 4))\n",
    "print(f\"My random array:\\n{my_random_array}\\n\")\n",
    "\n",
    "# Find the overall max value\n",
    "overall_max = my_random_array.max()\n",
    "print(f\"The biggest number in the whole array is: {overall_max}\")\n",
    "\n",
    "# Find the minimum value in each row (axis=1)\n",
    "row_mins = my_random_array.min(axis=1)\n",
    "print(f\"The minimums of each row are: {row_mins}\")"
   ]
  },
  {
   "cell_type": "markdown",
   "id": "0741f354",
   "metadata": {},
   "source": [
    "## Part 3: Operations on Arrays\n",
    "\n",
    "This is where the real power of NumPy shines! We'll learn how to manipulate the structure and content of arrays efficiently."
   ]
  },
  {
   "cell_type": "markdown",
   "id": "3b375c6c",
   "metadata": {},
   "source": [
    "### 📄 Topic 6: Copying Arrays (A Very Important Concept!)\n",
    "\n",
    "This can be tricky for beginners, so pay close attention!\n",
    "\n",
    "- `arr_b = arr_a`: This is **NOT a copy**. Both variables point to the *exact same* data. Changing one will change the other.\n",
    "- `arr_b = arr_a.copy()`: This is a **deep copy**. A completely new, independent array is created. Changing one will **NOT** affect the other. This is usually what you want!\n",
    "\n",
    "We will skip shallow copies (`.view()`) for this introductory class to keep things simple."
   ]
  },
  {
   "cell_type": "code",
   "execution_count": null,
   "id": "a03f200d",
   "metadata": {},
   "outputs": [],
   "source": [
    "original = np.arange(5)\n",
    "print(f\"Original array: {original}\")\n",
    "\n",
    "# This is just a reference, NOT a copy!\n",
    "reference = original\n",
    "reference[0] = 99 # Change the first element of the reference\n",
    "\n",
    "print(f\"Original after modifying reference: {original}\") # Uh oh! The original changed too!"
   ]
  },
  {
   "cell_type": "code",
   "execution_count": null,
   "id": "3df45399",
   "metadata": {},
   "outputs": [],
   "source": [
    "original = np.arange(5) # Reset the original array\n",
    "print(f\"Original array: {original}\")\n",
    "\n",
    "# This is a DEEP COPY\n",
    "deep_copy = original.copy()\n",
    "deep_copy[0] = 77 # Change the first element of the copy\n",
    "\n",
    "print(f\"Original after modifying deep copy: {original}\") # Phew! The original is safe.\n",
    "print(f\"The deep copy: {deep_copy}\")"
   ]
  },
  {
   "cell_type": "markdown",
   "id": "f42804b6",
   "metadata": {},
   "source": [
    "### 🧠 Practice Task 6\n",
    "\n",
    "Create an array `[10, 20, 30]`. Make a deep copy of it and change the last element of the copy to be `99`. Print both the original and the copy to prove the original was not affected."
   ]
  },
  {
   "cell_type": "code",
   "execution_count": null,
   "id": "ce0a23a1",
   "metadata": {},
   "outputs": [],
   "source": [
    "# Your code here!\n",
    "original_arr = np.array([10, 20, 30])\n",
    "copied_arr = original_arr.copy()\n",
    "\n",
    "copied_arr[2] = 99\n",
    "\n",
    "print(f\"Original array: {original_arr}\")\n",
    "print(f\"Copied array: {copied_arr}\")"
   ]
  },
  {
   "cell_type": "markdown",
   "id": "85905487",
   "metadata": {},
   "source": [
    "### 📄 Topic 7: Modifying Arrays (Append, Insert, Sort, Delete)\n",
    "\n",
    "Unlike Python lists, NumPy arrays have a fixed size. So, functions like `append`, `insert`, and `delete` actually create and return a *new* array with the modification.\n",
    "\n",
    "- `np.append()`: Adds values to the end.\n",
    "- `np.insert()`: Inserts values at a specific index.\n",
    "- `np.delete()`: Removes elements at a specific index.\n",
    "- `np.sort()` vs `.sort()`: One returns a sorted copy, the other sorts the array in-place."
   ]
  },
  {
   "cell_type": "code",
   "execution_count": null,
   "id": "e40a7a54",
   "metadata": {},
   "outputs": [],
   "source": [
    "# Example of Append and Insert\n",
    "arr = np.array([[1, 2], [3, 4]])\n",
    "\n",
    "# Append a new row. We must specify axis=0 for rows.\n",
    "appended_row = np.append(arr, [[5, 6]], axis=0)\n",
    "print(f\"Appended Row:\\n{appended_row}\")\n",
    "\n",
    "# Insert a new column at index 1. We must specify axis=1 for columns.\n",
    "inserted_col = np.insert(arr, 1, [9, 9], axis=1)\n",
    "print(f\"\\nInserted Column:\\n{inserted_col}\")"
   ]
  },
  {
   "cell_type": "code",
   "execution_count": null,
   "id": "977f73ef",
   "metadata": {},
   "outputs": [],
   "source": [
    "# Example of Sorting\n",
    "unsorted = np.array([3, 1, 4, 1, 5, 9, 2])\n",
    "\n",
    "# np.sort(arr) returns a sorted COPY\n",
    "sorted_copy = np.sort(unsorted)\n",
    "print(f\"Original array: {unsorted}\")\n",
    "print(f\"Sorted copy: {sorted_copy}\")\n",
    "\n",
    "# arr.sort() sorts the array IN-PLACE (modifies the original)\n",
    "unsorted.sort()\n",
    "print(f\"Original array after in-place sort: {unsorted}\")"
   ]
  },
  {
   "cell_type": "code",
   "execution_count": null,
   "id": "6a4073e3",
   "metadata": {},
   "outputs": [],
   "source": [
    "# Example of Deleting\n",
    "arr = np.arange(1, 13).reshape((3, 4))\n",
    "print(f\"Original Array:\\n{arr}\")\n",
    "\n",
    "# Delete the 2nd row (index 1), along axis=0\n",
    "deleted_row = np.delete(arr, 1, axis=0)\n",
    "print(f\"\\nAfter deleting row 1:\\n{deleted_row}\")\n",
    "\n",
    "# Delete the 3rd column (index 2), along axis=1\n",
    "deleted_col = np.delete(arr, 2, axis=1)\n",
    "print(f\"\\nAfter deleting column 2:\\n{deleted_col}\")"
   ]
  },
  {
   "cell_type": "markdown",
   "id": "feec19c7",
   "metadata": {},
   "source": [
    "### 🧠 Practice Task 7\n",
    "\n",
    "Start with the array `[10, 40, 20]`. First, create a sorted copy and print it. Then, delete the element at index 1 from the original array and print the result."
   ]
  },
  {
   "cell_type": "code",
   "execution_count": null,
   "id": "32c1337b",
   "metadata": {},
   "outputs": [],
   "source": [
    "# Your code here!\n",
    "my_arr = np.array([10, 40, 20])\n",
    "\n",
    "# Create a sorted copy\n",
    "sorted_version = np.sort(my_arr)\n",
    "print(f\"Sorted copy: {sorted_version}\")\n",
    "\n",
    "# Delete element at index 1 from the original\n",
    "deleted_version = np.delete(my_arr, 1)\n",
    "print(f\"Original after deleting element at index 1: {deleted_version}\")\n",
    "print(f\"The original is still: {my_arr}\")"
   ]
  },
  {
   "cell_type": "markdown",
   "id": "1be6fb28",
   "metadata": {},
   "source": [
    "### 📄 Topic 8: Combining and Splitting Arrays\n",
    "\n",
    "Finally, let's learn how to join arrays together or split them apart.\n",
    "\n",
    "- `np.vstack()` or `np.concatenate(..., axis=0)`: Stacks arrays vertically (on top of each other).\n",
    "- `np.hstack()` or `np.concatenate(..., axis=1)`: Stacks arrays horizontally (side-by-side).\n",
    "- `np.vsplit()` and `np.hsplit()`: The reverse of stacking; splits arrays vertically or horizontally."
   ]
  },
  {
   "cell_type": "code",
   "execution_count": null,
   "id": "e3ca792f",
   "metadata": {},
   "outputs": [],
   "source": [
    "# Example of Combining (Stacking)\n",
    "a = np.array([[1, 2], [3, 4]])\n",
    "b = np.array([[5, 6]]) # Note the shape: this is a row\n",
    "\n",
    "# Vertical stacking (must have same number of columns)\n",
    "v_stacked = np.vstack((a, b))\n",
    "print(f\"Vertically Stacked:\\n{v_stacked}\")\n",
    "\n",
    "c = np.array([[9], [9]]) # Note the shape: this is a column\n",
    "\n",
    "# Horizontal stacking (must have same number of rows)\n",
    "h_stacked = np.hstack((a, c))\n",
    "print(f\"\\nHorizontally Stacked:\\n{h_stacked}\")"
   ]
  },
  {
   "cell_type": "code",
   "execution_count": null,
   "id": "b7debc90",
   "metadata": {},
   "outputs": [],
   "source": [
    "# Example of Splitting\n",
    "arr = np.arange(16).reshape((4, 4))\n",
    "print(f\"Original Array:\\n{arr}\")\n",
    "\n",
    "# Horizontal split into 2 equal parts\n",
    "h_split = np.hsplit(arr, 2)\n",
    "print(f\"\\nHorizontal Split Part 1:\\n{h_split[0]}\")\n",
    "print(f\"\\nHorizontal Split Part 2:\\n{h_split[1]}\")\n",
    "\n",
    "# Vertical split into 4 equal parts\n",
    "v_split = np.vsplit(arr, 4)\n",
    "print(f\"\\nVertical Split Part 1 (first row):\\n{v_split[0]}\")"
   ]
  },
  {
   "cell_type": "markdown",
   "id": "681c41b0",
   "metadata": {},
   "source": [
    "### 🧠 Practice Task 8\n",
    "\n",
    "Create two 1D arrays: `arr1 = np.array([1, 1, 1])` and `arr2 = np.array([9, 9, 9])`. Stack them vertically to create a 2x3 array."
   ]
  },
  {
   "cell_type": "code",
   "execution_count": null,
   "id": "fa4dafdf",
   "metadata": {},
   "outputs": [],
   "source": [
    "# Your code here!\n",
    "arr1 = np.array([1, 1, 1])\n",
    "arr2 = np.array([9, 9, 9])\n",
    "\n",
    "stacked_array = np.vstack((arr1, arr2))\n",
    "print(f\"The final stacked array:\\n{stacked_array}\")"
   ]
  },
  {
   "cell_type": "markdown",
   "id": "022ff600",
   "metadata": {},
   "source": [
    "## 🎉 Final Revision Assignment 🎉\n",
    "\n",
    "Time to put it all together! These tasks are designed for you to practice at home to solidify what you've learned. Try to solve them on your own!\n",
    "\n",
    "---"
   ]
  },
  {
   "cell_type": "markdown",
   "id": "caee5ea3",
   "metadata": {},
   "source": [
    "### **Task 1: Create and Inspect**\n",
    "\n",
    "Create a 4x5 array of random integers between 10 and 99.\n",
    "a. Print the array.\n",
    "b. Print its shape, size, and number of dimensions."
   ]
  },
  {
   "cell_type": "code",
   "execution_count": null,
   "id": "05e6a6e6",
   "metadata": {},
   "outputs": [],
   "source": [
    "# Your code for Task 1\n"
   ]
  },
  {
   "cell_type": "markdown",
   "id": "68035ccf",
   "metadata": {},
   "source": [
    "### **Task 2: Find Max/Min**\n",
    "\n",
    "Using the array from Task 1:\n",
    "a. Find the largest value in the entire array.\n",
    "b. Find the minimum value in each *column*."
   ]
  },
  {
   "cell_type": "code",
   "execution_count": null,
   "id": "a0ce9a59",
   "metadata": {},
   "outputs": [],
   "source": [
    "# Your code for Task 2\n"
   ]
  },
  {
   "cell_type": "markdown",
   "id": "1b011c2e",
   "metadata": {},
   "source": [
    "### **Task 3: Sorting**\n",
    "\n",
    "What is the main difference between `arr.sort()` and `np.sort(arr)`? Write your answer as a comment in the code cell and give an example of using `np.sort()` on a 1D array `[5, 8, 1, 3]`."
   ]
  },
  {
   "cell_type": "code",
   "execution_count": null,
   "id": "3417d717",
   "metadata": {},
   "outputs": [],
   "source": [
    "# Your answer and code for Task 3\n",
    "# Difference: \n"
   ]
  },
  {
   "cell_type": "markdown",
   "id": "6e8b1033",
   "metadata": {},
   "source": [
    "### **Task 4: Combine and Modify**\n",
    "\n",
    "Given the two arrays below:\n",
    "```python\n",
    "A = np.array([,])\n",
    "B = np.array([,])\n",
    "```\n",
    "a. Combine A and B horizontally to create a new array `C`.\n",
    "b. From array `C`, delete the first column.\n",
    "c. Print the final array."
   ]
  },
  {
   "cell_type": "code",
   "execution_count": null,
   "id": "cdae508b",
   "metadata": {},
   "outputs": [],
   "source": [
    "# Your code for Task 4\n",
    "A = np.array([[1, 5, 3], [4, 2, 6]])\n",
    "B = np.array([[9, 8, 7], [1, 2, 3]])\n"
   ]
  },
  {
   "cell_type": "markdown",
   "id": "5fd8b927",
   "metadata": {},
   "source": [
    "### **Task 5: Reshape**\n",
    "\n",
    "Create a 1D array with 12 consecutive numbers starting from 0 using `np.arange()`. Then, reshape it into three different 2D shapes (e.g., 3x4, 4x3, etc.) and print each one."
   ]
  },
  {
   "cell_type": "code",
   "execution_count": null,
   "id": "4c0b39f8",
   "metadata": {},
   "outputs": [],
   "source": [
    "# Your code for Task 5\n"
   ]
  },
  {
   "cell_type": "markdown",
   "id": "a9010670",
   "metadata": {},
   "source": [
    "### **Task 6: Multiple Choice Question**\n",
    "\n",
    "Which of the following functions would you use to generate a 5x5 array of random floating-point numbers where each number is equally likely to be chosen from the interval [0.0, 1.0)?\n",
    "\n",
    "a) `np.random.randint(0, 1, size=(5, 5))`\n",
    "b) `np.random.randn(5, 5)`\n",
    "c) `np.random.rand(5, 5)`\n",
    "d) `np.linspace(0, 1, 25).reshape(5, 5)`\n",
    "\n",
    "Write your answer in the code cell below as a comment."
   ]
  },
  {
   "cell_type": "code",
   "execution_count": null,
   "id": "d659c3c0",
   "metadata": {},
   "outputs": [],
   "source": [
    "# Your answer for Task 6\n",
    "# My answer is: "
   ]
  },
  {
   "cell_type": "markdown",
   "id": "8b7556be",
   "metadata": {},
   "source": [
    "## 🎯 Summary / Key Takeaways\n",
    "\n",
    "Congratulations on completing this session! Here's a quick summary of what we covered.\n",
    "\n",
    "| Concept      | Key Function(s) / Attribute(s)                                 | Description                                                                                 |\n",
    "|--------------|----------------------------------------------------------------|---------------------------------------------------------------------------------------------|\n",
    "| **Creation**   | `np.array()`, `np.arange()`, `np.zeros()`, `np.random.rand()`    | Multiple ways to create arrays from lists, ranges, placeholders, or random distributions.   |\n",
    "| **Attributes** | `.shape`, `.size`, `.ndim`, `.dtype`                           | Metadata that describes the array's structure and data type without computation.            |\n",
    "| **Methods**    | `.reshape()`, `.max()`, `.min()`, `.argmax()`, `.argmin()`       | Functions to change an array's shape or find key values and their indices.                  |\n",
    "| **Copying**    | `arr.copy()` vs `=`                                            | Crucial for avoiding unintended modifications. Use `.copy()` for a safe, independent duplicate. |\n",
    "| **Modification** | `np.append()`, `np.insert()`, `np.delete()`                    | These operations create and return new arrays; they do not modify the original in-place.    |\n",
    "| **Combining**  | `np.concatenate()`, `np.vstack()`, `np.hstack()`               | Used to join arrays along a specified axis (vertically or horizontally).                  |\n",
    "| **Splitting**  | `np.split()`, `np.vsplit()`, `np.hsplit()`                     | The inverse of combining; used to break one array into multiple smaller ones.             |"
   ]
  }
 ],
 "metadata": {
  "kernelspec": {
   "display_name": "Python 3 (ipykernel)",
   "language": "python",
   "name": "python3"
  },
  "language_info": {
   "codemirror_mode": {
    "name": "ipython",
    "version": 3
   },
   "file_extension": ".py",
   "mimetype": "text/x-python",
   "name": "python",
   "nbconvert_exporter": "python",
   "pygments_lexer": "ipython3",
   "version": "3.12.7"
  }
 },
 "nbformat": 4,
 "nbformat_minor": 5
}
