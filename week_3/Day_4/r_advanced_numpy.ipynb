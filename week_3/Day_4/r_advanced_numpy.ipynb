{
 "cells": [
  {
   "cell_type": "markdown",
   "id": "36b151fb",
   "metadata": {},
   "source": [
    "# 🚀 Welcome to Your First NumPy Adventure!\n",
    "\n",
    "A Comprehensive Guide to NumPy Operations for AI Beginners"
   ]
  },
  {
   "cell_type": "markdown",
   "id": "498470fd",
   "metadata": {},
   "source": [
    "### 📘 Overview of Today's 2-Hour Session\n",
    "\n",
    "Welcome! In the next two hours, we're going to explore **NumPy**, a super powerful Python library that is the foundation of almost all AI and Data Science work. Think of it as a set of superpowers for working with numbers and data!\n",
    "\n",
    "**Why NumPy?** It's incredibly fast and efficient for handling large sets of data, which is exactly what we need in AI.\n",
    "\n",
    "### 🎯 Learning Objectives:\n",
    "\n",
    "By the end of this session, you will be able to:\n",
    "1.  Understand and create basic NumPy arrays.\n",
    "2.  Save your data to files and load it back (`np.save`, `np.load`).\n",
    "3.  Select specific data from 2D arrays (indexing & slicing).\n",
    "4.  Filter data based on conditions (Boolean Indexing).\n",
    "5.  Perform operations on arrays of different shapes (Broadcasting).\n",
    "6.  Change the data type of an array (`.astype()`).\n",
    "7.  Use Universal Functions (ufuncs) for fast math operations (`np.add`, `np.sin`)."
   ]
  },
  {
   "cell_type": "markdown",
   "id": "6ebbf0fa",
   "metadata": {},
   "source": [
    "### ⚙️ Let's Get Set Up!\n",
    "\n",
    "First things first, we need to import the NumPy library. We use `import numpy as np` as a standard convention. This means we can refer to NumPy with the shorter name `np`."
   ]
  },
  {
   "cell_type": "code",
   "execution_count": 2,
   "id": "5559f7b0",
   "metadata": {},
   "outputs": [],
   "source": [
    "# Import the numpy library\n",
    "import numpy as np"
   ]
  },
  {
   "cell_type": "markdown",
   "id": "1723943a",
   "metadata": {},
   "source": [
    "--- \n",
    "## Topic 1: Interacting with Data Files (Saving & Loading)\n",
    "\n",
    "In AI, we often work with huge datasets. We need a way to save our work (like arrays we've processed) and load it back later without losing anything. NumPy makes this super easy!\n",
    "\n",
    "- `np.save()`: Saves a single array to a special NumPy file called a `.npy` file. It's fast and efficient!\n",
    "- `np.load()`: Loads an array back from a `.npy` file."
   ]
  },
  {
   "cell_type": "code",
   "execution_count": null,
   "id": "69df023c",
   "metadata": {},
   "outputs": [],
   "source": [
    "# Create a simple NumPy array\n",
    "my_first_array = np.array([10, 20, 30, 40, 50])\n",
    "print(f\"Original Array: {my_first_array}\")\n",
    "\n",
    "# 💾 Save the array to a file named 'my_data.npy'\n",
    "np.save('my_data.npy', my_first_array)\n",
    "\n",
    "print(\"\\nArray has been saved to 'my_data.npy'!\")"
   ]
  },
  {
   "cell_type": "code",
   "execution_count": null,
   "id": "d8eecacc",
   "metadata": {},
   "outputs": [],
   "source": [
    "# 📂 Now, let's load the array back from the file\n",
    "loaded_array = np.load('my_data.npy')\n",
    "\n",
    "print(f\"Loaded Array: {loaded_array}\")"
   ]
  },
  {
   "cell_type": "markdown",
   "id": "fed01a3f",
   "metadata": {},
   "source": [
    "💡 **Quick Tip:** For text files (like `.csv`), NumPy has other functions like `np.loadtxt()` and `np.genfromtxt()`. `np.genfromtxt()` is more robust because it can handle files with missing values!"
   ]
  },
  {
   "cell_type": "code",
   "execution_count": null,
   "id": "f51caec8-6f1f-411c-993b-63a22abd3488",
   "metadata": {},
   "outputs": [],
   "source": []
  },
  {
   "cell_type": "markdown",
   "id": "292e2591",
   "metadata": {},
   "source": [
    "### 🎯 Practice Task: Save and Load\n",
    "\n",
    "1. Create a new array with the marks of differect subjects of a student.\n",
    "2. Save it to a file called `marks.npy`.\n",
    "3. Load it back into a new variable called `reloaded_marks`.\n",
    "4. Print `reloaded_marks` to check if it worked!"
   ]
  },
  {
   "cell_type": "code",
   "execution_count": 10,
   "id": "f962882f",
   "metadata": {},
   "outputs": [],
   "source": [
    "# Your code here!"
   ]
  },
  {
   "cell_type": "markdown",
   "id": "49cce63e",
   "metadata": {},
   "source": [
    "--- \n",
    "## Topic 2: Manipulating 2D Arrays (Indexing & Slicing)\n",
    "\n",
    "Often, our data isn't a simple list; it's a grid or a table. We call these 2D arrays. Think of them like a spreadsheet with rows and columns. We can select specific data using its coordinates: `array[row, column]`."
   ]
  },
  {
   "cell_type": "code",
   "execution_count": null,
   "id": "e757325e",
   "metadata": {},
   "outputs": [],
   "source": [
    "# A 2D array of game scores (3 players, 4 rounds)\n",
    "game_scores = np.array([\n",
    "    [88, 92, 100, 75], # Player 1 scores\n",
    "    [95, 85, 90, 88],  # Player 2 scores\n",
    "    [78, 88, 98, 92]   # Player 3 scores\n",
    "])\n",
    "\n",
    "print(\"Full score grid:\\n\", game_scores)"
   ]
  },
  {
   "cell_type": "code",
   "execution_count": null,
   "id": "19f159c9",
   "metadata": {},
   "outputs": [],
   "source": [
    "# Let's get the score of Player 2 in Round 3\n",
    "# Remember: indexing starts at 0! So Player 2 is row 1, Round 3 is column 2.\n",
    "player2_round3_score = game_scores[1, 2]\n",
    "\n",
    "print(f\"Player 2's score in Round 3 was: {player2_round3_score}\")"
   ]
  },
  {
   "cell_type": "code",
   "execution_count": null,
   "id": "afb827eb",
   "metadata": {},
   "outputs": [],
   "source": [
    "# We can also 'slice' to get a whole section!\n",
    "# Let's get the scores of the first two players for the last two rounds.\n",
    "# Rows 0 to 1 (but not including 2) -> 0:2\n",
    "# Columns 2 to 3 (but not including 4) -> 2:4\n",
    "sliced_scores = game_scores[1:3, 0:2]\n",
    "\n",
    "print(\"Scores for first two players, last two rounds:\\n\", sliced_scores)"
   ]
  },
  {
   "cell_type": "markdown",
   "id": "17dd3647",
   "metadata": {},
   "source": [
    "### 🎯 Practice Task: Select the Data\n",
    "\n",
    "Using the `game_scores` array from above, write code to select all scores for Player 3."
   ]
  },
  {
   "cell_type": "code",
   "execution_count": null,
   "id": "dae86f2b",
   "metadata": {},
   "outputs": [],
   "source": [
    "# Your code here!\n",
    "# Hint: Player 3 is at index 2. We want all columns."
   ]
  },
  {
   "cell_type": "markdown",
   "id": "77e298fd",
   "metadata": {},
   "source": [
    "--- \n",
    "## Topic 3: Boolean Indexing (Magic Filtering!)\n",
    "\n",
    "This is one of NumPy's coolest features! We can select data based on a condition. For example, we can ask NumPy to \"find all scores greater than 90\".\n",
    "\n",
    "It works in two steps:\n",
    "1. Create a condition (e.g., `array > 90`). This gives a new array of `True` and `False` values.\n",
    "2. Use this `True/False` array to select elements from the original array. Only the elements corresponding to `True` are kept!"
   ]
  },
  {
   "cell_type": "code",
   "execution_count": null,
   "id": "aac27d7a",
   "metadata": {},
   "outputs": [],
   "source": [
    "# Let's use our game_scores array again\n",
    "print(\"Original scores:\\n\", game_scores)\n",
    "\n",
    "# Step 1: Create the condition to find high scores (> 90)\n",
    "high_scores_condition = game_scores > 90\n",
    "print(\"\\nTrue/False mask for scores > 90:\\n\", high_scores_condition)"
   ]
  },
  {
   "cell_type": "code",
   "execution_count": null,
   "id": "7a2d0482",
   "metadata": {},
   "outputs": [],
   "source": [
    "# Step 2: Use the condition to filter the scores\n",
    "all_high_scores = game_scores[high_scores_condition]\n",
    "\n",
    "print(f\"All scores that were higher than 90: {all_high_scores}\")"
   ]
  },
  {
   "cell_type": "markdown",
   "id": "f46174f6",
   "metadata": {},
   "source": [
    "### 🎯 Practice Task: Filter the Scores\n",
    "\n",
    "From the `game_scores` array, find and print all the scores that are **less than 80**."
   ]
  },
  {
   "cell_type": "code",
   "execution_count": 13,
   "id": "9efde69c",
   "metadata": {},
   "outputs": [],
   "source": [
    "# Your code here!"
   ]
  },
  {
   "cell_type": "markdown",
   "id": "6e616a50",
   "metadata": {},
   "source": [
    "--- \n",
    "## Topic 4: Broadcasting (Smart Operations)\n",
    "\n",
    "What if you want to add 5 bonus points to *every single score* in our `game_scores` array? You could write a loop, but NumPy has a much smarter and faster way called **broadcasting**.\n",
    "\n",
    "Broadcasting allows you to perform math between arrays of different shapes. The smaller array is \"broadcast\" across the larger one. The simplest example is adding a single number (a scalar) to an entire array."
   ]
  },
  {
   "cell_type": "code",
   "execution_count": null,
   "id": "e89a0ba7-b147-42ea-ae32-e8ac359e56c6",
   "metadata": {},
   "outputs": [],
   "source": [
    "game_scores"
   ]
  },
  {
   "cell_type": "code",
   "execution_count": null,
   "id": "4236d816",
   "metadata": {},
   "outputs": [],
   "source": [
    "# Let's add 5 bonus points to all game scores\n",
    "print(\"Original scores:\\n\", game_scores)\n",
    "\n",
    "scores_with_bonus = game_scores + 5\n",
    "\n",
    "print(\"\\nScores after 5 bonus points:\\n\", scores_with_bonus)"
   ]
  },
  {
   "cell_type": "markdown",
   "id": "515165d4",
   "metadata": {},
   "source": [
    "✅ **Well done!** You just used broadcasting. Notice how you didn't need a loop. This is why NumPy is so fast."
   ]
  },
  {
   "cell_type": "markdown",
   "id": "2c871229",
   "metadata": {},
   "source": [
    "### 🎯 Practice Task: Apply a Penalty\n",
    "\n",
    "Imagine there was a penalty and every score must be reduced by 10 points. Create a new array called `penalized_scores` by subtracting 10 from `game_scores`."
   ]
  },
  {
   "cell_type": "code",
   "execution_count": null,
   "id": "3d098c14",
   "metadata": {},
   "outputs": [],
   "source": [
    "# Your code here!"
   ]
  },
  {
   "cell_type": "markdown",
   "id": "e5e2f638",
   "metadata": {},
   "source": [
    "--- \n",
    "## Topic 5: Type Casting (Changing Data Types)\n",
    "\n",
    "Every NumPy array has a specific data type (`dtype`), like integers (`int`), floating-point numbers (`float`), etc. Sometimes we need to convert an array from one type to another. This is called **type casting**.\n",
    "\n",
    "We can check the type with `.dtype` and change it with `.astype()`."
   ]
  },
  {
   "cell_type": "code",
   "execution_count": null,
   "id": "097df0be",
   "metadata": {},
   "outputs": [],
   "source": [
    "# Let's create an array of floating point numbers (decimals)\n",
    "float_array = np.array([1.1, 2.7, 3.5, 4.9])\n",
    "\n",
    "# Check its original data type\n",
    "print(f\"Original dtype: {float_array.dtype}\")\n",
    "print(f\"Original array: {float_array}\")"
   ]
  },
  {
   "cell_type": "code",
   "execution_count": null,
   "id": "00244220",
   "metadata": {},
   "outputs": [],
   "source": [
    "# Now, let's cast it to integers. This will remove the decimal part.\n",
    "int_array = float_array.astype(np.int32)\n",
    "\n",
    "# Check the new data type and the array itself\n",
    "print(f\"New dtype: {int_array.dtype}\")\n",
    "print(f\"Integer array: {int_array}\")"
   ]
  },
  {
   "cell_type": "markdown",
   "id": "cd8ec0a1",
   "metadata": {},
   "source": [
    "### 🎯 Practice Task: Convert to Float\n",
    "\n",
    "Create an integer array `[10, 20, 30]` and convert it to a float array."
   ]
  },
  {
   "cell_type": "code",
   "execution_count": 18,
   "id": "eed3e615",
   "metadata": {},
   "outputs": [],
   "source": [
    "# Your code here!"
   ]
  },
  {
   "cell_type": "markdown",
   "id": "6714ca78",
   "metadata": {},
   "source": [
    "--- \n",
    "## Topic 6: Arithmetic & Universal Functions (ufuncs)\n",
    "\n",
    "**Universal Functions**, or ufuncs, are functions that operate on arrays element-by-element. They provide a very fast way to perform mathematical operations.\n",
    "\n",
    "We've already seen simple arithmetic (`+`, `-`), but NumPy offers functions for those too, like `np.add()`, and for more complex math like `np.sin()` or `np.sqrt()` (square root)."
   ]
  },
  {
   "cell_type": "code",
   "execution_count": null,
   "id": "57688829",
   "metadata": {},
   "outputs": [],
   "source": [
    "# Create two arrays\n",
    "a = np.array([1, 2, 3, 4])\n",
    "b = np.array([10, 20, 30, 40])\n",
    "\n",
    "# Perform element-wise addition using the ufunc np.add\n",
    "c = np.add(a, b)\n",
    "\n",
    "print(f\"Array a: {a}\")\n",
    "print(f\"Array b: {b}\")\n",
    "print(f\"Result of np.add(a, b): {c}\")"
   ]
  },
  {
   "cell_type": "code",
   "execution_count": null,
   "id": "8e11bae5",
   "metadata": {},
   "outputs": [],
   "source": [
    "# Let's try a more complex ufunc: np.sin()\n",
    "# This will calculate the sine of each element in array 'a'\n",
    "d = np.sin(a)\n",
    "\n",
    "print(f\"Result of np.sin(a): {d}\")\n",
    "\n",
    "# 🧪 Try changing np.sin to np.cos or np.sqrt and see what happens!"
   ]
  },
  {
   "cell_type": "markdown",
   "id": "e63045b6",
   "metadata": {},
   "source": [
    "### 🎯 Practice Task: Multiply and Square\n",
    "\n",
    "1. Create two new arrays, `x = np.array([2, 4, 6])` and `y = np.array([3, 5, 7])`.\n",
    "2. Multiply them together using the `np.multiply()` ufunc.\n",
    "3. Calculate the square of each element in array `x` using the `np.square()` ufunc."
   ]
  },
  {
   "cell_type": "code",
   "execution_count": null,
   "id": "b6417ebe",
   "metadata": {},
   "outputs": [],
   "source": [
    "# Your code here!"
   ]
  },
  {
   "cell_type": "markdown",
   "id": "9b1708a0",
   "metadata": {},
   "source": [
    "--- \n",
    "## 🎉 Final Revision Assignment 🎉\n",
    "\n",
    "Congratulations! You've learned the fundamentals of NumPy. Now it's time to put all your new skills together. Complete the following tasks to solidify your knowledge."
   ]
  },
  {
   "cell_type": "markdown",
   "id": "62582772",
   "metadata": {},
   "source": [
    "**Scenario:** You are analyzing the monthly sales data for a small shop. The data is for 3 products over 4 months.\n",
    "\n",
    "```python\n",
    "sales_data = np.array([\n",
    "   , # Product A sales\n",
    "   ,  # Product B sales\n",
    "      # Product C sales\n",
    "])\n",
    "```\n",
    "\n",
    "**Your Tasks:**\n",
    "\n",
    "1.  **Create and Save:** Create the `sales_data` array above. Save it to a file named `shop_sales.npy`.\n",
    "2.  **Load and Verify:** Load the data from `shop_sales.npy` into a new variable called `loaded_sales` and print it to make sure it loaded correctly.\n",
    "3.  **Top Seller:** Product C is the best-seller. Select and print all sales data just for Product C (the last row).\n",
    "4.  **Find Best Months:** Find all the individual monthly sales figures across all products that were greater than 250.\n",
    "5.  **Apply Inflation:** The prices are expected to increase. Use broadcasting to increase every sales figure by 10%. (Hint: multiply by 1.1).\n",
    "6.  **Data Type Check:** The sales figures should be integers. Your calculation in task 5 will have made them floats. Convert the inflation-adjusted sales array back to an integer data type.\n",
    "7.  **Fun with Ufuncs:** Calculate the total sales for each month by summing up the columns of the original `sales_data` array. (Hint: `sales_data.sum(axis=0)`)."
   ]
  },
  {
   "cell_type": "code",
   "execution_count": null,
   "id": "367dcbda-64a8-495e-80d0-89431d068f9b",
   "metadata": {},
   "outputs": [],
   "source": []
  },
  {
   "cell_type": "code",
   "execution_count": null,
   "id": "88f09c5c-947b-4cf7-87f8-c0b281310ba8",
   "metadata": {},
   "outputs": [],
   "source": []
  },
  {
   "cell_type": "code",
   "execution_count": null,
   "id": "04ed0810",
   "metadata": {
    "jupyter": {
     "source_hidden": true
    }
   },
   "outputs": [],
   "source": [
    "# Your solution for the Final Assignment here!\n",
    "\n",
    "# 1. Create and Save\n",
    "sales_data = np.array([\n",
    "    [150, 200, 220, 180], # Product A sales\n",
    "    [120, 130, 90, 110],  # Product B sales\n",
    "    [300, 310, 290, 330]   # Product C sales\n",
    "])\n",
    "np.save('shop_sales.npy', sales_data)\n",
    "print(\"--- Task 1: Data Saved ---\")\n",
    "\n",
    "# 2. Load and Verify\n",
    "loaded_sales = np.load('shop_sales.npy')\n",
    "print(\"\\n--- Task 2: Loaded Data ---\")\n",
    "print(loaded_sales)\n",
    "\n",
    "# 3. Top Seller\n",
    "product_c_sales = loaded_sales[2, :]\n",
    "print(\"\\n--- Task 3: Product C Sales ---\")\n",
    "print(product_c_sales)\n",
    "\n",
    "# 4. Find Best Months\n",
    "best_months = loaded_sales[loaded_sales > 250]\n",
    "print(\"\\n--- Task 4: Sales over 250 ---\")\n",
    "print(best_months)\n",
    "\n",
    "# 5. Apply Inflation\n",
    "inflated_sales = loaded_sales * 1.1\n",
    "print(\"\\n--- Task 5: Inflated Sales ---\")\n",
    "print(inflated_sales)\n",
    "\n",
    "# 6. Data Type Check\n",
    "integer_inflated_sales = inflated_sales.astype(np.int32)\n",
    "print(\"\\n--- Task 6: Converted to Integers ---\")\n",
    "print(integer_inflated_sales)\n",
    "print(f\"New data type: {integer_inflated_sales.dtype}\")\n",
    "\n",
    "# 7. Fun with Ufuncs\n",
    "total_monthly_sales = sales_data.sum(axis=0)\n",
    "print(\"\\n--- Task 7: Total Monthly Sales ---\")\n",
    "print(total_monthly_sales)"
   ]
  },
  {
   "cell_type": "markdown",
   "id": "10181277",
   "metadata": {
    "jupyter": {
     "source_hidden": true
    }
   },
   "source": [
    "## 🥳 You did it! \n",
    "\n",
    "You've successfully completed the introduction to NumPy. You now have the core skills to manipulate data, which is a critical step on your journey into AI and Machine Learning. Keep practicing!"
   ]
  }
 ],
 "metadata": {
  "kernelspec": {
   "display_name": "Python 3 (ipykernel)",
   "language": "python",
   "name": "python3"
  },
  "language_info": {
   "codemirror_mode": {
    "name": "ipython",
    "version": 3
   },
   "file_extension": ".py",
   "mimetype": "text/x-python",
   "name": "python",
   "nbconvert_exporter": "python",
   "pygments_lexer": "ipython3",
   "version": "3.12.7"
  }
 },
 "nbformat": 4,
 "nbformat_minor": 5
}
