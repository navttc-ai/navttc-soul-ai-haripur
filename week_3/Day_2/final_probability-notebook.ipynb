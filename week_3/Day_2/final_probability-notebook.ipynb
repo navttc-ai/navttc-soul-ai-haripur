{
 "cells": [
  {
   "cell_type": "markdown",
   "id": "04fd1e6b",
   "metadata": {},
   "source": [
    "# 📘 Probability Tutorial Notebook\n",
    "This notebook covers the following topics:\n",
    "- Probability\n",
    "- Joint, Marginal, and Conditional Probability\n",
    "- Probability Distributions\n",
    "- Discrete and Continuous Distributions\n",
    "- Bayesian Probability\n",
    "\n",
    "Each section includes explanations, Python examples, and a small assignment."
   ]
  },
  {
   "cell_type": "markdown",
   "id": "50bc913c",
   "metadata": {},
   "source": [
    "## 🎯 1. Probability\n",
    "Probability measures how likely an event is to occur.\n",
    "\n",
    "**Formula:**\n",
    "$$P(E) = \\frac{\\text{Favorable outcomes}}{\\text{Total outcomes}}$$"
   ]
  },
  {
   "cell_type": "code",
   "execution_count": 1,
   "id": "9389fd55",
   "metadata": {},
   "outputs": [
    {
     "name": "stdout",
     "output_type": "stream",
     "text": [
      "Probability of getting 4: 0.16666666666666666\n"
     ]
    }
   ],
   "source": [
    "# Example: Probability of getting a 4 when rolling a dice\n",
    "favorable_outcomes = 1  # only one face has 4\n",
    "total_outcomes = 6\n",
    "P_4 = favorable_outcomes / total_outcomes\n",
    "print(\"Probability of getting 4:\", P_4)"
   ]
  },
  {
   "cell_type": "markdown",
   "id": "229bef62",
   "metadata": {},
   "source": [
    "### 🧠 Assignment 1:\n",
    "A coin is tossed 3 times. What is the probability of getting exactly 2 heads?\n",
    "- Hint: total outcomes = $2^3 = 8$"
   ]
  },
  {
   "cell_type": "markdown",
   "id": "de5c743d",
   "metadata": {},
   "source": [
    "## 🔗 2. Joint, Marginal, and Conditional Probability"
   ]
  },
  {
   "cell_type": "code",
   "execution_count": 4,
   "id": "adc34241-888d-4a50-a25d-68627c011236",
   "metadata": {},
   "outputs": [],
   "source": [
    "# Let's define a simple joint probability table for events A and B\n",
    "import pandas as pd\n",
    "\n",
    "data = {\n",
    "    'B=True': [0.1, 0.3],\n",
    "    'B=False': [0.2, 0.4]\n",
    "}\n"
   ]
  },
  {
   "cell_type": "code",
   "execution_count": 5,
   "id": "c4b89953-b1c7-4944-a523-a524867c35b2",
   "metadata": {},
   "outputs": [],
   "source": [
    "df = pd.DataFrame(data, index=['A=True', 'A=False'])"
   ]
  },
  {
   "cell_type": "code",
   "execution_count": null,
   "id": "c332b7e9",
   "metadata": {},
   "outputs": [],
   "source": [
    "\n",
    "\n",
    "df['Sum'] = df.sum(axis=1)\n",
    "df.loc['Sum'] = df.sum()\n",
    "print(\"Joint Probability Table:\")\n",
    "display(df)\n",
    "\n",
    "# Marginal probability P(A=True)\n",
    "P_A_true = 0.1 + 0.3\n",
    "print(\"Marginal P(A=True) =\", P_A_true)\n",
    "\n",
    "# Conditional probability P(A=True | B=True)\n",
    "P_B_true = 0.1 + 0.2\n",
    "P_A_given_B = 0.1 / P_B_true\n",
    "print(\"Conditional P(A=True | B=True) =\", P_A_given_B)"
   ]
  },
  {
   "cell_type": "markdown",
   "id": "487b36f2",
   "metadata": {},
   "source": [
    "### 🧠 Assignment 2:\n",
    "Given a table:\n",
    "- P(A=True, B=True) = 0.2\n",
    "- P(A=True, B=False) = 0.3\n",
    "- P(A=False, B=True) = 0.1\n",
    "- P(A=False, B=False) = 0.4\n",
    "\n",
    "Find:\n",
    "1. P(A=True)\n",
    "2. P(B=True)\n",
    "3. P(A=True | B=True)"
   ]
  },
  {
   "cell_type": "markdown",
   "id": "802f7a77",
   "metadata": {},
   "source": [
    "## 📈 3. Probability Distributions\n",
    "A **probability distribution** assigns a probability to each possible value of a random variable.\n",
    "\n",
    "### Discrete Example: Dice Roll"
   ]
  },
  {
   "cell_type": "code",
   "execution_count": null,
   "id": "633f80d1",
   "metadata": {},
   "outputs": [],
   "source": [
    "# Discrete distribution: Dice\n",
    "import numpy as np\n",
    "\n",
    "x = np.array([1, 2, 3, 4, 5, 6])\n",
    "p = np.ones(6) / 6  # uniform probabilities\n",
    "for val, prob in zip(x, p):\n",
    "    print(f\"P(X={val}) = {prob}\")\n",
    "print(\"Sum of probabilities:\", p.sum())"
   ]
  },
  {
   "cell_type": "markdown",
   "id": "10bfd414",
   "metadata": {},
   "source": [
    "### Continuous Example: Normal Distribution"
   ]
  },
  {
   "cell_type": "code",
   "execution_count": null,
   "id": "64d8fd56",
   "metadata": {},
   "outputs": [],
   "source": [
    "import matplotlib.pyplot as plt\n",
    "from scipy.stats import norm\n",
    "\n",
    "x = np.linspace(-4, 4, 100)\n",
    "y = norm.pdf(x, 0, 1)\n",
    "plt.plot(x, y)\n",
    "plt.title('Normal Distribution (mean=0, sd=1)')\n",
    "plt.xlabel('x')\n",
    "plt.ylabel('Probability Density')\n",
    "plt.grid(True)\n",
    "plt.show()"
   ]
  },
  {
   "cell_type": "markdown",
   "id": "7e8d6f62",
   "metadata": {},
   "source": [
    "### 🧠 Assignment 3:\n",
    "1. Create a bar plot of the discrete uniform distribution for a fair coin.\n",
    "2. Plot the PDF of a normal distribution with mean=2, std=0.5."
   ]
  },
  {
   "cell_type": "markdown",
   "id": "148d9470",
   "metadata": {},
   "source": [
    "## 🎲 4. Discrete and Continuous Distributions\n",
    "\n",
    "### Binomial Distribution Example"
   ]
  },
  {
   "cell_type": "code",
   "execution_count": null,
   "id": "8f78ba03",
   "metadata": {},
   "outputs": [],
   "source": [
    "from scipy.stats import binom\n",
    "\n",
    "n, p = 5, 0.5\n",
    "x = np.arange(0, n+1)\n",
    "pmf = binom.pmf(x, n, p)\n",
    "plt.bar(x, pmf)\n",
    "plt.title('Binomial Distribution (n=5, p=0.5)')\n",
    "plt.xlabel('Number of Successes')\n",
    "plt.ylabel('P(X=x)')\n",
    "plt.show()"
   ]
  },
  {
   "cell_type": "markdown",
   "id": "513f1c5a",
   "metadata": {},
   "source": [
    "### 🧠 Assignment 4:\n",
    "Plot a Poisson distribution with λ = 3 for x = 0 to 10."
   ]
  },
  {
   "cell_type": "markdown",
   "id": "5e74bbb5",
   "metadata": {},
   "source": [
    "## 🧭 5. Bayesian Probability\n",
    "\n",
    "Bayes’ theorem updates beliefs based on new evidence:\n",
    "$$ P(A|B) = \\frac{P(B|A)P(A)}{P(B)} $$"
   ]
  },
  {
   "cell_type": "code",
   "execution_count": null,
   "id": "5e3d198c",
   "metadata": {},
   "outputs": [],
   "source": [
    "# Example: Disease test problem\n",
    "P_D = 0.01  # prior\n",
    "P_Pos_D = 0.99\n",
    "P_Pos_notD = 0.05\n",
    "\n",
    "P_notD = 1 - P_D\n",
    "P_Pos = P_Pos_D * P_D + P_Pos_notD * P_notD\n",
    "P_D_given_Pos = (P_Pos_D * P_D) / P_Pos\n",
    "print(\"Posterior P(Disease | Positive) =\", round(P_D_given_Pos, 3))"
   ]
  },
  {
   "cell_type": "markdown",
   "id": "7e53df06",
   "metadata": {},
   "source": [
    "### 🧠 Assignment 5:\n",
    "A factory has 2 machines A and B.\n",
    "- A produces 60\\% items, B produces 40\\%\n",
    "- 2\\% from A are defective, 3\\% from B are defective.\n",
    "\n",
    "If an item is defective, find the probability it came from A."
   ]
  }
 ],
 "metadata": {
  "kernelspec": {
   "display_name": "Python 3 (ipykernel)",
   "language": "python",
   "name": "python3"
  },
  "language_info": {
   "codemirror_mode": {
    "name": "ipython",
    "version": 3
   },
   "file_extension": ".py",
   "mimetype": "text/x-python",
   "name": "python",
   "nbconvert_exporter": "python",
   "pygments_lexer": "ipython3",
   "version": "3.12.7"
  }
 },
 "nbformat": 4,
 "nbformat_minor": 5
}
