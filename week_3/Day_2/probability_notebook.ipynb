{
 "cells": [
  {
   "cell_type": "code",
   "execution_count": 9,
   "id": "fcb03163-bf27-4298-a885-772bc2709aa4",
   "metadata": {},
   "outputs": [],
   "source": [
    "# 📘 Probability Tutorial in Python\n",
    "# Author: Muhammad Qasim\n",
    "# This script covers: Basic Probability, Rules, Examples, Marginal Probability\n",
    "\n",
    "# ---------------------------------------------------------\n",
    "# 🔹 Import required libraries\n",
    "# ---------------------------------------------------------\n",
    "import itertools\n",
    "import pandas as pd\n",
    "import numpy as np"
   ]
  },
  {
   "cell_type": "code",
   "execution_count": 11,
   "id": "552c3f01-077c-4852-874f-7e1f7fd5ec49",
   "metadata": {},
   "outputs": [
    {
     "name": "stdout",
     "output_type": "stream",
     "text": [
      "🎲 Example 1: Probability of getting a 4 on a fair dice\n",
      "Total outcomes = 6\n",
      "Favorable outcomes = 1\n",
      "P(E) = 0.17\n",
      "\n"
     ]
    }
   ],
   "source": [
    "# ---------------------------------------------------------\n",
    "# 🔹 1. Basic Probability Example (Dice)\n",
    "# ---------------------------------------------------------\n",
    "print(\"🎲 Example 1: Probability of getting a 4 on a fair dice\")\n",
    "\n",
    "total_outcomes = 6\n",
    "favorable_outcomes = 1\n",
    "P_E = favorable_outcomes / total_outcomes\n",
    "\n",
    "print(f\"Total outcomes = {total_outcomes}\")\n",
    "print(f\"Favorable outcomes = {favorable_outcomes}\")\n",
    "print(f\"P(E) = {P_E:.2f}\\n\")  # Expected 1/6"
   ]
  },
  {
   "cell_type": "code",
   "execution_count": 19,
   "id": "5f6bad18-058e-4be1-805f-25086f068004",
   "metadata": {},
   "outputs": [
    {
     "name": "stdout",
     "output_type": "stream",
     "text": [
      "[5 6 1 4 4 4 2 4 6 3]\n"
     ]
    }
   ],
   "source": [
    "np.random.seed(0)\n",
    "trials = 10\n",
    "rolls = np.random.randint(1, 7, trials)\n",
    "print(rolls)"
   ]
  },
  {
   "cell_type": "code",
   "execution_count": 25,
   "id": "cc3127e5-108f-4142-8a8e-488d1f214f42",
   "metadata": {},
   "outputs": [
    {
     "name": "stdout",
     "output_type": "stream",
     "text": [
      "2\n"
     ]
    }
   ],
   "source": [
    "event_6 = np.sum(rolls == 6)\n",
    "print(event_6)"
   ]
  },
  {
   "cell_type": "code",
   "execution_count": 13,
   "id": "d2c04d76-ff54-4ecd-a563-6f102a1636ea",
   "metadata": {},
   "outputs": [
    {
     "name": "stdout",
     "output_type": "stream",
     "text": [
      "🎯 Example 2: Experimental Probability using random dice rolls\n",
      "Number of trials: 1000\n",
      "Number of times '4' appeared: 183\n",
      "Experimental Probability = 0.18\n",
      "Theoretical Probability = 0.17\n",
      "\n"
     ]
    }
   ],
   "source": [
    "# ---------------------------------------------------------\n",
    "# 🔹 2. Experimental Probability Example\n",
    "# ---------------------------------------------------------\n",
    "print(\"🎯 Example 2: Experimental Probability using random dice rolls\")\n",
    "\n",
    "np.random.seed(0)\n",
    "trials = 1000\n",
    "rolls = np.random.randint(1, 7, trials)\n",
    "event_4 = np.sum(rolls == 4)\n",
    "P_exp = event_4 / trials\n",
    "\n",
    "print(f\"Number of trials: {trials}\")\n",
    "print(f\"Number of times '4' appeared: {event_4}\")\n",
    "print(f\"Experimental Probability = {P_exp:.2f}\")\n",
    "print(f\"Theoretical Probability = {1/6:.2f}\\n\")"
   ]
  },
  {
   "cell_type": "code",
   "execution_count": 27,
   "id": "7c7afb9e-d06c-4115-a767-8380c8991f16",
   "metadata": {},
   "outputs": [
    {
     "name": "stdout",
     "output_type": "stream",
     "text": [
      "🌀 Example 3: Complement Rule\n",
      "P(A) = 0.3, so P(not A) = 1 - 0.3 = 0.7\n",
      "\n"
     ]
    }
   ],
   "source": [
    "# ---------------------------------------------------------\n",
    "# 🔹 3. Complement Rule Example\n",
    "# ---------------------------------------------------------\n",
    "P_A = 0.3\n",
    "P_notA = 1 - P_A\n",
    "print(\"🌀 Example 3: Complement Rule\")\n",
    "print(f\"P(A) = {P_A}, so P(not A) = 1 - 0.3 = {P_notA}\\n\")"
   ]
  },
  {
   "cell_type": "code",
   "execution_count": 33,
   "id": "2ee6ba92-d704-496b-b2b0-a3c36548cd67",
   "metadata": {},
   "outputs": [
    {
     "name": "stdout",
     "output_type": "stream",
     "text": [
      "0.2\n"
     ]
    }
   ],
   "source": [
    "P_A = 0.4\n",
    "P_B = 0.5\n",
    "p = P_A*P_B\n",
    "print(p)"
   ]
  },
  {
   "cell_type": "code",
   "execution_count": 29,
   "id": "9d066d54-0a4b-4412-9807-515e739c781a",
   "metadata": {},
   "outputs": [
    {
     "name": "stdout",
     "output_type": "stream",
     "text": [
      "➕ Example 4: Addition Rule (not mutually exclusive)\n",
      "P(A or B) = 0.7\n",
      "\n"
     ]
    }
   ],
   "source": [
    "# ---------------------------------------------------------\n",
    "# 🔹 4. Addition Rule Example\n",
    "# ---------------------------------------------------------\n",
    "P_A = 0.4\n",
    "P_B = 0.5\n",
    "P_A_and_B = 0.2\n",
    "P_A_or_B = P_A + P_B - P_A_and_B\n",
    "print(\"➕ Example 4: Addition Rule (not mutually exclusive)\")\n",
    "print(f\"P(A or B) = {P_A_or_B}\\n\")"
   ]
  },
  {
   "cell_type": "code",
   "execution_count": 35,
   "id": "6dd6fa42-7837-4397-85e4-e44f3d164195",
   "metadata": {},
   "outputs": [
    {
     "name": "stdout",
     "output_type": "stream",
     "text": [
      "✖️ Example 5: Multiplication Rule (Independent Events)\n",
      "P(A and B) = 0.08333333333333333\n",
      "\n"
     ]
    }
   ],
   "source": [
    "# ---------------------------------------------------------\n",
    "# 🔹 5. Multiplication Rule Example (Independent Events)\n",
    "# ---------------------------------------------------------\n",
    "P_A = 0.5  # e.g. Head in coin toss\n",
    "P_B = 1/6  # e.g. 6 in dice roll\n",
    "P_A_and_B = P_A * P_B\n",
    "print(\"✖️ Example 5: Multiplication Rule (Independent Events)\")\n",
    "print(f\"P(A and B) = {P_A_and_B}\\n\")"
   ]
  },
  {
   "cell_type": "code",
   "execution_count": 37,
   "id": "c23316dd-dd84-4552-8d5d-bbce4cebbf9d",
   "metadata": {},
   "outputs": [
    {
     "name": "stdout",
     "output_type": "stream",
     "text": [
      "🪙 Example 6: Probability of getting at least one head (coin tossed twice)\n",
      "Sample Space: ['HH', 'HT', 'TH', 'TT']\n",
      "Event (at least one head): ['HH', 'HT', 'TH']\n",
      "P(Event) = 0.75\n",
      "\n"
     ]
    }
   ],
   "source": [
    "# ---------------------------------------------------------\n",
    "# 🔹 6. Example: Coin tossed twice\n",
    "# ---------------------------------------------------------\n",
    "print(\"🪙 Example 6: Probability of getting at least one head (coin tossed twice)\")\n",
    "sample_space = [\"HH\", \"HT\", \"TH\", \"TT\"]\n",
    "event = [s for s in sample_space if 'H' in s]\n",
    "P_event = len(event) / len(sample_space)\n",
    "print(f\"Sample Space: {sample_space}\")\n",
    "print(f\"Event (at least one head): {event}\")\n",
    "print(f\"P(Event) = {P_event}\\n\")"
   ]
  },
  {
   "cell_type": "code",
   "execution_count": 39,
   "id": "5010aa62-f781-4da8-aa3e-7d290b86b775",
   "metadata": {},
   "outputs": [
    {
     "name": "stdout",
     "output_type": "stream",
     "text": [
      "📊 Example 7: Marginal Probability from a table\n",
      "            B1   B2  Total (A)\n",
      "A1         0.2  0.3        0.5\n",
      "A2         0.1  0.4        0.5\n",
      "Total (B)  0.3  0.7        1.0 \n",
      "\n",
      "P(A1) = 0.5\n",
      "P(B2) = 0.7\n",
      "\n"
     ]
    }
   ],
   "source": [
    "# ---------------------------------------------------------\n",
    "# 🔹 7. Marginal Probability Example (Table)\n",
    "# ---------------------------------------------------------\n",
    "print(\"📊 Example 7: Marginal Probability from a table\")\n",
    "\n",
    "data = {\n",
    "    'B1': [0.2, 0.1],\n",
    "    'B2': [0.3, 0.4]\n",
    "}\n",
    "df = pd.DataFrame(data, index=['A1', 'A2'])\n",
    "df['Total (A)'] = df.sum(axis=1)\n",
    "df.loc['Total (B)'] = df.sum(axis=0)\n",
    "\n",
    "print(df, \"\\n\")\n",
    "\n",
    "# Marginal probabilities\n",
    "P_A1 = df.loc['A1', 'Total (A)']\n",
    "P_B2 = df.loc['Total (B)', 'B2']\n",
    "print(f\"P(A1) = {P_A1}\")\n",
    "print(f\"P(B2) = {P_B2}\\n\")"
   ]
  },
  {
   "cell_type": "code",
   "execution_count": 44,
   "id": "ca9de06d-70d4-456b-a0f6-e51bd4b7e647",
   "metadata": {},
   "outputs": [
    {
     "name": "stdout",
     "output_type": "stream",
     "text": [
      "⚖️ Example 8: Relationship between Joint, Marginal, Conditional\n",
      "P(A and B) = 0.2\n",
      "P(B) = 0.4\n",
      "P(A | B) = P(A and B) / P(B) = 0.5\n",
      "\n",
      "Marginal Probability P(A1) = 0.5\n",
      "\n"
     ]
    }
   ],
   "source": [
    "# ---------------------------------------------------------\n",
    "# 🔹 8. Comparison: Joint, Marginal, Conditional Probability\n",
    "# ---------------------------------------------------------\n",
    "print(\"⚖️ Example 8: Relationship between Joint, Marginal, Conditional\")\n",
    "\n",
    "# Suppose:\n",
    "# Joint Probabilities:\n",
    "P_A_and_B = 0.2\n",
    "P_B = 0.4\n",
    "\n",
    "# Conditional Probability:\n",
    "P_A_given_B = P_A_and_B / P_B\n",
    "\n",
    "print(f\"P(A and B) = {P_A_and_B}\")\n",
    "print(f\"P(B) = {P_B}\")\n",
    "print(f\"P(A | B) = P(A and B) / P(B) = {P_A_given_B}\\n\")\n",
    "\n",
    "# Verify Marginal from Joint (example table)\n",
    "P_A = 0.2 + 0.3  # sum over B values (for A1)\n",
    "print(f\"Marginal Probability P(A1) = {P_A}\\n\")"
   ]
  },
  {
   "cell_type": "code",
   "execution_count": 46,
   "id": "9a42d68f-405c-4ceb-97cf-1433a05f6e05",
   "metadata": {},
   "outputs": [
    {
     "name": "stdout",
     "output_type": "stream",
     "text": [
      "📈 Example 9: Continuous Marginal Probability (conceptual)\n",
      "In continuous case: f_X(x) = ∫ f(x, y) dy over all y\n",
      "Implemented using integration if f(x, y) is known.\n",
      "\n",
      "✅ All probability topics demonstrated successfully!\n"
     ]
    }
   ],
   "source": [
    "# ---------------------------------------------------------\n",
    "# 🔹 9. Continuous case demonstration (conceptual)\n",
    "# ---------------------------------------------------------\n",
    "print(\"📈 Example 9: Continuous Marginal Probability (conceptual)\")\n",
    "print(\"In continuous case: f_X(x) = ∫ f(x, y) dy over all y\")\n",
    "print(\"Implemented using integration if f(x, y) is known.\\n\")\n",
    "\n",
    "print(\"✅ All probability topics demonstrated successfully!\")"
   ]
  },
  {
   "cell_type": "code",
   "execution_count": null,
   "id": "c612b51c-fbb5-40b5-8a39-72e9dfe6bcd1",
   "metadata": {},
   "outputs": [],
   "source": []
  },
  {
   "cell_type": "code",
   "execution_count": 48,
   "id": "d3249cb9-ff16-4f72-84f2-a1a8daaae30a",
   "metadata": {},
   "outputs": [],
   "source": [
    "# ---------------------------------------------------------\n",
    "# 📘 Probability Distributions in Python\n",
    "# ---------------------------------------------------------\n",
    "import numpy as np\n",
    "import matplotlib.pyplot as plt\n",
    "from scipy.stats import bernoulli, binom, poisson, uniform, norm, expon"
   ]
  },
  {
   "cell_type": "code",
   "execution_count": 52,
   "id": "3bbbc9a5-b250-4019-951c-051d4453cb39",
   "metadata": {},
   "outputs": [
    {
     "data": {
      "text/plain": [
       "<Figure size 1400x1000 with 0 Axes>"
      ]
     },
     "execution_count": 52,
     "metadata": {},
     "output_type": "execute_result"
    },
    {
     "data": {
      "text/plain": [
       "<Figure size 1400x1000 with 0 Axes>"
      ]
     },
     "metadata": {},
     "output_type": "display_data"
    }
   ],
   "source": [
    "# Set up figure\n",
    "plt.figure(figsize=(14, 10))\n",
    "\n"
   ]
  },
  {
   "cell_type": "code",
   "execution_count": 54,
   "id": "8de02fbf-b96a-47cb-98ab-98da6e166f28",
   "metadata": {},
   "outputs": [
    {
     "data": {
      "text/plain": [
       "Text(0, 0.5, 'P(X=x)')"
      ]
     },
     "execution_count": 54,
     "metadata": {},
     "output_type": "execute_result"
    },
    {
     "data": {
      "image/png": "[encoded data removed]",
      "text/plain": [
       "<Figure size 640x480 with 1 Axes>"
      ]
     },
     "metadata": {},
     "output_type": "display_data"
    }
   ],
   "source": [
    "# 1. Bernoulli\n",
    "p = 0.5\n",
    "x = [0, 1]\n",
    "y = bernoulli.pmf(x, p)\n",
    "plt.subplot(2, 3, 1)\n",
    "plt.bar(x, y)\n",
    "plt.title('Bernoulli (p=0.5)')\n",
    "plt.xlabel('x')\n",
    "plt.ylabel('P(X=x)')"
   ]
  },
  {
   "cell_type": "code",
   "execution_count": 56,
   "id": "212a6b12-07b1-4a44-adfc-9c72618704a3",
   "metadata": {},
   "outputs": [
    {
     "data": {
      "text/plain": [
       "Text(0, 0.5, 'P(X=x)')"
      ]
     },
     "execution_count": 56,
     "metadata": {},
     "output_type": "execute_result"
    },
    {
     "data": {
      "image/png": "[encoded data removed]",
      "text/plain": [
       "<Figure size 640x480 with 1 Axes>"
      ]
     },
     "metadata": {},
     "output_type": "display_data"
    }
   ],
   "source": [
    "# 2. Binomial\n",
    "n, p = 10, 0.5\n",
    "x = np.arange(0, n+1)\n",
    "y = binom.pmf(x, n, p)\n",
    "plt.subplot(2, 3, 2)\n",
    "plt.bar(x, y)\n",
    "plt.title('Binomial (n=10, p=0.5)')\n",
    "plt.xlabel('x')\n",
    "plt.ylabel('P(X=x)')"
   ]
  },
  {
   "cell_type": "code",
   "execution_count": 61,
   "id": "703672d1-7d76-45f0-994d-5cec95d1e31c",
   "metadata": {},
   "outputs": [
    {
     "data": {
      "text/plain": [
       "Text(0, 0.5, 'P(X=x)')"
      ]
     },
     "execution_count": 61,
     "metadata": {},
     "output_type": "execute_result"
    },
    {
     "data": {
      "image/png": "[encoded data removed]",
      "text/plain": [
       "<Figure size 640x480 with 1 Axes>"
      ]
     },
     "metadata": {},
     "output_type": "display_data"
    }
   ],
   "source": [
    "# 3. Poisson\n",
    "λ = 3\n",
    "x = np.arange(0, 10)\n",
    "y = poisson.pmf(x, λ)\n",
    "plt.subplot(2, 3, 3)\n",
    "plt.bar(x, y)\n",
    "plt.title('Poisson (λ=3)')\n",
    "plt.xlabel('x')\n",
    "plt.ylabel('P(X=x)')"
   ]
  },
  {
   "cell_type": "code",
   "execution_count": 63,
   "id": "5b8dc77a-8390-45b8-90e1-43843c105f08",
   "metadata": {},
   "outputs": [
    {
     "data": {
      "text/plain": [
       "Text(0, 0.5, 'f(x)')"
      ]
     },
     "execution_count": 63,
     "metadata": {},
     "output_type": "execute_result"
    },
    {
     "data": {
      "image/png": "[encoded data removed]",
      "text/plain": [
       "<Figure size 640x480 with 1 Axes>"
      ]
     },
     "metadata": {},
     "output_type": "display_data"
    }
   ],
   "source": [
    "# 4. Uniform\n",
    "a, b = 0, 10\n",
    "x = np.linspace(a, b, 100)\n",
    "y = uniform.pdf(x, a, b - a)\n",
    "plt.subplot(2, 3, 4)\n",
    "plt.plot(x, y)\n",
    "plt.title('Uniform (0,10)')\n",
    "plt.xlabel('x')\n",
    "plt.ylabel('f(x)')"
   ]
  },
  {
   "cell_type": "code",
   "execution_count": 65,
   "id": "75c80af0-cda8-4396-bf11-2386f528b1fc",
   "metadata": {},
   "outputs": [
    {
     "data": {
      "text/plain": [
       "Text(0, 0.5, 'f(x)')"
      ]
     },
     "execution_count": 65,
     "metadata": {},
     "output_type": "execute_result"
    },
    {
     "data": {
      "image/png": "[encoded data removed]",
      "text/plain": [
       "<Figure size 640x480 with 1 Axes>"
      ]
     },
     "metadata": {},
     "output_type": "display_data"
    }
   ],
   "source": [
    "# 5. Normal\n",
    "μ, σ = 0, 1\n",
    "x = np.linspace(-4, 4, 100)\n",
    "y = norm.pdf(x, μ, σ)\n",
    "plt.subplot(2, 3, 5)\n",
    "plt.plot(x, y)\n",
    "plt.title('Normal (μ=0, σ=1)')\n",
    "plt.xlabel('x')\n",
    "plt.ylabel('f(x)')"
   ]
  },
  {
   "cell_type": "code",
   "execution_count": 67,
   "id": "ca71db63-02ac-4034-99d4-d1c8f1f5a596",
   "metadata": {},
   "outputs": [
    {
     "data": {
      "image/png": "[encoded data removed]",
      "text/plain": [
       "<Figure size 640x480 with 1 Axes>"
      ]
     },
     "metadata": {},
     "output_type": "display_data"
    }
   ],
   "source": [
    "# 6. Exponential\n",
    "λ = 1\n",
    "x = np.linspace(0, 10, 100)\n",
    "y = expon.pdf(x, scale=1/λ)\n",
    "plt.subplot(2, 3, 6)\n",
    "plt.plot(x, y)\n",
    "plt.title('Exponential (λ=1)')\n",
    "plt.xlabel('x')\n",
    "plt.ylabel('f(x)')\n",
    "\n",
    "plt.tight_layout()\n",
    "plt.show()"
   ]
  },
  {
   "cell_type": "code",
   "execution_count": 69,
   "id": "deca2f28-4de4-411a-9d99-c3f7cc9ea1e5",
   "metadata": {},
   "outputs": [
    {
     "name": "stdout",
     "output_type": "stream",
     "text": [
      "🧠 Bayesian Probability Example\n",
      "P(Disease) = 0.01\n",
      "P(Positive | Disease) = 0.99\n",
      "P(Positive | No Disease) = 0.05\n",
      "P(Positive) = 0.0594\n",
      "👉 P(Disease | Positive) = 0.1667 (16.67%)\n"
     ]
    }
   ],
   "source": [
    "# ---------------------------------------------------------\n",
    "# 📘 Bayes' Theorem Example in Python\n",
    "# ---------------------------------------------------------\n",
    "\n",
    "# Given probabilities\n",
    "P_D = 0.01                # Prior: disease\n",
    "P_notD = 1 - P_D\n",
    "P_pos_given_D = 0.99      # Test positive if diseased\n",
    "P_pos_given_notD = 0.05   # False positive\n",
    "\n",
    "# Step 1: Compute evidence\n",
    "P_pos = P_pos_given_D * P_D + P_pos_given_notD * P_notD\n",
    "\n",
    "# Step 2: Compute posterior\n",
    "P_D_given_pos = (P_pos_given_D * P_D) / P_pos\n",
    "\n",
    "print(\"🧠 Bayesian Probability Example\")\n",
    "print(f\"P(Disease) = {P_D}\")\n",
    "print(f\"P(Positive | Disease) = {P_pos_given_D}\")\n",
    "print(f\"P(Positive | No Disease) = {P_pos_given_notD}\")\n",
    "print(f\"P(Positive) = {P_pos:.4f}\")\n",
    "print(f\"👉 P(Disease | Positive) = {P_D_given_pos:.4f} ({P_D_given_pos*100:.2f}%)\")\n"
   ]
  },
  {
   "cell_type": "code",
   "execution_count": 71,
   "id": "0b1264af-38eb-4eaa-b499-a69136426c2a",
   "metadata": {},
   "outputs": [
    {
     "data": {
      "image/png": "[encoded data removed]",
      "text/plain": [
       "<Figure size 640x480 with 1 Axes>"
      ]
     },
     "metadata": {},
     "output_type": "display_data"
    }
   ],
   "source": [
    "import matplotlib.pyplot as plt\n",
    "\n",
    "labels = ['Have Disease', 'No Disease']\n",
    "posterior = [P_D_given_pos, 1 - P_D_given_pos]\n",
    "\n",
    "plt.bar(labels, posterior, color=['red', 'green'])\n",
    "plt.title('Posterior Probability after Positive Test')\n",
    "plt.ylabel('Probability')\n",
    "plt.show()\n"
   ]
  },
  {
   "cell_type": "code",
   "execution_count": null,
   "id": "e5694969-012f-45fd-bd87-12fe53176d7a",
   "metadata": {},
   "outputs": [],
   "source": []
  }
 ],
 "metadata": {
  "kernelspec": {
   "display_name": "Python [conda env:base] *",
   "language": "python",
   "name": "conda-base-py"
  },
  "language_info": {
   "codemirror_mode": {
    "name": "ipython",
    "version": 3
   },
   "file_extension": ".py",
   "mimetype": "text/x-python",
   "name": "python",
   "nbconvert_exporter": "python",
   "pygments_lexer": "ipython3",
   "version": "3.12.7"
  }
 },
 "nbformat": 4,
 "nbformat_minor": 5
}
