{
 "cells": [
  {
   "cell_type": "markdown",
   "id": "b2e37789",
   "metadata": {},
   "source": [
    "# 🐼 Introduction to Pandas for AI Beginners!\n",
    "\n",
    "Your Comprehensive Guide to the Fundamentals of the Pandas Library"
   ]
  },
  {
   "cell_type": "markdown",
   "id": "165d7263",
   "metadata": {},
   "source": [
    "### 📘 Overview of Today's 2-Hour Session\n",
    "\n",
    "Welcome to the world of data manipulation with **Pandas**! If NumPy gives us superpowers for numbers, Pandas gives us superpowers for data tables. It's the most essential tool for cleaning, transforming, and analyzing data in Python, which is a crucial first step in any AI project.\n",
    "\n",
    "**Why Pandas?** Real-world data is often messy, with missing values and different data types. Pandas helps us tame this chaos with ease!\n",
    "\n",
    "### 🎯 Learning Objectives:\n",
    "\n",
    "By the end of this session, you will be able to:\n",
    "1.  Understand the two core Pandas data structures: `Series` and `DataFrame`.\n",
    "2.  Load data and create your own `DataFrames`.\n",
    "3.  Select specific rows, columns, and subsets of data using `.loc` and `.iloc`.\n",
    "4.  Filter data based on conditions.\n",
    "5.  Perform powerful operations like sorting, counting values, and applying custom functions.\n",
    "6.  Handle common problems like missing data by dropping or filling it."
   ]
  },
  {
   "cell_type": "markdown",
   "id": "94e2c94c",
   "metadata": {},
   "source": [
    "### ⚙️ Let's Get Set Up!\n",
    "\n",
    "Just like with NumPy, we first need to import the Pandas library. The standard way to do this is `import pandas as pd`."
   ]
  },
  {
   "cell_type": "code",
   "execution_count": 1,
   "id": "735ae22b",
   "metadata": {},
   "outputs": [],
   "source": [
    "# Import the pandas library\n",
    "import pandas as pd\n",
    "import numpy as np # We often use numpy alongside pandas"
   ]
  },
  {
   "cell_type": "markdown",
   "id": "4cafba09",
   "metadata": {},
   "source": [
    "--- \n",
    "## Topic 1: The Core Components - Series & DataFrame\n",
    "\n",
    "Pandas has two main data structures you'll use all the time:\n",
    "\n",
    "- **`Series`**: A one-dimensional labeled array. Think of it as a single column in a spreadsheet.\n",
    "- **`DataFrame`**: A two-dimensional labeled table with columns of potentially different types. This is like a whole spreadsheet or a SQL table!"
   ]
  },
  {
   "cell_type": "code",
   "execution_count": 2,
   "id": "9db44fe0",
   "metadata": {},
   "outputs": [
    {
     "name": "stdout",
     "output_type": "stream",
     "text": [
      "--- Our First Series ---\n",
      "Alice      10\n",
      "Bob        20\n",
      "Charlie    30\n",
      "David      40\n",
      "dtype: int64\n"
     ]
    }
   ],
   "source": [
    "# Example 1: Creating a Series (a single column)\n",
    "# Let's create a Series of student scores.\n",
    "scores = pd.Series([10, 20, 30, 40], index=['Alice', 'Bob', 'Charlie', 'David'])\n",
    "\n",
    "print(\"--- Our First Series ---\")\n",
    "print(scores)"
   ]
  },
  {
   "cell_type": "code",
   "execution_count": 3,
   "id": "f76d6a96",
   "metadata": {},
   "outputs": [
    {
     "name": "stdout",
     "output_type": "stream",
     "text": [
      "--- Our First DataFrame ---\n",
      "    State  Year  Population\n",
      "0    Ohio  2000         1.5\n",
      "1    Ohio  2001         1.7\n",
      "2  Nevada  2001         2.4\n",
      "3  Nevada  2002         2.9\n"
     ]
    }
   ],
   "source": [
    "# Example 2: Creating a DataFrame (a full table)\n",
    "# We can create a DataFrame from a dictionary.\n",
    "\n",
    "data = {\n",
    "    'State': ['Ohio', 'Ohio', 'Nevada', 'Nevada'],\n",
    "    'Year': [2000, 2001, 2001, 2002],\n",
    "    'Population': [1.5, 1.7, 2.4, 2.9]\n",
    "}\n",
    "\n",
    "df = pd.DataFrame(data)\n",
    "\n",
    "print(\"--- Our First DataFrame ---\")\n",
    "print(df)"
   ]
  },
  {
   "cell_type": "markdown",
   "id": "f332ff5d",
   "metadata": {},
   "source": [
    "### 🎯 Practice Task: Create Your Own DataFrame\n",
    "\n",
    "Create a DataFrame about your favorite movies. It should have three columns: 'Title', 'Genre', and 'Release_Year'. Include at least 3 movies."
   ]
  },
  {
   "cell_type": "code",
   "execution_count": 4,
   "id": "07cdbd28",
   "metadata": {},
   "outputs": [],
   "source": [
    "# Your code here!"
   ]
  },
  {
   "cell_type": "markdown",
   "id": "cfea56aa",
   "metadata": {},
   "source": [
    "--- \n",
    "## Topic 2: Data Input (Reading from Files)\n",
    "\n",
    "Most of the time, your data will be in a file. Pandas is fantastic at reading data from various formats like CSV, Excel, JSON, and more!\n",
    "\n",
    "The most common function you'll use is `pd.read_csv()`."
   ]
  },
  {
   "cell_type": "markdown",
   "id": "51638e2b",
   "metadata": {},
   "source": [
    "```python\n",
    "# This is how you would read a CSV file named 'students.csv'\n",
    "# student_df = pd.read_csv('students.csv')\n",
    "```\n",
    "💡 **Note:** Since we don't have a file to load right now, the code above is commented out. But this is the exact command you would use."
   ]
  },
  {
   "cell_type": "markdown",
   "id": "8c711296",
   "metadata": {},
   "source": [
    "--- \n",
    "## Topic 3: Selection - Getting the Data You Want\n",
    "\n",
    "Once you have a DataFrame, you need to know how to grab specific pieces of it. This is called **selection** or **indexing**."
   ]
  },
  {
   "cell_type": "markdown",
   "id": "b6964ba1",
   "metadata": {},
   "source": [
    "### 📄 Selecting Columns\n",
    "\n",
    "You can select a single column using `df['ColumnName']`, which returns a Series. To select multiple columns, use `df[['Col1', 'Col2']]` (notice the double brackets!)."
   ]
  },
  {
   "cell_type": "code",
   "execution_count": 6,
   "id": "ab3833c8-4c71-4b48-b3e0-39ec8f3a85bd",
   "metadata": {},
   "outputs": [
    {
     "data": {
      "text/html": [
       "<div>\n",
       "<style scoped>\n",
       "    .dataframe tbody tr th:only-of-type {\n",
       "        vertical-align: middle;\n",
       "    }\n",
       "\n",
       "    .dataframe tbody tr th {\n",
       "        vertical-align: top;\n",
       "    }\n",
       "\n",
       "    .dataframe thead th {\n",
       "        text-align: right;\n",
       "    }\n",
       "</style>\n",
       "<table border=\"1\" class=\"dataframe\">\n",
       "  <thead>\n",
       "    <tr style=\"text-align: right;\">\n",
       "      <th></th>\n",
       "      <th>State</th>\n",
       "      <th>Year</th>\n",
       "      <th>Population</th>\n",
       "    </tr>\n",
       "  </thead>\n",
       "  <tbody>\n",
       "    <tr>\n",
       "      <th>0</th>\n",
       "      <td>Ohio</td>\n",
       "      <td>2000</td>\n",
       "      <td>1.5</td>\n",
       "    </tr>\n",
       "    <tr>\n",
       "      <th>1</th>\n",
       "      <td>Ohio</td>\n",
       "      <td>2001</td>\n",
       "      <td>1.7</td>\n",
       "    </tr>\n",
       "    <tr>\n",
       "      <th>2</th>\n",
       "      <td>Nevada</td>\n",
       "      <td>2001</td>\n",
       "      <td>2.4</td>\n",
       "    </tr>\n",
       "    <tr>\n",
       "      <th>3</th>\n",
       "      <td>Nevada</td>\n",
       "      <td>2002</td>\n",
       "      <td>2.9</td>\n",
       "    </tr>\n",
       "  </tbody>\n",
       "</table>\n",
       "</div>"
      ],
      "text/plain": [
       "    State  Year  Population\n",
       "0    Ohio  2000         1.5\n",
       "1    Ohio  2001         1.7\n",
       "2  Nevada  2001         2.4\n",
       "3  Nevada  2002         2.9"
      ]
     },
     "execution_count": 6,
     "metadata": {},
     "output_type": "execute_result"
    }
   ],
   "source": [
    "df"
   ]
  },
  {
   "cell_type": "code",
   "execution_count": 7,
   "id": "0206de19",
   "metadata": {},
   "outputs": [
    {
     "name": "stdout",
     "output_type": "stream",
     "text": [
      "--- Original DataFrame ---\n",
      "    State  Year  Population\n",
      "0    Ohio  2000         1.5\n",
      "1    Ohio  2001         1.7\n",
      "2  Nevada  2001         2.4\n",
      "3  Nevada  2002         2.9\n",
      "\n",
      "--- 'State' Column (a Series) ---\n",
      "0      Ohio\n",
      "1      Ohio\n",
      "2    Nevada\n",
      "3    Nevada\n",
      "Name: State, dtype: object\n",
      "\n",
      "--- 'Year' & 'Population' Columns (a DataFrame) ---\n",
      "   Year  Population\n",
      "0  2000         1.5\n",
      "1  2001         1.7\n",
      "2  2001         2.4\n",
      "3  2002         2.9\n"
     ]
    }
   ],
   "source": [
    "# Let's use our state DataFrame from before\n",
    "print(\"--- Original DataFrame ---\")\n",
    "print(df)\n",
    "\n",
    "# Select a single column ('State')\n",
    "states = df['State']\n",
    "print(\"\\n--- 'State' Column (a Series) ---\")\n",
    "print(states)\n",
    "\n",
    "# Select multiple columns ('Year' and 'Population')\n",
    "year_and_pop = df[['Year', 'Population']]\n",
    "print(\"\\n--- 'Year' & 'Population' Columns (a DataFrame) ---\")\n",
    "print(year_and_pop)"
   ]
  },
  {
   "cell_type": "markdown",
   "id": "82004705",
   "metadata": {},
   "source": [
    "### 📄 Selecting Rows with `.loc` and `.iloc`\n",
    "\n",
    "This is super important! Pandas gives us two main ways to select rows:\n",
    "\n",
    "- `.loc`: Selects rows by their **label** (the index name).\n",
    "- `.iloc`: Selects rows by their **integer position** (0, 1, 2, ...)."
   ]
  },
  {
   "cell_type": "code",
   "execution_count": 9,
   "id": "55ed7556-87e4-43a9-871f-9fb8eba6a514",
   "metadata": {},
   "outputs": [
    {
     "data": {
      "text/html": [
       "<div>\n",
       "<style scoped>\n",
       "    .dataframe tbody tr th:only-of-type {\n",
       "        vertical-align: middle;\n",
       "    }\n",
       "\n",
       "    .dataframe tbody tr th {\n",
       "        vertical-align: top;\n",
       "    }\n",
       "\n",
       "    .dataframe thead th {\n",
       "        text-align: right;\n",
       "    }\n",
       "</style>\n",
       "<table border=\"1\" class=\"dataframe\">\n",
       "  <thead>\n",
       "    <tr style=\"text-align: right;\">\n",
       "      <th></th>\n",
       "      <th>State</th>\n",
       "      <th>Year</th>\n",
       "      <th>Population</th>\n",
       "    </tr>\n",
       "  </thead>\n",
       "  <tbody>\n",
       "    <tr>\n",
       "      <th>0</th>\n",
       "      <td>Ohio</td>\n",
       "      <td>2000</td>\n",
       "      <td>1.5</td>\n",
       "    </tr>\n",
       "    <tr>\n",
       "      <th>1</th>\n",
       "      <td>Ohio</td>\n",
       "      <td>2001</td>\n",
       "      <td>1.7</td>\n",
       "    </tr>\n",
       "    <tr>\n",
       "      <th>2</th>\n",
       "      <td>Nevada</td>\n",
       "      <td>2001</td>\n",
       "      <td>2.4</td>\n",
       "    </tr>\n",
       "    <tr>\n",
       "      <th>3</th>\n",
       "      <td>Nevada</td>\n",
       "      <td>2002</td>\n",
       "      <td>2.9</td>\n",
       "    </tr>\n",
       "  </tbody>\n",
       "</table>\n",
       "</div>"
      ],
      "text/plain": [
       "    State  Year  Population\n",
       "0    Ohio  2000         1.5\n",
       "1    Ohio  2001         1.7\n",
       "2  Nevada  2001         2.4\n",
       "3  Nevada  2002         2.9"
      ]
     },
     "execution_count": 9,
     "metadata": {},
     "output_type": "execute_result"
    }
   ],
   "source": [
    "df"
   ]
  },
  {
   "cell_type": "code",
   "execution_count": 10,
   "id": "b927d160",
   "metadata": {},
   "outputs": [
    {
     "name": "stdout",
     "output_type": "stream",
     "text": [
      "--- Row with index label 0 (using .loc) ---\n",
      "State         Ohio\n",
      "Year          2000\n",
      "Population     1.5\n",
      "Name: 0, dtype: object\n"
     ]
    }
   ],
   "source": [
    "# Using .loc to select the row with index label 0\n",
    "row_0_loc = df.loc[0]\n",
    "print(\"--- Row with index label 0 (using .loc) ---\")\n",
    "print(row_0_loc)"
   ]
  },
  {
   "cell_type": "code",
   "execution_count": 11,
   "id": "eba427e8",
   "metadata": {},
   "outputs": [
    {
     "name": "stdout",
     "output_type": "stream",
     "text": [
      "--- First row at position 0 (using .iloc) ---\n",
      "State         Ohio\n",
      "Year          2000\n",
      "Population     1.5\n",
      "Name: 0, dtype: object\n",
      "\n",
      "--- First two rows (using .iloc) ---\n",
      "  State  Year  Population\n",
      "0  Ohio  2000         1.5\n",
      "1  Ohio  2001         1.7\n"
     ]
    }
   ],
   "source": [
    "# Using .iloc to select the first row (at integer position 0)\n",
    "row_0_iloc = df.iloc[0]\n",
    "print(\"--- First row at position 0 (using .iloc) ---\")\n",
    "print(row_0_iloc)\n",
    "\n",
    "# Using .iloc to select the first two rows (slicing)\n",
    "first_two_rows = df.iloc[0:2]\n",
    "print(\"\\n--- First two rows (using .iloc) ---\")\n",
    "print(first_two_rows)"
   ]
  },
  {
   "cell_type": "markdown",
   "id": "00e74771",
   "metadata": {},
   "source": [
    "### 📄 Selecting Subsets of Rows and Columns\n",
    "\n",
    "The real power of `.loc` and `.iloc` comes from combining row and column selections. The format is `df.loc[row_selector, column_selector]`."
   ]
  },
  {
   "cell_type": "code",
   "execution_count": 13,
   "id": "603b515d-a389-471b-88b3-7e792801b127",
   "metadata": {},
   "outputs": [
    {
     "data": {
      "text/html": [
       "<div>\n",
       "<style scoped>\n",
       "    .dataframe tbody tr th:only-of-type {\n",
       "        vertical-align: middle;\n",
       "    }\n",
       "\n",
       "    .dataframe tbody tr th {\n",
       "        vertical-align: top;\n",
       "    }\n",
       "\n",
       "    .dataframe thead th {\n",
       "        text-align: right;\n",
       "    }\n",
       "</style>\n",
       "<table border=\"1\" class=\"dataframe\">\n",
       "  <thead>\n",
       "    <tr style=\"text-align: right;\">\n",
       "      <th></th>\n",
       "      <th>State</th>\n",
       "      <th>Year</th>\n",
       "      <th>Population</th>\n",
       "    </tr>\n",
       "  </thead>\n",
       "  <tbody>\n",
       "    <tr>\n",
       "      <th>0</th>\n",
       "      <td>Ohio</td>\n",
       "      <td>2000</td>\n",
       "      <td>1.5</td>\n",
       "    </tr>\n",
       "    <tr>\n",
       "      <th>1</th>\n",
       "      <td>Ohio</td>\n",
       "      <td>2001</td>\n",
       "      <td>1.7</td>\n",
       "    </tr>\n",
       "    <tr>\n",
       "      <th>2</th>\n",
       "      <td>Nevada</td>\n",
       "      <td>2001</td>\n",
       "      <td>2.4</td>\n",
       "    </tr>\n",
       "    <tr>\n",
       "      <th>3</th>\n",
       "      <td>Nevada</td>\n",
       "      <td>2002</td>\n",
       "      <td>2.9</td>\n",
       "    </tr>\n",
       "  </tbody>\n",
       "</table>\n",
       "</div>"
      ],
      "text/plain": [
       "    State  Year  Population\n",
       "0    Ohio  2000         1.5\n",
       "1    Ohio  2001         1.7\n",
       "2  Nevada  2001         2.4\n",
       "3  Nevada  2002         2.9"
      ]
     },
     "execution_count": 13,
     "metadata": {},
     "output_type": "execute_result"
    }
   ],
   "source": [
    "df"
   ]
  },
  {
   "cell_type": "code",
   "execution_count": 14,
   "id": "58b6906e",
   "metadata": {},
   "outputs": [
    {
     "name": "stdout",
     "output_type": "stream",
     "text": [
      "--- A specific subset of rows and columns ---\n",
      "   Year  Population\n",
      "0  2000         1.5\n",
      "2  2001         2.4\n"
     ]
    }
   ],
   "source": [
    "# Get the 'Year' and 'Population' for the rows with index 0 and 2.\n",
    "subset = df.loc[[0, 2], ['Year', 'Population']]\n",
    "\n",
    "print(\"--- A specific subset of rows and columns ---\")\n",
    "print(subset)"
   ]
  },
  {
   "cell_type": "markdown",
   "id": "e1bf5685",
   "metadata": {},
   "source": [
    "### 📄 Index Setting and Resetting\n",
    "Sometimes, it's useful to set one of your columns as the main index for the DataFrame. This is common when you have a unique ID for each row.\n",
    "- `df.set_index('ColumnName')`: Sets a column as the new index.\n",
    "- `df.reset_index()`: Resets the index back to the default 0, 1, 2, ..."
   ]
  },
  {
   "cell_type": "code",
   "execution_count": 15,
   "id": "101ea994-cd80-4322-ad99-6c9a227bc7ed",
   "metadata": {},
   "outputs": [
    {
     "data": {
      "text/html": [
       "<div>\n",
       "<style scoped>\n",
       "    .dataframe tbody tr th:only-of-type {\n",
       "        vertical-align: middle;\n",
       "    }\n",
       "\n",
       "    .dataframe tbody tr th {\n",
       "        vertical-align: top;\n",
       "    }\n",
       "\n",
       "    .dataframe thead th {\n",
       "        text-align: right;\n",
       "    }\n",
       "</style>\n",
       "<table border=\"1\" class=\"dataframe\">\n",
       "  <thead>\n",
       "    <tr style=\"text-align: right;\">\n",
       "      <th></th>\n",
       "      <th>State</th>\n",
       "      <th>Year</th>\n",
       "      <th>Population</th>\n",
       "    </tr>\n",
       "  </thead>\n",
       "  <tbody>\n",
       "    <tr>\n",
       "      <th>0</th>\n",
       "      <td>Ohio</td>\n",
       "      <td>2000</td>\n",
       "      <td>1.5</td>\n",
       "    </tr>\n",
       "    <tr>\n",
       "      <th>1</th>\n",
       "      <td>Ohio</td>\n",
       "      <td>2001</td>\n",
       "      <td>1.7</td>\n",
       "    </tr>\n",
       "    <tr>\n",
       "      <th>2</th>\n",
       "      <td>Nevada</td>\n",
       "      <td>2001</td>\n",
       "      <td>2.4</td>\n",
       "    </tr>\n",
       "    <tr>\n",
       "      <th>3</th>\n",
       "      <td>Nevada</td>\n",
       "      <td>2002</td>\n",
       "      <td>2.9</td>\n",
       "    </tr>\n",
       "  </tbody>\n",
       "</table>\n",
       "</div>"
      ],
      "text/plain": [
       "    State  Year  Population\n",
       "0    Ohio  2000         1.5\n",
       "1    Ohio  2001         1.7\n",
       "2  Nevada  2001         2.4\n",
       "3  Nevada  2002         2.9"
      ]
     },
     "execution_count": 15,
     "metadata": {},
     "output_type": "execute_result"
    }
   ],
   "source": [
    "df"
   ]
  },
  {
   "cell_type": "code",
   "execution_count": 16,
   "id": "816f663a",
   "metadata": {},
   "outputs": [
    {
     "name": "stdout",
     "output_type": "stream",
     "text": [
      "--- DataFrame with 'State' as Index ---\n",
      "        Year  Population\n",
      "State                   \n",
      "Ohio    2000         1.5\n",
      "Ohio    2001         1.7\n",
      "Nevada  2001         2.4\n",
      "Nevada  2002         2.9\n"
     ]
    }
   ],
   "source": [
    "# Let's set the 'State' column as the index\n",
    "# Note: This is not a great index as it has duplicates, but it's a good example!\n",
    "df_with_state_index = df.set_index('State')\n",
    "\n",
    "print(\"--- DataFrame with 'State' as Index ---\")\n",
    "print(df_with_state_index)"
   ]
  },
  {
   "cell_type": "markdown",
   "id": "b8c86d57",
   "metadata": {},
   "source": [
    "### 🎯 Practice Task: Select & Set Index\n",
    "\n",
    "1. From the `movie_df` you created, select the 'Title' and 'Release_Year' for the first two rows using `.iloc`.\n",
    "2. Create a new DataFrame from `movie_df` where the 'Title' is the index."
   ]
  },
  {
   "cell_type": "code",
   "execution_count": 17,
   "id": "08d15556",
   "metadata": {},
   "outputs": [],
   "source": [
    "# Your code here!"
   ]
  },
  {
   "cell_type": "markdown",
   "id": "42c489ce",
   "metadata": {},
   "source": [
    "--- \n",
    "## Topic 4: Conditional Selection (Filtering)\n",
    "\n",
    "This is where Pandas really shines! You can filter your DataFrame to find rows that meet a certain condition. It's like asking a question about your data.\n",
    "\n",
    "The syntax looks like this: `df[df['Column'] > some_value]`"
   ]
  },
  {
   "cell_type": "code",
   "execution_count": 18,
   "id": "d3c9bccb",
   "metadata": {},
   "outputs": [
    {
     "name": "stdout",
     "output_type": "stream",
     "text": [
      "--- Rows where Year > 2001 ---\n",
      "    State  Year  Population\n",
      "3  Nevada  2002         2.9\n"
     ]
    }
   ],
   "source": [
    "# Let's find all the rows where the year is greater than 2001\n",
    "modern_years = df[df['Year'] > 2001]\n",
    "\n",
    "print(\"--- Rows where Year > 2001 ---\")\n",
    "print(modern_years)"
   ]
  },
  {
   "cell_type": "code",
   "execution_count": 19,
   "id": "427de52e",
   "metadata": {},
   "outputs": [
    {
     "name": "stdout",
     "output_type": "stream",
     "text": [
      "--- Ohio, after the year 2000 ---\n",
      "  State  Year  Population\n",
      "1  Ohio  2001         1.7\n"
     ]
    }
   ],
   "source": [
    "# You can also combine conditions with & (and) and | (or)\n",
    "# Let's find rows where the Year > 2000 AND the State is 'Ohio'\n",
    "ohio_after_2000 = df[(df['Year'] > 2000) & (df['State'] == 'Ohio')]\n",
    "\n",
    "print(\"--- Ohio, after the year 2000 ---\")\n",
    "print(ohio_after_2000)"
   ]
  },
  {
   "cell_type": "markdown",
   "id": "edaf3a5f",
   "metadata": {},
   "source": [
    "--- \n",
    "## Topic 5: Powerful Operations on DataFrames\n",
    "\n",
    "Beyond just selecting data, Pandas provides a huge library of functions to inspect, clean, and transform your data."
   ]
  },
  {
   "cell_type": "markdown",
   "id": "8f8a901e",
   "metadata": {},
   "source": [
    "### 📄 Inspecting and Summarizing\n",
    "- `.head()`: Shows the first 5 rows (useful for a quick peek).\n",
    "- `.columns`: Shows a list of all column names.\n",
    "- `.index`: Shows the index labels of the DataFrame.\n",
    "- `.unique()`: Shows all the unique values in a column.\n",
    "- `.value_counts()`: Counts how many times each unique value appears in a column."
   ]
  },
  {
   "cell_type": "code",
   "execution_count": 20,
   "id": "dfca1822",
   "metadata": {},
   "outputs": [
    {
     "name": "stdout",
     "output_type": "stream",
     "text": [
      "--- Column Names ---\n",
      "Index(['Name', 'City', 'Score'], dtype='object')\n",
      "\n",
      "--- Index Labels ---\n",
      "RangeIndex(start=0, stop=7, step=1)\n",
      "\n",
      "--- Unique cities ---\n",
      "['New York' 'Los Angeles' 'Chicago']\n",
      "\n",
      "--- Counts for each city ---\n",
      "City\n",
      "New York       3\n",
      "Los Angeles    2\n",
      "Chicago        2\n",
      "Name: count, dtype: int64\n"
     ]
    }
   ],
   "source": [
    "import pandas as pd\n",
    "# Let's create a more complex DataFrame for these examples\n",
    "ops_df = pd.DataFrame({\n",
    "    'Name': ['Alice', 'Bob', 'Charlie', 'David', 'Eva', 'Frank', 'Alice'],\n",
    "    'City': ['New York', 'Los Angeles', 'Chicago', 'New York', 'Chicago', 'Los Angeles', 'New York'],\n",
    "    'Score': [88, 92, 79, 95, 85, 72, 90]\n",
    "})\n",
    "\n",
    "print(\"--- Column Names ---\")\n",
    "print(ops_df.columns)\n",
    "\n",
    "print(\"\\n--- Index Labels ---\")\n",
    "print(ops_df.index)\n",
    "\n",
    "print(\"\\n--- Unique cities ---\")\n",
    "print(ops_df['City'].unique())\n",
    "\n",
    "print(\"\\n--- Counts for each city ---\")\n",
    "print(ops_df['City'].value_counts())"
   ]
  },
  {
   "cell_type": "markdown",
   "id": "8d4d6705",
   "metadata": {},
   "source": [
    "### 📄 Sorting, Ordering, and Replacing Values\n",
    "- `.sort_values()`: Sorts the DataFrame by the values in a column.\n",
    "- `.sort_index()`: Sorts the DataFrame by its index labels.\n",
    "- `.replace()`: Replaces specified values in a column."
   ]
  },
  {
   "cell_type": "code",
   "execution_count": 21,
   "id": "56059354",
   "metadata": {},
   "outputs": [
    {
     "name": "stdout",
     "output_type": "stream",
     "text": [
      "--- DataFrame Sorted by Score ---\n",
      "      Name         City  Score\n",
      "3    David     New York     95\n",
      "1      Bob  Los Angeles     92\n",
      "6    Alice     New York     90\n",
      "0    Alice     New York     88\n",
      "4      Eva      Chicago     85\n",
      "2  Charlie      Chicago     79\n",
      "5    Frank  Los Angeles     72\n"
     ]
    }
   ],
   "source": [
    "# Let's sort the DataFrame by the score, from highest to lowest\n",
    "sorted_df = ops_df.sort_values(by='Score', ascending=False)\n",
    "print(\"--- DataFrame Sorted by Score ---\")\n",
    "print(sorted_df)"
   ]
  },
  {
   "cell_type": "code",
   "execution_count": 22,
   "id": "abe4d365",
   "metadata": {},
   "outputs": [
    {
     "name": "stdout",
     "output_type": "stream",
     "text": [
      "\n",
      "--- DataFrame with 'New York' replaced by 'NYC' ---\n",
      "      Name         City  Score\n",
      "0    Alice          NYC     88\n",
      "1      Bob  Los Angeles     92\n",
      "2  Charlie      Chicago     79\n",
      "3    David          NYC     95\n",
      "4      Eva      Chicago     85\n",
      "5    Frank  Los Angeles     72\n",
      "6    Alice          NYC     90\n"
     ]
    }
   ],
   "source": [
    "# Let's replace 'New York' with 'NYC'\n",
    "replaced_df = ops_df.replace('New York', 'NYC')\n",
    "print(\"\\n--- DataFrame with 'New York' replaced by 'NYC' ---\")\n",
    "print(replaced_df)"
   ]
  },
  {
   "cell_type": "markdown",
   "id": "5c713bff",
   "metadata": {},
   "source": [
    "### 🎯 Practice Task: Operations\n",
    "\n",
    "Using the `ops_df` dataframe:\n",
    "1. Find the number of unique names using `.unique()`.\n",
    "2. Sort the DataFrame alphabetically by 'Name'."
   ]
  },
  {
   "cell_type": "code",
   "execution_count": 23,
   "id": "6b0494d1",
   "metadata": {},
   "outputs": [],
   "source": [
    "# Your code here!"
   ]
  },
  {
   "cell_type": "markdown",
   "id": "b2ba2f69",
   "metadata": {},
   "source": [
    "--- \n",
    "## Topic 6: Handling Missing Data\n",
    "\n",
    "Real-world data is rarely perfect. Often, you'll have missing values, which Pandas represents as `NaN` (Not a Number)."
   ]
  },
  {
   "cell_type": "markdown",
   "id": "01b78f62",
   "metadata": {},
   "source": [
    "### 📄 Null Value Check\n",
    "The first step is to identify where the missing values are.\n",
    "- `df.isnull()`: Returns a DataFrame of boolean values indicating if a cell is null.\n",
    "- `df.isnull().sum()`: A powerful chain of commands that returns the total number of null values in each column."
   ]
  },
  {
   "cell_type": "code",
   "execution_count": 24,
   "id": "c4c256f3",
   "metadata": {},
   "outputs": [
    {
     "name": "stdout",
     "output_type": "stream",
     "text": [
      "--- Original DataFrame with Missing Data ---\n",
      "      Name   Age  Score\n",
      "0    Alice  25.0   88.0\n",
      "1      Bob  30.0   92.0\n",
      "2  Charlie   NaN   79.0\n",
      "3    David  22.0    NaN\n",
      "\n",
      "--- Null values per column ---\n",
      "Name     0\n",
      "Age      1\n",
      "Score    1\n",
      "dtype: int64\n"
     ]
    }
   ],
   "source": [
    "# Let's create a DataFrame with some missing data\n",
    "student_data = {\n",
    "    'Name': ['Alice', 'Bob', 'Charlie', 'David'],\n",
    "    'Age': [25, 30, np.nan, 22],\n",
    "    'Score': [88, 92, 79, np.nan]\n",
    "}\n",
    "student_df = pd.DataFrame(student_data)\n",
    "\n",
    "print(\"--- Original DataFrame with Missing Data ---\")\n",
    "print(student_df)\n",
    "\n",
    "print(\"\\n--- Null values per column ---\")\n",
    "print(student_df.isnull().sum())"
   ]
  },
  {
   "cell_type": "markdown",
   "id": "dfd3b69c",
   "metadata": {},
   "source": [
    "### 📄 Handling Missing Data\n",
    "You have two main options:\n",
    "1.  **Remove it:** Drop rows or columns with missing data using `.dropna()`.\n",
    "2.  **Fill it:** Fill the missing values with something else using `.fillna()`."
   ]
  },
  {
   "cell_type": "code",
   "execution_count": 25,
   "id": "0ac7f5ef",
   "metadata": {},
   "outputs": [
    {
     "name": "stdout",
     "output_type": "stream",
     "text": [
      "\n",
      "--- DataFrame after dropping rows with NaN ---\n",
      "    Name   Age  Score\n",
      "0  Alice  25.0   88.0\n",
      "1    Bob  30.0   92.0\n"
     ]
    }
   ],
   "source": [
    "# Option 1: Drop rows with any missing values\n",
    "df_dropped = student_df.dropna()\n",
    "print(\"\\n--- DataFrame after dropping rows with NaN ---\")\n",
    "print(df_dropped)"
   ]
  },
  {
   "cell_type": "code",
   "execution_count": 26,
   "id": "6ee42b32",
   "metadata": {},
   "outputs": [
    {
     "name": "stdout",
     "output_type": "stream",
     "text": [
      "\n",
      "--- DataFrame after filling missing values ---\n",
      "      Name        Age  Score\n",
      "0    Alice  25.000000   88.0\n",
      "1      Bob  30.000000   92.0\n",
      "2  Charlie  25.666667   79.0\n",
      "3    David  22.000000    0.0\n"
     ]
    }
   ],
   "source": [
    "# Option 2: Fill missing values\n",
    "# Let's fill the missing Age with the average age\n",
    "mean_age = student_df['Age'].mean()\n",
    "df_filled = student_df.fillna({'Age': mean_age, 'Score': 0}) # Fill score with 0\n",
    "\n",
    "print(\"\\n--- DataFrame after filling missing values ---\")\n",
    "print(df_filled)"
   ]
  },
  {
   "cell_type": "markdown",
   "id": "29c56ee7",
   "metadata": {},
   "source": [
    "--- \n",
    "## 🎉 Final Revision Assignment 🎉\n",
    "\n",
    "Amazing work! You've learned the most important Pandas skills. Let's combine everything you've learned in a final assignment."
   ]
  },
  {
   "cell_type": "markdown",
   "id": "9f5e73ed",
   "metadata": {},
   "source": [
    "**Scenario:** You are managing a dataset of products for an online store.\n",
    "\n",
    "**Your Tasks:**\n",
    "\n",
    "1.  **Create a DataFrame:** Create the product DataFrame from the dictionary provided below.\n",
    "2.  **Initial Inspection:** Use `.value_counts()` on the 'Category' column to see how many products are in each category.\n",
    "3.  **Filter for Electronics:** Find and print all products that belong to the 'Electronics' category.\n",
    "4.  **Find High-Rated Products:** Filter the DataFrame to show only products with a 'Rating' greater than 4.0.\n",
    "5.  **Handle Missing Price:** The price for the 'Keyboard' is missing. Fill this `NaN` value with the average price of the other products.\n",
    "6.  **Add a New Column:** Use `.apply()` to create a new column called 'Price_with_Tax' that is 20% higher than the 'Price' column.\n",
    "7.  **Sort and Finalize:** Sort the final DataFrame by 'Rating' in descending order. Then, drop the original 'Price' column to clean up the table."
   ]
  },
  {
   "cell_type": "code",
   "execution_count": null,
   "id": "74f74bfb",
   "metadata": {},
   "outputs": [],
   "source": [
    "# Your solution for the Final Assignment here!\n",
    "\n",
    "# 1. Create a DataFrame\n",
    "product_dict = {\n",
    "    'Product': ['Laptop', 'Mouse', 'Keyboard', 'Monitor', 'Webcam', 'Headphones'],\n",
    "    'Category': ['Electronics', 'Electronics', 'Electronics', 'Electronics', 'Accessories', 'Accessories'],\n",
    "    'Price': [1200, 25, np.nan, 300, 50, 150],\n",
    "    'Rating': [4.5, 4.2, 4.8, 4.9, 3.8, 4.6]\n",
    "}\n",
    "products_df = pd.DataFrame(product_dict)\n",
    "print(\"--- Task 1: Full DataFrame ---\")\n",
    "print(products_df)\n",
    "\n",
    "# 2. Initial Inspection\n",
    "print(\"\\n--- Task 2: Category Counts ---\")\n",
    "print(products_df['Category'].value_counts())\n",
    "\n",
    "# 3. Filter for Electronics\n",
    "electronics = products_df[products_df['Category'] == 'Electronics']\n",
    "print(\"\\n--- Task 3: Electronics only ---\")\n",
    "print(electronics)\n",
    "\n",
    "# 4. Find High-Rated Products\n",
    "high_rated = products_df[products_df['Rating'] > 4.0]\n",
    "print(\"\\n--- Task 4: High Rated Products ---\")\n",
    "print(high_rated)\n",
    "\n",
    "# 5. Handle Missing Price\n",
    "avg_price = products_df['Price'].mean()\n",
    "products_df['Price'].fillna(avg_price, inplace=True) \n",
    "print(\"\\n--- Task 5: DataFrame with filled price ---\")\n",
    "print(products_df)\n",
    "\n",
    "# 6. Add a New Column\n",
    "products_df['Price_with_Tax'] = products_df['Price'].apply(lambda x: x * 1.20)\n",
    "print(\"\\n--- Task 6: DataFrame with Tax Column ---\")\n",
    "print(products_df)\n",
    "\n",
    "# 7. Sort and Finalize\n",
    "final_products_df = products_df.sort_values(by='Rating', ascending=False)\n",
    "final_products_df = final_products_df.drop('Price', axis=1)\n",
    "print(\"\\n--- Task 7: Final Sorted & Cleaned DataFrame ---\")\n",
    "print(final_products_df)"
   ]
  },
  {
   "cell_type": "markdown",
   "id": "a66b86a6",
   "metadata": {},
   "source": [
    "## 🥳 You've Mastered the Basics!\n",
    "\n",
    "Excellent job! You now have a solid foundation in Pandas. These skills are exactly what you need to start exploring and cleaning datasets for your AI projects. The journey of a data scientist starts here!"
   ]
  }
 ],
 "metadata": {
  "kernelspec": {
   "display_name": "Python 3 (ipykernel)",
   "language": "python",
   "name": "python3"
  },
  "language_info": {
   "codemirror_mode": {
    "name": "ipython",
    "version": 3
   },
   "file_extension": ".py",
   "mimetype": "text/x-python",
   "name": "python",
   "nbconvert_exporter": "python",
   "pygments_lexer": "ipython3",
   "version": "3.12.7"
  }
 },
 "nbformat": 4,
 "nbformat_minor": 5
}
