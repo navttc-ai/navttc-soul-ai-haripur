{
 "cells": [
  {
   "cell_type": "markdown",
   "metadata": {},
   "source": [
    "# Day 5: Conditional Execution\n",
    "## Python Programming Fundamentals\n",
    "\n",
    "This notebook contains all examples from the slides and solutions to practice assignments."
   ]
  },
  {
   "cell_type": "markdown",
   "metadata": {},
   "source": [
    "## 1. Basic 'if' Statement\n",
    "\n",
    "The 'if' statement runs code only when a condition is True."
   ]
  },
  {
   "cell_type": "code",
   "execution_count": null,
   "metadata": {},
   "outputs": [],
   "source": [
    "# Basic if statement example\n",
    "age = 18\n",
    "if age >= 18:\n",
    "    print(\"You can vote!\")"
   ]
  },
  {
   "cell_type": "markdown",
   "metadata": {},
   "source": [
    "## 2. Multiple Conditions\n",
    "\n",
    "You can check multiple things in one condition using logical operators."
   ]
  },
  {
   "cell_type": "code",
   "execution_count": null,
   "metadata": {},
   "outputs": [],
   "source": [
    "# Multiple conditions with 'and'\n",
    "age = 20\n",
    "has_license = True\n",
    "\n",
    "if age >= 18 and has_license:\n",
    "    print(\"You can drive!\")"
   ]
  },
  {
   "cell_type": "markdown",
   "metadata": {},
   "source": [
    "## 3. 'elif' Statement\n",
    "\n",
    "Use 'elif' when you have multiple choices to check."
   ]
  },
  {
   "cell_type": "code",
   "execution_count": null,
   "metadata": {},
   "outputs": [],
   "source": [
    "# elif statement example\n",
    "score = 85\n",
    "\n",
    "if score >= 90:\n",
    "    grade = \"A\"\n",
    "elif score >= 80:\n",
    "    grade = \"B\"\n",
    "elif score >= 70:\n",
    "    grade = \"C\"\n",
    "\n",
    "print(f\"Grade: {grade}\")"
   ]
  },
  {
   "cell_type": "markdown",
   "metadata": {},
   "source": [
    "## 4. 'else' Statement\n",
    "\n",
    "Use 'else' as a backup when all other conditions are False."
   ]
  },
  {
   "cell_type": "code",
   "execution_count": null,
   "metadata": {},
   "outputs": [],
   "source": [
    "# else statement example\n",
    "temperature = 15\n",
    "\n",
    "if temperature > 25:\n",
    "    print(\"It's hot!\")\n",
    "elif temperature > 15:\n",
    "    print(\"It's warm\")\n",
    "else:\n",
    "    print(\"It's cold!\")"
   ]
  },
  {
   "cell_type": "markdown",
   "metadata": {},
   "source": [
    "## 5. Complete Chain Example\n",
    "\n",
    "A complete chain handles every possible situation."
   ]
  },
  {
   "cell_type": "code",
   "execution_count": null,
   "metadata": {},
   "outputs": [],
   "source": [
    "# Complete conditional chain\n",
    "num = 0\n",
    "\n",
    "if num > 0:\n",
    "    print(\"Positive\")\n",
    "elif num < 0:\n",
    "    print(\"Negative\")\n",
    "else:\n",
    "    print(\"Zero\")"
   ]
  },
  {
   "cell_type": "markdown",
   "metadata": {},
   "source": [
    "## 6. Loop Control - 'break' Statement\n",
    "\n",
    "'break' immediately stops the loop and exits."
   ]
  },
  {
   "cell_type": "code",
   "execution_count": null,
   "metadata": {},
   "outputs": [],
   "source": [
    "# break statement example\n",
    "numbers = [1, 3, 8, 12, 15]\n",
    "\n",
    "for num in numbers:\n",
    "    if num > 10:\n",
    "        print(f\"Found large number: {num}\")\n",
    "        break\n",
    "    print(num)"
   ]
  },
  {
   "cell_type": "markdown",
   "metadata": {},
   "source": [
    "## 7. 'continue' Statement\n",
    "\n",
    "'continue' skips the rest of this round and starts the next one."
   ]
  },
  {
   "cell_type": "code",
   "execution_count": null,
   "metadata": {},
   "outputs": [],
   "source": [
    "# continue statement example\n",
    "for i in range(1, 6):\n",
    "    if i == 3:\n",
    "        continue  # Skip 3\n",
    "    print(i)\n",
    "# Output: 1, 2, 4, 5"
   ]
  },
  {
   "cell_type": "code",
   "execution_count": null,
   "metadata": {},
   "outputs": [],
   "source": [
    "# Real continue example - skip invalid scores\n",
    "scores = [85, -1, 92, 0, 78]\n",
    "\n",
    "for score in scores:\n",
    "    if score <= 0:\n",
    "        continue  # Skip invalid scores\n",
    "    print(f\"Valid score: {score}\")"
   ]
  },
  {
   "cell_type": "markdown",
   "metadata": {},
   "source": [
    "## 8. 'pass' Statement\n",
    "\n",
    "'pass' does nothing. Use it as a placeholder."
   ]
  },
  {
   "cell_type": "code",
   "execution_count": null,
   "metadata": {},
   "outputs": [],
   "source": [
    "# pass statement examples\n",
    "def future_function():\n",
    "    # I'll write this later\n",
    "    pass\n",
    "\n",
    "user_input = \"help\"\n",
    "if user_input == \"help\":\n",
    "    pass  # Will add help later\n",
    "else:\n",
    "    print(\"Unknown command\")"
   ]
  },
  {
   "cell_type": "markdown",
   "metadata": {},
   "source": [
    "## 9. Nested Conditionals\n",
    "\n",
    "Sometimes you need to check conditions inside other conditions."
   ]
  },
  {
   "cell_type": "code",
   "execution_count": null,
   "metadata": {},
   "outputs": [],
   "source": [
    "# Simple nested conditional example\n",
    "age = 20\n",
    "is_student = True\n",
    "\n",
    "if age >= 18:\n",
    "    if is_student:\n",
    "        price = 10  # Student discount\n",
    "    else:\n",
    "        price = 15  # Regular adult price\n",
    "else:\n",
    "    price = 8  # Child price\n",
    "\n",
    "print(f\"Ticket: ${price}\")"
   ]
  },
  {
   "cell_type": "markdown",
   "metadata": {},
   "source": [
    "## 10. Ternary Operator\n",
    "\n",
    "A shortcut for simple if-else statements in one line."
   ]
  },
  {
   "cell_type": "code",
   "execution_count": null,
   "metadata": {},
   "outputs": [],
   "source": [
    "# Ternary operator basic example\n",
    "age = 20\n",
    "\n",
    "# Long way\n",
    "if age >= 18:\n",
    "    status = \"Adult\"\n",
    "else:\n",
    "    status = \"Minor\"\n",
    "print(f\"Long way: {status}\")\n",
    "\n",
    "# Short way (ternary)\n",
    "status = \"Adult\" if age >= 18 else \"Minor\"\n",
    "print(f\"Ternary: {status}\")"
   ]
  },
  {
   "cell_type": "code",
   "execution_count": null,
   "metadata": {},
   "outputs": [],
   "source": [
    "# More ternary examples\n",
    "\n",
    "# Check even/odd\n",
    "number = 7\n",
    "result = \"Even\" if number % 2 == 0 else \"Odd\"\n",
    "print(f\"Number {number} is: {result}\")\n",
    "\n",
    "# Set discount\n",
    "is_member = True\n",
    "discount = 0.1 if is_member else 0.0\n",
    "print(f\"Discount: {discount * 100}%\")\n",
    "\n",
    "# Quick validation (simulated input)\n",
    "username = \"\"  # Simulate empty input\n",
    "name = username if username else \"Guest\"\n",
    "print(f\"Welcome, {name}!\")"
   ]
  },
  {
   "cell_type": "markdown",
   "metadata": {},
   "source": [
    "---\n",
    "# Practice Assignments\n",
    "## Assignment 1: Number Classifier\n",
    "\n",
    "Write a program that:\n",
    "- Asks user for a number\n",
    "- Says if it's positive, negative, or zero\n",
    "- Says if it's even or odd (if not zero)"
   ]
  },
  {
   "cell_type": "code",
   "execution_count": null,
   "metadata": {},
   "outputs": [],
   "source": [
    "# Assignment 1: Number Classifier\n",
    "def number_classifier():\n",
    "    try:\n",
    "        # Get input from user\n",
    "        num = float(input(\"Enter a number: \"))\n",
    "        \n",
    "        # Check if positive, negative, or zero\n",
    "        if num > 0:\n",
    "            print(f\"{num} is positive\")\n",
    "        elif num < 0:\n",
    "            print(f\"{num} is negative\")\n",
    "        else:\n",
    "            print(f\"{num} is zero\")\n",
    "        \n",
    "        # Check even or odd (only if not zero and is integer)\n",
    "        if num != 0 and num.is_integer():\n",
    "            if int(num) % 2 == 0:\n",
    "                print(f\"{int(num)} is even\")\n",
    "            else:\n",
    "                print(f\"{int(num)} is odd\")\n",
    "        elif num != 0:\n",
    "            print(\"Even/odd classification applies only to integers\")\n",
    "            \n",
    "    except ValueError:\n",
    "        print(\"Please enter a valid number!\")\n",
    "\n",
    "# Test the function\n",
    "# Uncomment the line below to run interactively\n",
    "# number_classifier()\n",
    "\n",
    "# Demo with predefined values\n",
    "test_numbers = [5, -3, 0, 2.5, -8]\n",
    "for test_num in test_numbers:\n",
    "    print(f\"\\nTesting with {test_num}:\")\n",
    "    if test_num > 0:\n",
    "        print(f\"{test_num} is positive\")\n",
    "    elif test_num < 0:\n",
    "        print(f\"{test_num} is negative\")\n",
    "    else:\n",
    "        print(f\"{test_num} is zero\")\n",
    "    \n",
    "    if test_num != 0 and test_num == int(test_num):\n",
    "        if int(test_num) % 2 == 0:\n",
    "            print(f\"{int(test_num)} is even\")\n",
    "        else:\n",
    "            print(f\"{int(test_num)} is odd\")"
   ]
  },
  {
   "cell_type": "markdown",
   "metadata": {},
   "source": [
    "## Assignment 2: Grade Calculator\n",
    "\n",
    "Create a program that:\n",
    "- Takes a test score (0-100)\n",
    "- Assigns letter grade (A, B, C, D, F)\n",
    "- Shows appropriate message for each grade"
   ]
  },
  {
   "cell_type": "code",
   "execution_count": null,
   "metadata": {},
   "outputs": [],
   "source": [
    "# Assignment 2: Grade Calculator\n",
    "def grade_calculator():\n",
    "    try:\n",
    "        # Get score from user\n",
    "        score = float(input(\"Enter test score (0-100): \"))\n",
    "        \n",
    "        # Validate score range\n",
    "        if score < 0 or score > 100:\n",
    "            print(\"Score must be between 0 and 100!\")\n",
    "            return\n",
    "        \n",
    "        # Determine grade and message\n",
    "        if score >= 90:\n",
    "            grade = \"A\"\n",
    "            message = \"Excellent work! Outstanding performance!\"\n",
    "        elif score >= 80:\n",
    "            grade = \"B\"\n",
    "            message = \"Good job! Above average performance!\"\n",
    "        elif score >= 70:\n",
    "            grade = \"C\"\n",
    "            message = \"Satisfactory. You passed!\"\n",
    "        elif score >= 60:\n",
    "            grade = \"D\"\n",
    "            message = \"Below average. Consider studying more.\"\n",
    "        else:\n",
    "            grade = \"F\"\n",
    "            message = \"Failed. Please retake the test.\"\n",
    "        \n",
    "        print(f\"Score: {score}\")\n",
    "        print(f\"Grade: {grade}\")\n",
    "        print(f\"Message: {message}\")\n",
    "        \n",
    "    except ValueError:\n",
    "        print(\"Please enter a valid number!\")\n",
    "\n",
    "# Test the function\n",
    "# Uncomment the line below to run interactively\n",
    "# grade_calculator()\n",
    "\n",
    "# Demo with predefined scores\n",
    "test_scores = [95, 87, 76, 65, 45, 102, -5]\n",
    "for test_score in test_scores:\n",
    "    print(f\"\\nTesting with score {test_score}:\")\n",
    "    \n",
    "    if test_score < 0 or test_score > 100:\n",
    "        print(\"Score must be between 0 and 100!\")\n",
    "        continue\n",
    "    \n",
    "    if test_score >= 90:\n",
    "        grade = \"A\"\n",
    "        message = \"Excellent work! Outstanding performance!\"\n",
    "    elif test_score >= 80:\n",
    "        grade = \"B\"\n",
    "        message = \"Good job! Above average performance!\"\n",
    "    elif test_score >= 70:\n",
    "        grade = \"C\"\n",
    "        message = \"Satisfactory. You passed!\"\n",
    "    elif test_score >= 60:\n",
    "        grade = \"D\"\n",
    "        message = \"Below average. Consider studying more.\"\n",
    "    else:\n",
    "        grade = \"F\"\n",
    "        message = \"Failed. Please retake the test.\"\n",
    "    \n",
    "    print(f\"Score: {test_score}\")\n",
    "    print(f\"Grade: {grade}\")\n",
    "    print(f\"Message: {message}\")"
   ]
  },
  {
   "cell_type": "markdown",
   "metadata": {},
   "source": [
    "## Assignment 3: Simple Calculator\n",
    "\n",
    "Build a calculator that:\n",
    "- Asks for two numbers and an operation (+, -, *, /)\n",
    "- Performs the calculation\n",
    "- Handles division by zero"
   ]
  },
  {
   "cell_type": "code",
   "execution_count": null,
   "metadata": {},
   "outputs": [],
   "source": [
    "# Assignment 3: Simple Calculator\n",
    "def simple_calculator():\n",
    "    try:\n",
    "        # Get input from user\n",
    "        num1 = float(input(\"Enter first number: \"))\n",
    "        num2 = float(input(\"Enter second number: \"))\n",
    "        operation = input(\"Enter operation (+, -, *, /): \").strip()\n",
    "        \n",
    "        # Perform calculation based on operation\n",
    "        if operation == \"+\":\n",
    "            result = num1 + num2\n",
    "            print(f\"{num1} + {num2} = {result}\")\n",
    "        elif operation == \"-\":\n",
    "            result = num1 - num2\n",
    "            print(f\"{num1} - {num2} = {result}\")\n",
    "        elif operation == \"*\":\n",
    "            result = num1 * num2\n",
    "            print(f\"{num1} * {num2} = {result}\")\n",
    "        elif operation == \"/\":\n",
    "            if num2 == 0:\n",
    "                print(\"Error: Division by zero is not allowed!\")\n",
    "            else:\n",
    "                result = num1 / num2\n",
    "                print(f\"{num1} / {num2} = {result}\")\n",
    "        else:\n",
    "            print(\"Error: Invalid operation! Please use +, -, *, or /\")\n",
    "            \n",
    "    except ValueError:\n",
    "        print(\"Error: Please enter valid numbers!\")\n",
    "\n",
    "# Test the function\n",
    "# Uncomment the line below to run interactively\n",
    "# simple_calculator()\n",
    "\n",
    "# Demo with predefined operations\n",
    "test_cases = [\n",
    "    (10, 5, \"+\"),\n",
    "    (10, 3, \"-\"),\n",
    "    (4, 7, \"*\"),\n",
    "    (15, 3, \"/\"),\n",
    "    (10, 0, \"/\"),  # Division by zero test\n",
    "    (8, 2, \"%\")    # Invalid operation test\n",
    "]\n",
    "\n",
    "for num1, num2, op in test_cases:\n",
    "    print(f\"\\nCalculating: {num1} {op} {num2}\")\n",
    "    \n",
    "    if op == \"+\":\n",
    "        result = num1 + num2\n",
    "        print(f\"{num1} + {num2} = {result}\")\n",
    "    elif op == \"-\":\n",
    "        result = num1 - num2\n",
    "        print(f\"{num1} - {num2} = {result}\")\n",
    "    elif op == \"*\":\n",
    "        result = num1 * num2\n",
    "        print(f\"{num1} * {num2} = {result}\")\n",
    "    elif op == \"/\":\n",
    "        if num2 == 0:\n",
    "            print(\"Error: Division by zero is not allowed!\")\n",
    "        else:\n",
    "            result = num1 / num2\n",
    "            print(f\"{num1} / {num2} = {result}\")\n",
    "    else:\n",
    "        print(\"Error: Invalid operation! Please use +, -, *, or /\")"
   ]
  },
  {
   "cell_type": "markdown",
   "metadata": {},
   "source": [
    "## Bonus: Enhanced Calculator with Menu\n",
    "\n",
    "Here's an enhanced version of the calculator with a user-friendly menu system."
   ]
  },
  {
   "cell_type": "code",
   "execution_count": null,
   "metadata": {},
   "outputs": [],
   "source": [
    "# Bonus: Enhanced Calculator with Menu\n",
    "def enhanced_calculator():\n",
    "    print(\"=\" * 30)\n",
    "    print(\"    SIMPLE CALCULATOR\")\n",
    "    print(\"=\" * 30)\n",
    "    \n",
    "    while True:\n",
    "        print(\"\\nOperations:\")\n",
    "        print(\"1. Addition (+)\")\n",
    "        print(\"2. Subtraction (-)\")\n",
    "        print(\"3. Multiplication (*)\")\n",
    "        print(\"4. Division (/)\")\n",
    "        print(\"5. Exit\")\n",
    "        \n",
    "        choice = input(\"\\nChoose an operation (1-5): \").strip()\n",
    "        \n",
    "        if choice == \"5\":\n",
    "            print(\"Thank you for using the calculator!\")\n",
    "            break\n",
    "        \n",
    "        if choice not in [\"1\", \"2\", \"3\", \"4\"]:\n",
    "            print(\"Invalid choice! Please select 1-5.\")\n",
    "            continue\n",
    "        \n",
    "        try:\n",
    "            num1 = float(input(\"Enter first number: \"))\n",
    "            num2 = float(input(\"Enter second number: \"))\n",
    "            \n",
    "            if choice == \"1\":\n",
    "                result = num1 + num2\n",
    "                print(f\"Result: {num1} + {num2} = {result}\")\n",
    "            elif choice == \"2\":\n",
    "                result = num1 - num2\n",
    "                print(f\"Result: {num1} - {num2} = {result}\")\n",
    "            elif choice == \"3\":\n",
    "                result = num1 * num2\n",
    "                print(f\"Result: {num1} * {num2} = {result}\")\n",
    "            elif choice == \"4\":\n",
    "                if num2 == 0:\n",
    "                    print(\"Error: Division by zero is not allowed!\")\n",
    "                else:\n",
    "                    result = num1 / num2\n",
    "                    print(f\"Result: {num1} / {num2} = {result}\")\n",
    "                    \n",
    "        except ValueError:\n",
    "            print(\"Error: Please enter valid numbers!\")\n",
    "        \n",
    "        # Ask if user wants to continue\n",
    "        continue_calc = input(\"\\nDo another calculation? (y/n): \").strip().lower()\n",
    "        if continue_calc != 'y' and continue_calc != 'yes':\n",
    "            print(\"Thank you for using the calculator!\")\n",
    "            break\n",
    "\n",
    "# Uncomment to run the enhanced calculator\n",
    "# enhanced_calculator()\n",
    "\n",
    "print(\"Enhanced calculator function defined. Uncomment the line above to run it.\")"
   ]
  },
  {
   "cell_type": "markdown",
   "metadata": {},
   "source": [
    "## Summary\n",
    "\n",
    "### What We Learned:\n",
    "- **if, elif, and else statements** for decision making\n",
    "- **break, continue, and pass** for loop control\n",
    "- **Nested conditionals** for complex decision trees\n",
    "- **Ternary operator** for concise conditional expressions\n",
    "- **Best practices** and common mistakes to avoid\n",
    "\n",
    "### Key Takeaways:\n",
    "1. Always use proper indentation in Python\n",
    "2. Don't forget the colon (:) after conditional statements\n",
    "3. Use `==` for comparison, not `=` (which is assignment)\n",
    "4. Handle edge cases (like division by zero)\n",
    "5. Keep conditions simple and readable\n",
    "6. Test all possible code paths\n",
    "\n",
    "### Next Steps:\n",
    "- Practice with more complex conditional logic\n",
    "- Combine conditionals with loops for powerful programs\n",
    "- Learn about boolean logic and operator precedence\n",
    "- Build more interactive programs using these concepts"
   ]
  }
 ],
 "metadata": {
  "kernelspec": {
   "display_name": "Python 3 (ipykernel)",
   "language": "python",
   "name": "python3"
  },
  "language_info": {
   "codemirror_mode": {
    "name": "ipython",
    "version": 3
   },
   "file_extension": ".py",
   "mimetype": "text/x-python",
   "name": "python",
   "nbconvert_exporter": "python",
   "pygments_lexer": "ipython3",
   "version": "3.12.7"
  }
 },
 "nbformat": 4,
 "nbformat_minor": 4
}
