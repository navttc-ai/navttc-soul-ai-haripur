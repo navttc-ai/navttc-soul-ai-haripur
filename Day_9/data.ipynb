{
 "cells": [
  {
   "cell_type": "markdown",
   "id": "db47492e",
   "metadata": {},
   "source": [
    "# Understanding Data in Computing\n",
    "\n",
    "This interactive notebook demonstrates concepts from \"Understanding Data in Computing\". Run cells to compute statistics and generate visualizations. The notebook uses `numpy`, `pandas`, and `matplotlib` (no seaborn) so it can run in a standard Python environment.\n",
    "\n",
    "----"
   ]
  },
  {
   "cell_type": "code",
   "execution_count": null,
   "id": "efc476d5-c08c-4932-b577-f65c68c23a84",
   "metadata": {},
   "outputs": [],
   "source": []
  },
  {
   "cell_type": "markdown",
   "id": "55ecab0c",
   "metadata": {},
   "source": [
    "## 1. Introduction\n",
    "\n",
    "Data are raw facts (numbers, text, images) which become information after organization and processing. We'll demonstrate structured vs unstructured data, quantitative vs qualitative data, variable types, central tendency, measures of spread, and common distributions."
   ]
  },
  {
   "cell_type": "markdown",
   "id": "08108e57",
   "metadata": {},
   "source": [
    "## 2. Setup — imports and sample data"
   ]
  },
  {
   "cell_type": "code",
   "execution_count": null,
   "id": "8d4be65a-2b7e-40b8-ac95-8f29a467068b",
   "metadata": {},
   "outputs": [],
   "source": []
  },
  {
   "cell_type": "code",
   "execution_count": 1,
   "id": "a96f7328",
   "metadata": {},
   "outputs": [
    {
     "name": "stdout",
     "output_type": "stream",
     "text": [
      "numpy: 1.26.4\n",
      "pandas: 2.2.2\n",
      "matplotlib: 3.9.2\n"
     ]
    }
   ],
   "source": [
    "import numpy as np\n",
    "import pandas as pd\n",
    "import matplotlib.pyplot as plt\n",
    "from collections import Counter\n",
    "\n",
    "# Make plots show inline in classic Jupyter\n",
    "%matplotlib inline\n",
    "\n",
    "print('numpy:', np.__version__)\n",
    "print('pandas:', pd.__version__)\n",
    "print('matplotlib:', plt.matplotlib.__version__)"
   ]
  },
  {
   "cell_type": "markdown",
   "id": "f43c7289",
   "metadata": {},
   "source": [
    "## 3. Structured vs Unstructured Data (example)\n",
    "\n",
    "We'll create a small structured dataset (pandas DataFrame) and an unstructured dataset (list of text + images metadata)."
   ]
  },
  {
   "cell_type": "code",
   "execution_count": 11,
   "id": "7f8b3747-2efc-4d8b-9fdc-fb40b5d5bd17",
   "metadata": {},
   "outputs": [
    {
     "name": "stdout",
     "output_type": "stream",
     "text": [
      "Structured data (DataFrame):\n"
     ]
    },
    {
     "data": {
      "text/html": [
       "<div>\n",
       "<style scoped>\n",
       "    .dataframe tbody tr th:only-of-type {\n",
       "        vertical-align: middle;\n",
       "    }\n",
       "\n",
       "    .dataframe tbody tr th {\n",
       "        vertical-align: top;\n",
       "    }\n",
       "\n",
       "    .dataframe thead th {\n",
       "        text-align: right;\n",
       "    }\n",
       "</style>\n",
       "<table border=\"1\" class=\"dataframe\">\n",
       "  <thead>\n",
       "    <tr style=\"text-align: right;\">\n",
       "      <th></th>\n",
       "      <th>customer_id</th>\n",
       "      <th>name</th>\n",
       "      <th>age</th>\n",
       "      <th>purchase_count</th>\n",
       "    </tr>\n",
       "  </thead>\n",
       "  <tbody>\n",
       "    <tr>\n",
       "      <th>0</th>\n",
       "      <td>101</td>\n",
       "      <td>Aisha</td>\n",
       "      <td>28</td>\n",
       "      <td>5</td>\n",
       "    </tr>\n",
       "    <tr>\n",
       "      <th>1</th>\n",
       "      <td>102</td>\n",
       "      <td>Bilal</td>\n",
       "      <td>34</td>\n",
       "      <td>2</td>\n",
       "    </tr>\n",
       "    <tr>\n",
       "      <th>2</th>\n",
       "      <td>103</td>\n",
       "      <td>Chen</td>\n",
       "      <td>22</td>\n",
       "      <td>7</td>\n",
       "    </tr>\n",
       "    <tr>\n",
       "      <th>3</th>\n",
       "      <td>104</td>\n",
       "      <td>Dina</td>\n",
       "      <td>45</td>\n",
       "      <td>1</td>\n",
       "    </tr>\n",
       "  </tbody>\n",
       "</table>\n",
       "</div>"
      ],
      "text/plain": [
       "   customer_id   name  age  purchase_count\n",
       "0          101  Aisha   28               5\n",
       "1          102  Bilal   34               2\n",
       "2          103   Chen   22               7\n",
       "3          104   Dina   45               1"
      ]
     },
     "metadata": {},
     "output_type": "display_data"
    }
   ],
   "source": [
    "# Structured data example: tabular customer records\n",
    "customers = pd.DataFrame({\n",
    "    'customer_id': [101, 102, 103, 104],\n",
    "    'name': ['Aisha', 'Bilal', 'Chen', 'Dina'],\n",
    "    'age': [28, 34, 22, 45],\n",
    "    'purchase_count': [5, 2, 7, 1]\n",
    "})\n",
    "\n",
    "print('Structured data (DataFrame):')\n",
    "display(customers)"
   ]
  },
  {
   "cell_type": "code",
   "execution_count": 12,
   "id": "83819571",
   "metadata": {},
   "outputs": [
    {
     "name": "stdout",
     "output_type": "stream",
     "text": [
      "\n",
      "Unstructured data (examples):\n",
      "- Email: Dear customer, thanks for joining!\n",
      "- Chat message: I loved the product, but it arrived late.\n",
      "- {'image_filename': 'img_001.jpg', 'resolution': (1024, 768)}\n",
      "- Transcript: Meeting started at 10:05am and ended at 11:20am.\n"
     ]
    }
   ],
   "source": [
    "\n",
    "\n",
    "# Unstructured data example: text + media metadata\n",
    "unstructured = [\n",
    "    'Email: Dear customer, thanks for joining!',\n",
    "    'Chat message: I loved the product, but it arrived late.',\n",
    "    {'image_filename': 'img_001.jpg', 'resolution': (1024,768)},\n",
    "    'Transcript: Meeting started at 10:05am and ended at 11:20am.'\n",
    "]\n",
    "\n",
    "print('\\nUnstructured data (examples):')\n",
    "for item in unstructured:\n",
    "    print('-', item)\n"
   ]
  },
  {
   "cell_type": "markdown",
   "id": "945703d1",
   "metadata": {},
   "source": [
    "### Quick observation\n",
    "\n",
    "- Structured data: easy to query, compute, and aggregate.\n",
    "- Unstructured data: needs parsing / NLP / vision methods to analyze."
   ]
  },
  {
   "cell_type": "markdown",
   "id": "9286817b",
   "metadata": {},
   "source": [
    "## 4. Quantitative vs Qualitative Data\n",
    "\n",
    "Examples and simple analyses."
   ]
  },
  {
   "cell_type": "code",
   "execution_count": 13,
   "id": "544033ee-5a24-4418-b043-5b99546ec28f",
   "metadata": {},
   "outputs": [
    {
     "data": {
      "text/plain": [
       "numpy.ndarray"
      ]
     },
     "execution_count": 13,
     "metadata": {},
     "output_type": "execute_result"
    }
   ],
   "source": [
    "temps = np.array([22.5, 23.0, 21.7, 24.1, 22.8, 23.3, 22.9]) \n",
    "type(temps)"
   ]
  },
  {
   "cell_type": "code",
   "execution_count": 3,
   "id": "3de32b73",
   "metadata": {},
   "outputs": [
    {
     "name": "stdout",
     "output_type": "stream",
     "text": [
      "Temperatures: [22.5 23.  21.7 24.1 22.8 23.3 22.9]\n",
      "Mean: 22.900000000000002\n",
      "Median: 22.9\n",
      "Std dev: 0.6782329983125274\n",
      "\n",
      "Color counts: Counter({'blue': 3, 'red': 2, 'green': 1})\n"
     ]
    },
    {
     "data": {
      "image/png": "[encoded data removed]",
      "text/plain": [
       "<Figure size 500x300 with 1 Axes>"
      ]
     },
     "metadata": {},
     "output_type": "display_data"
    },
    {
     "data": {
      "image/png": "[encoded data removed]",
      "text/plain": [
       "<Figure size 500x300 with 1 Axes>"
      ]
     },
     "metadata": {},
     "output_type": "display_data"
    }
   ],
   "source": [
    "# Quantitative data example (numerical)\n",
    "temps = np.array([22.5, 23.0, 21.7, 24.1, 22.8, 23.3, 22.9])  # degrees Celsius\n",
    "\n",
    "print('Temperatures:', temps)\n",
    "print('Mean:', temps.mean())\n",
    "print('Median:', np.median(temps))\n",
    "print('Std dev:', temps.std(ddof=0))\n",
    "\n",
    "# Qualitative data example (categorical)\n",
    "colors = ['blue', 'red', 'blue', 'green', 'red', 'blue']\n",
    "counts = Counter(colors)\n",
    "print('\\nColor counts:', counts)\n",
    "\n",
    "# Bar chart for categorical data\n",
    "labels = list(counts.keys())\n",
    "values = [counts[l] for l in labels]\n",
    "plt.figure(figsize=(5,3))\n",
    "plt.bar(labels, values)\n",
    "plt.title('Example: Color counts')\n",
    "plt.xlabel('Color')\n",
    "plt.ylabel('Count')\n",
    "plt.show()\n",
    "\n",
    "# Histogram for quantitative data\n",
    "plt.figure(figsize=(5,3))\n",
    "plt.hist(temps, bins=5)\n",
    "plt.title('Histogram — Temperatures')\n",
    "plt.xlabel('Temperature (°C)')\n",
    "plt.ylabel('Frequency')\n",
    "plt.show()"
   ]
  },
  {
   "cell_type": "markdown",
   "id": "dc2d5475",
   "metadata": {},
   "source": [
    "## 5. Numerical Variables: Continuous vs Discrete\n",
    "\n",
    "Demonstrate continuous (height) and discrete (student counts) variables."
   ]
  },
  {
   "cell_type": "code",
   "execution_count": 4,
   "id": "cd5de86e",
   "metadata": {},
   "outputs": [
    {
     "name": "stdout",
     "output_type": "stream",
     "text": [
      "Heights (continuous): [170.2 165.  180.5 172.3 169.8 175. ]\n",
      "Can be fractional; mean = 172.13333333333333\n",
      "\n",
      "Students per section (discrete): [30 28 32 29 31]\n",
      "Mean students: 30.0\n"
     ]
    },
    {
     "data": {
      "image/png": "[encoded data removed]",
      "text/plain": [
       "<Figure size 600x300 with 2 Axes>"
      ]
     },
     "metadata": {},
     "output_type": "display_data"
    }
   ],
   "source": [
    "# Continuous variable example: heights (cm)\n",
    "heights = np.array([170.2, 165.0, 180.5, 172.3, 169.8, 175.0])\n",
    "print('Heights (continuous):', heights)\n",
    "print('Can be fractional; mean =', heights.mean())\n",
    "\n",
    "# Discrete variable example: number of students in sections\n",
    "students = np.array([30, 28, 32, 29, 31])\n",
    "print('\\nStudents per section (discrete):', students)\n",
    "print('Mean students:', students.mean())\n",
    "\n",
    "# Plot both\n",
    "plt.figure(figsize=(6,3))\n",
    "plt.subplot(1,2,1)\n",
    "plt.hist(heights, bins=5)\n",
    "plt.title('Heights (continuous)')\n",
    "plt.xlabel('cm')\n",
    "\n",
    "plt.subplot(1,2,2)\n",
    "plt.bar(range(len(students)), students)\n",
    "plt.title('Number of students (discrete)')\n",
    "plt.xlabel('Section index')\n",
    "plt.tight_layout()\n",
    "plt.show()"
   ]
  },
  {
   "cell_type": "markdown",
   "id": "5a91d933",
   "metadata": {},
   "source": [
    "## 6. Categorical Variables: Nominal, Ordinal, Binary\n",
    "\n",
    "Examples and counts."
   ]
  },
  {
   "cell_type": "code",
   "execution_count": 14,
   "id": "d52aae88-9b02-4efe-882f-933a8fe6da2e",
   "metadata": {},
   "outputs": [
    {
     "name": "stdout",
     "output_type": "stream",
     "text": [
      "\n",
      "Satisfaction counts: Counter({'Satisfied': 3, 'Neutral': 1, 'Dissatisfied': 1})\n"
     ]
    }
   ],
   "source": [
    "# Ordinal example: satisfaction levels\n",
    "satisfaction = ['Satisfied', 'Neutral', 'Satisfied', 'Dissatisfied', 'Satisfied']\n",
    "ord_levels = ['Dissatisfied','Neutral','Satisfied']\n",
    "s_counts = Counter(satisfaction)\n",
    "print('\\nSatisfaction counts:', s_counts)"
   ]
  },
  {
   "cell_type": "code",
   "execution_count": null,
   "id": "cc9aa82b-c8d4-4010-9833-1973cdc896b7",
   "metadata": {},
   "outputs": [],
   "source": []
  },
  {
   "cell_type": "code",
   "execution_count": 5,
   "id": "57205268",
   "metadata": {},
   "outputs": [
    {
     "name": "stdout",
     "output_type": "stream",
     "text": [
      "Eye color counts: Counter({'brown': 3, 'blue': 2, 'green': 1})\n",
      "\n",
      "Satisfaction counts: Counter({'Satisfied': 3, 'Neutral': 1, 'Dissatisfied': 1})\n",
      "\n",
      "Pass/Fail counts: Counter({'Pass': 4, 'Fail': 2})\n"
     ]
    },
    {
     "data": {
      "image/png": "[encoded data removed]",
      "text/plain": [
       "<Figure size 700x300 with 2 Axes>"
      ]
     },
     "metadata": {},
     "output_type": "display_data"
    }
   ],
   "source": [
    "# Nominal example: eye colors\n",
    "eye_colors = ['brown', 'blue', 'green', 'brown', 'blue', 'brown']\n",
    "print('Eye color counts:', Counter(eye_colors))\n",
    "\n",
    "# Ordinal example: satisfaction levels\n",
    "satisfaction = ['Satisfied', 'Neutral', 'Satisfied', 'Dissatisfied', 'Satisfied']\n",
    "ord_levels = ['Dissatisfied','Neutral','Satisfied']\n",
    "s_counts = Counter(satisfaction)\n",
    "print('\\nSatisfaction counts:', s_counts)\n",
    "\n",
    "# Binary example: pass/fail\n",
    "results = ['Pass','Pass','Fail','Pass','Pass','Fail']\n",
    "print('\\nPass/Fail counts:', Counter(results))\n",
    "\n",
    "# plot nominal and binary as side-by-side charts\n",
    "plt.figure(figsize=(7,3))\n",
    "plt.subplot(1,2,1)\n",
    "labels = list(Counter(eye_colors).keys())\n",
    "vals = [Counter(eye_colors)[l] for l in labels]\n",
    "plt.bar(labels, vals)\n",
    "plt.title('Eye Colors')\n",
    "\n",
    "plt.subplot(1,2,2)\n",
    "labels2 = list(Counter(results).keys())\n",
    "vals2 = [Counter(results)[l] for l in labels2]\n",
    "plt.bar(labels2, vals2)\n",
    "plt.title('Pass/Fail')\n",
    "plt.tight_layout()\n",
    "plt.show()"
   ]
  },
  {
   "cell_type": "markdown",
   "id": "db8dbba5",
   "metadata": {},
   "source": [
    "## 7. Measures of Central Tendency: Mean, Median, Mode\n",
    "\n",
    "Compute and show examples."
   ]
  },
  {
   "cell_type": "code",
   "execution_count": 16,
   "id": "926ef2ea-5729-418f-abc9-cb31ddb48217",
   "metadata": {},
   "outputs": [
    {
     "name": "stdout",
     "output_type": "stream",
     "text": [
      "3\n"
     ]
    }
   ],
   "source": [
    "data = np.array([2, 3, 3, 5, 8, 10, 11])\n",
    "mean = data.mean()\n",
    "median = np.median(data)\n",
    "mode = Counter(data).most_common(1)[0][0]\n",
    "print(mode)"
   ]
  },
  {
   "cell_type": "code",
   "execution_count": 6,
   "id": "82146b84",
   "metadata": {},
   "outputs": [
    {
     "name": "stdout",
     "output_type": "stream",
     "text": [
      "Data: [ 2  3  3  5  8 10 11]\n",
      "Mean = 6.0\n",
      "Median = 5.0\n",
      "Mode = 3\n"
     ]
    },
    {
     "data": {
      "image/png": "[encoded data removed]",
      "text/plain": [
       "<Figure size 600x300 with 1 Axes>"
      ]
     },
     "metadata": {},
     "output_type": "display_data"
    }
   ],
   "source": [
    "data = np.array([2, 3, 3, 5, 8, 10, 11])\n",
    "mean = data.mean()\n",
    "median = np.median(data)\n",
    "mode = Counter(data).most_common(1)[0][0]\n",
    "\n",
    "print('Data:', data)\n",
    "print('Mean =', mean)\n",
    "print('Median =', median)\n",
    "print('Mode =', mode)\n",
    "\n",
    "# Visual: mark mean, median, mode on histogram\n",
    "plt.figure(figsize=(6,3))\n",
    "plt.hist(data, bins=6)\n",
    "plt.axvline(mean, linestyle='--', label=f'Mean ({mean:.2f})')\n",
    "plt.axvline(median, linestyle=':', label=f'Median ({median})')\n",
    "plt.axvline(mode, linestyle='-.', label=f'Mode ({mode})')\n",
    "plt.legend()\n",
    "plt.title('Mean, Median, Mode')\n",
    "plt.show()"
   ]
  },
  {
   "cell_type": "markdown",
   "id": "84000f03",
   "metadata": {},
   "source": [
    "## 8. Measures of Spread: Range, Variance, Std Dev, IQR\n",
    "\n",
    "Calculate and visualize boxplot and annotated values."
   ]
  },
  {
   "cell_type": "code",
   "execution_count": 7,
   "id": "97a4897c",
   "metadata": {},
   "outputs": [
    {
     "name": "stdout",
     "output_type": "stream",
     "text": [
      "Range = 9\n",
      "Variance = 11.428571428571429\n",
      "Std dev = 3.3806170189140663\n",
      "Q1 = 3.0 Q2(median)= 5.0 Q3 = 9.0 IQR = 6.0\n"
     ]
    },
    {
     "data": {
      "image/png": "[encoded data removed]",
      "text/plain": [
       "<Figure size 400x300 with 1 Axes>"
      ]
     },
     "metadata": {},
     "output_type": "display_data"
    }
   ],
   "source": [
    "data = np.array([2, 3, 3, 5, 8, 10, 11])\n",
    "rng = data.max() - data.min()\n",
    "variance = data.var(ddof=0)\n",
    "std = data.std(ddof=0)\n",
    "q1 = np.percentile(data,25)\n",
    "q2 = np.percentile(data,50)\n",
    "q3 = np.percentile(data,75)\n",
    "iqr = q3 - q1\n",
    "\n",
    "print('Range =', rng)\n",
    "print('Variance =', variance)\n",
    "print('Std dev =', std)\n",
    "print('Q1 =', q1, 'Q2(median)=', q2, 'Q3 =', q3, 'IQR =', iqr)\n",
    "\n",
    "# Boxplot\n",
    "plt.figure(figsize=(4,3))\n",
    "plt.boxplot(data, vert=False)\n",
    "plt.title('Boxplot — shows median and IQR')\n",
    "plt.xlabel('Value')\n",
    "plt.show()"
   ]
  },
  {
   "cell_type": "markdown",
   "id": "0041db78",
   "metadata": {},
   "source": [
    "## 9. Shape of Distribution: Normal, Uniform, Skewed, Bimodal\n",
    "\n",
    "We will generate synthetic samples and plot them to illustrate shapes."
   ]
  },
  {
   "cell_type": "code",
   "execution_count": 8,
   "id": "0ee29867",
   "metadata": {},
   "outputs": [
    {
     "data": {
      "image/png": "[encoded data removed]",
      "text/plain": [
       "<Figure size 1000x800 with 4 Axes>"
      ]
     },
     "metadata": {},
     "output_type": "display_data"
    }
   ],
   "source": [
    "np.random.seed(0)\n",
    "n = 1000\n",
    "\n",
    "normal = np.random.normal(loc=50, scale=5, size=n)\n",
    "uniform = np.random.uniform(low=0, high=100, size=n)\n",
    "right_skew = np.random.exponential(scale=10, size=n)  # positive skew\n",
    "bimodal = np.concatenate([np.random.normal(30,4, size=n//2), np.random.normal(70,4, size=n//2)])\n",
    "\n",
    "datasets = [\n",
    "    ('Normal (Bell)', normal),\n",
    "    ('Uniform', uniform),\n",
    "    ('Right-skewed (Exponential)', right_skew),\n",
    "    ('Bimodal', bimodal)\n",
    "]\n",
    "\n",
    "plt.figure(figsize=(10,8))\n",
    "for i, (title, arr) in enumerate(datasets, 1):\n",
    "    plt.subplot(4,1,i)\n",
    "    plt.hist(arr, bins=30)\n",
    "    plt.title(title)\n",
    "    plt.xlabel('Value')\n",
    "    plt.ylabel('Freq')\n",
    "plt.tight_layout()\n",
    "plt.show()"
   ]
  },
  {
   "cell_type": "markdown",
   "id": "67c4cf2d",
   "metadata": {},
   "source": [
    "## 10. Hands-on: Small dataset analysis (students' example)\n",
    "We'll create a small dataset, compute common statistics and show plots that help students interpret the dataset."
   ]
  },
  {
   "cell_type": "code",
   "execution_count": 9,
   "id": "e448fe64",
   "metadata": {},
   "outputs": [
    {
     "data": {
      "text/html": [
       "<div>\n",
       "<style scoped>\n",
       "    .dataframe tbody tr th:only-of-type {\n",
       "        vertical-align: middle;\n",
       "    }\n",
       "\n",
       "    .dataframe tbody tr th {\n",
       "        vertical-align: top;\n",
       "    }\n",
       "\n",
       "    .dataframe thead th {\n",
       "        text-align: right;\n",
       "    }\n",
       "</style>\n",
       "<table border=\"1\" class=\"dataframe\">\n",
       "  <thead>\n",
       "    <tr style=\"text-align: right;\">\n",
       "      <th></th>\n",
       "      <th>age</th>\n",
       "      <th>score</th>\n",
       "      <th>major</th>\n",
       "    </tr>\n",
       "  </thead>\n",
       "  <tbody>\n",
       "    <tr>\n",
       "      <th>0</th>\n",
       "      <td>19</td>\n",
       "      <td>78</td>\n",
       "      <td>CS</td>\n",
       "    </tr>\n",
       "    <tr>\n",
       "      <th>1</th>\n",
       "      <td>21</td>\n",
       "      <td>85</td>\n",
       "      <td>EE</td>\n",
       "    </tr>\n",
       "    <tr>\n",
       "      <th>2</th>\n",
       "      <td>20</td>\n",
       "      <td>82</td>\n",
       "      <td>CS</td>\n",
       "    </tr>\n",
       "    <tr>\n",
       "      <th>3</th>\n",
       "      <td>22</td>\n",
       "      <td>90</td>\n",
       "      <td>ME</td>\n",
       "    </tr>\n",
       "    <tr>\n",
       "      <th>4</th>\n",
       "      <td>21</td>\n",
       "      <td>88</td>\n",
       "      <td>CS</td>\n",
       "    </tr>\n",
       "    <tr>\n",
       "      <th>5</th>\n",
       "      <td>20</td>\n",
       "      <td>75</td>\n",
       "      <td>EE</td>\n",
       "    </tr>\n",
       "    <tr>\n",
       "      <th>6</th>\n",
       "      <td>23</td>\n",
       "      <td>95</td>\n",
       "      <td>CS</td>\n",
       "    </tr>\n",
       "    <tr>\n",
       "      <th>7</th>\n",
       "      <td>19</td>\n",
       "      <td>68</td>\n",
       "      <td>ME</td>\n",
       "    </tr>\n",
       "    <tr>\n",
       "      <th>8</th>\n",
       "      <td>22</td>\n",
       "      <td>80</td>\n",
       "      <td>CS</td>\n",
       "    </tr>\n",
       "    <tr>\n",
       "      <th>9</th>\n",
       "      <td>21</td>\n",
       "      <td>84</td>\n",
       "      <td>EE</td>\n",
       "    </tr>\n",
       "  </tbody>\n",
       "</table>\n",
       "</div>"
      ],
      "text/plain": [
       "   age  score major\n",
       "0   19     78    CS\n",
       "1   21     85    EE\n",
       "2   20     82    CS\n",
       "3   22     90    ME\n",
       "4   21     88    CS\n",
       "5   20     75    EE\n",
       "6   23     95    CS\n",
       "7   19     68    ME\n",
       "8   22     80    CS\n",
       "9   21     84    EE"
      ]
     },
     "metadata": {},
     "output_type": "display_data"
    },
    {
     "name": "stdout",
     "output_type": "stream",
     "text": [
      "\n",
      "Descriptive statistics (numeric):\n"
     ]
    },
    {
     "data": {
      "text/html": [
       "<div>\n",
       "<style scoped>\n",
       "    .dataframe tbody tr th:only-of-type {\n",
       "        vertical-align: middle;\n",
       "    }\n",
       "\n",
       "    .dataframe tbody tr th {\n",
       "        vertical-align: top;\n",
       "    }\n",
       "\n",
       "    .dataframe thead th {\n",
       "        text-align: right;\n",
       "    }\n",
       "</style>\n",
       "<table border=\"1\" class=\"dataframe\">\n",
       "  <thead>\n",
       "    <tr style=\"text-align: right;\">\n",
       "      <th></th>\n",
       "      <th>age</th>\n",
       "      <th>score</th>\n",
       "    </tr>\n",
       "  </thead>\n",
       "  <tbody>\n",
       "    <tr>\n",
       "      <th>count</th>\n",
       "      <td>10.000000</td>\n",
       "      <td>10.000000</td>\n",
       "    </tr>\n",
       "    <tr>\n",
       "      <th>mean</th>\n",
       "      <td>20.800000</td>\n",
       "      <td>82.500000</td>\n",
       "    </tr>\n",
       "    <tr>\n",
       "      <th>std</th>\n",
       "      <td>1.316561</td>\n",
       "      <td>7.778175</td>\n",
       "    </tr>\n",
       "    <tr>\n",
       "      <th>min</th>\n",
       "      <td>19.000000</td>\n",
       "      <td>68.000000</td>\n",
       "    </tr>\n",
       "    <tr>\n",
       "      <th>25%</th>\n",
       "      <td>20.000000</td>\n",
       "      <td>78.500000</td>\n",
       "    </tr>\n",
       "    <tr>\n",
       "      <th>50%</th>\n",
       "      <td>21.000000</td>\n",
       "      <td>83.000000</td>\n",
       "    </tr>\n",
       "    <tr>\n",
       "      <th>75%</th>\n",
       "      <td>21.750000</td>\n",
       "      <td>87.250000</td>\n",
       "    </tr>\n",
       "    <tr>\n",
       "      <th>max</th>\n",
       "      <td>23.000000</td>\n",
       "      <td>95.000000</td>\n",
       "    </tr>\n",
       "  </tbody>\n",
       "</table>\n",
       "</div>"
      ],
      "text/plain": [
       "             age      score\n",
       "count  10.000000  10.000000\n",
       "mean   20.800000  82.500000\n",
       "std     1.316561   7.778175\n",
       "min    19.000000  68.000000\n",
       "25%    20.000000  78.500000\n",
       "50%    21.000000  83.000000\n",
       "75%    21.750000  87.250000\n",
       "max    23.000000  95.000000"
      ]
     },
     "metadata": {},
     "output_type": "display_data"
    },
    {
     "name": "stdout",
     "output_type": "stream",
     "text": [
      "\n",
      "Mode of major:\n",
      "CS\n"
     ]
    },
    {
     "data": {
      "image/png": "[encoded data removed]",
      "text/plain": [
       "<Figure size 800x300 with 2 Axes>"
      ]
     },
     "metadata": {},
     "output_type": "display_data"
    }
   ],
   "source": [
    "# Create a small DataFrame combining numeric and categorical columns\n",
    "df = pd.DataFrame({\n",
    "    'age': [19, 21, 20, 22, 21, 20, 23, 19, 22, 21],\n",
    "    'score': [78, 85, 82, 90, 88, 75, 95, 68, 80, 84],\n",
    "    'major': ['CS','EE','CS','ME','CS','EE','CS','ME','CS','EE']\n",
    "})\n",
    "display(df)\n",
    "\n",
    "print('\\nDescriptive statistics (numeric):')\n",
    "display(df[['age','score']].describe())\n",
    "\n",
    "print('\\nMode of major:')\n",
    "print(df['major'].mode()[0])\n",
    "\n",
    "# Visuals: score histogram and score by major\n",
    "plt.figure(figsize=(8,3))\n",
    "plt.subplot(1,2,1)\n",
    "plt.hist(df['score'], bins=6)\n",
    "plt.title('Score distribution')\n",
    "plt.xlabel('Score')\n",
    "\n",
    "plt.subplot(1,2,2)\n",
    "groups = df.groupby('major')['score'].mean()\n",
    "plt.bar(groups.index, groups.values)\n",
    "plt.title('Average score by major')\n",
    "plt.ylabel('Average score')\n",
    "plt.tight_layout()\n",
    "plt.show()"
   ]
  },
  {
   "cell_type": "markdown",
   "id": "079189c3",
   "metadata": {},
   "source": [
    "----\n",
    "## Assignments\n",
    "\n",
    "### Assignment 1 (short):\n",
    "1. Load a CSV of your choice (or create one) and identify whether it's structured or unstructured data. Explain why.\n",
    "2. For the structured dataset, compute mean, median, mode, variance, and standard deviation for one numeric column and visualize it using a histogram and boxplot.\n",
    "\n",
    "### Assignment 2 (medium):\n",
    "1. Collect 50 short text messages (or use existing sample text). Use simple token counts to show the most common words (basic NLP). Plot a bar chart of the top 10 words.\n",
    "2. For a dataset with categorical variables, compute contingency table (cross-tab) between two categorical columns and visualize using grouped bar chart.\n",
    "\n",
    "### Assignment 3 (advanced):\n",
    "1. Create a bimodal-looking dataset by mixing two normal distributions. Fit a Gaussian kernel density estimate and show the density plot. Identify the two modes programmatically.\n",
    "2. For a real numeric dataset (e.g., house prices or salaries), compute skewness and explain whether mean or median better represents the 'typical' value.\n",
    "\n",
    "----\n",
    "Good luck! Run each code cell to see results. Modify the example arrays or DataFrames to experiment."
   ]
  },
  {
   "cell_type": "markdown",
   "id": "798604eb",
   "metadata": {},
   "source": [
    "## Extra: Helpful utility functions (optional)\n",
    "Small helper to compute mode(s) and display summary."
   ]
  },
  {
   "cell_type": "code",
   "execution_count": 10,
   "id": "2dba0c0f",
   "metadata": {},
   "outputs": [
    {
     "name": "stdout",
     "output_type": "stream",
     "text": [
      "Modes of [2,3,3,5,8,10,11] => [3]\n"
     ]
    },
    {
     "data": {
      "text/plain": [
       "{'count': 7,\n",
       " 'mean': 6.0,\n",
       " 'median': 5.0,\n",
       " 'std': 3.3806170189140663,\n",
       " 'min': 2.0,\n",
       " 'max': 11.0}"
      ]
     },
     "metadata": {},
     "output_type": "display_data"
    }
   ],
   "source": [
    "def modes(arr):\n",
    "    c = Counter(arr)\n",
    "    top = c.most_common()\n",
    "    max_count = top[0][1]\n",
    "    return [val for val,count in top if count==max_count]\n",
    "\n",
    "print('Modes of [2,3,3,5,8,10,11] =>', modes([2,3,3,5,8,10,11]))\n",
    "\n",
    "def summary_stats(arr):\n",
    "    arr = np.array(arr)\n",
    "    return {\n",
    "        'count': arr.size,\n",
    "        'mean': float(arr.mean()),\n",
    "        'median': float(np.median(arr)),\n",
    "        'std': float(arr.std(ddof=0)),\n",
    "        'min': float(arr.min()),\n",
    "        'max': float(arr.max())\n",
    "    }\n",
    "\n",
    "display(summary_stats([2,3,3,5,8,10,11]))"
   ]
  },
  {
   "cell_type": "markdown",
   "id": "7282899a",
   "metadata": {},
   "source": [
    "### Notes for the instructor\n",
    "\n",
    "- Encourage students to change random seeds, sample sizes, and distributions to see different behaviors.\n",
    "- Ask students to bring a small CSV (e.g., class attendance, sales) and reproduce the descriptive statistics and visualizations."
   ]
  },
  {
   "cell_type": "code",
   "execution_count": null,
   "id": "59757e4b-f607-4fa2-a4de-64380fe915c8",
   "metadata": {},
   "outputs": [],
   "source": []
  }
 ],
 "metadata": {
  "kernelspec": {
   "display_name": "Python 3 (ipykernel)",
   "language": "python",
   "name": "python3"
  },
  "language_info": {
   "codemirror_mode": {
    "name": "ipython",
    "version": 3
   },
   "file_extension": ".py",
   "mimetype": "text/x-python",
   "name": "python",
   "nbconvert_exporter": "python",
   "pygments_lexer": "ipython3",
   "version": "3.12.7"
  },
  "title": "Understanding Data in Computing"
 },
 "nbformat": 4,
 "nbformat_minor": 5
}
