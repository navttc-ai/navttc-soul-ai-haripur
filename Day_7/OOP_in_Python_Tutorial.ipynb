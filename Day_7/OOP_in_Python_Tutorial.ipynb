{
 "cells": [
  {
   "cell_type": "markdown",
   "id": "91b5558c",
   "metadata": {},
   "source": [
    "\n",
    "# Object-Oriented Programming in Python: A Tutorial Notebook\n",
    "\n",
    "This notebook provides a hands-on guide to the concepts of OOP in Python. Each section includes explanations, code examples to run, and questions to consider.\n",
    "\n",
    "---\n",
    "\n",
    "### **Table of Contents**\n",
    "\n",
    "1.  **Hour 1: The Building Blocks**\n",
    "    - Classes and Objects\n",
    "    - Instance Variables and Methods\n",
    "    - Class Variables and Methods\n",
    "    - Constructors and Destructors\n",
    "2.  **Hour 2-3: Building Relationships**\n",
    "    - Inheritance (Single)\n",
    "    - Multilevel & Hierarchical Inheritance\n",
    "    - Multiple Inheritance & Method Resolution Order (MRO)\n",
    "3.  **Hour 4: Encapsulation and Structure**\n",
    "    - Access Specifiers\n",
    "    - Name Mangling\n",
    "    - Inner/Nested Classes\n",
    "    - Object Relationships: Association, Aggregation, Composition\n",
    "4.  **Final Assignment Task & Solution**\n"
   ]
  },
  {
   "cell_type": "markdown",
   "id": "9c1bf4cf",
   "metadata": {},
   "source": [
    "\n",
    "## Hour 1 - Classes and Objects\n",
    "\n",
    "**Concept**: A Class is a blueprint or template (like a cookie cutter). An Object is a specific instance created from that class (an actual cookie).\n",
    "\n",
    "**Question**: Think of a real-world `Car` class. What would be three attributes (variables) and two behaviors (methods) it might have?\n"
   ]
  },
  {
   "cell_type": "code",
   "execution_count": null,
   "id": "b09dd132",
   "metadata": {},
   "outputs": [],
   "source": [
    "\n",
    "# Example: The Class (Blueprint)\n",
    "class Dog:\n",
    "    def __init__(self, name):\n",
    "        self.name = name\n",
    "\n",
    "    def bark(self):\n",
    "        print(f\"{self.name} says Woof!\")\n",
    "\n",
    "# The Objects (Instances)\n",
    "my_dog = Dog(\"Buddy\")\n",
    "my_dog.bark()\n"
   ]
  },
  {
   "cell_type": "markdown",
   "id": "dea23006",
   "metadata": {},
   "source": [
    "\n",
    "## Hour 1 - Instance Variables and Methods\n",
    "\n",
    "**Concept**: Members that belong to a specific object. They define what an object is and what it can do.\n",
    "- **Instance Variables**: Data unique to each object (e.g., student.name).\n",
    "- **Instance Methods**: Functions that operate on an object's data using `self`.\n",
    "\n",
    "**Question**: Why is `self` required as the first parameter for every instance method? What does it represent?\n"
   ]
  },
  {
   "cell_type": "code",
   "execution_count": 1,
   "id": "68952d29",
   "metadata": {},
   "outputs": [
    {
     "name": "stdout",
     "output_type": "stream",
     "text": [
      "ID: FTU001, Name: Alice\n"
     ]
    }
   ],
   "source": [
    "\n",
    "# Example: Student Class\n",
    "class Student:\n",
    "    def __init__(self, name, student_id):\n",
    "        self.name = name          # Instance variable\n",
    "        self.student_id = student_id # Instance variable\n",
    "\n",
    "    def show_details(self): # Instance method\n",
    "        print(f\"ID: {self.student_id}, Name: {self.name}\")\n",
    "\n",
    "s1 = Student(\"Alice\", \"FTU001\")\n",
    "s1.show_details()\n"
   ]
  },
  {
   "cell_type": "code",
   "execution_count": 4,
   "id": "1142a935-32e0-455c-99d7-5d3692f2cddd",
   "metadata": {
    "jp-MarkdownHeadingCollapsed": true
   },
   "outputs": [
    {
     "name": "stdout",
     "output_type": "stream",
     "text": [
      "ID: 002, Name: Ali\n"
     ]
    }
   ],
   "source": [
    "s2 = Student(\"Ali\", \"002\")\n",
    "s2.show_details()"
   ]
  },
  {
   "cell_type": "markdown",
   "id": "738a027d",
   "metadata": {},
   "source": [
    "\n",
    "## Hour 1 - Class Variables and Methods\n",
    "\n",
    "**Concept**: Members that belong to the class itself and are shared by all its objects.\n",
    "- **Class Variables**: Shared data (e.g., company_name).\n",
    "- **Class Methods (@classmethod)**: Actions related to the class as a whole, using `cls`.\n",
    "\n",
    "**Question**: When would you choose to use a class variable instead of an instance variable? Give an example.\n"
   ]
  },
  {
   "cell_type": "code",
   "execution_count": null,
   "id": "3e4d22bb",
   "metadata": {},
   "outputs": [],
   "source": [
    "\n",
    "# Example: Employee Class\n",
    "class Employee:\n",
    "    company_name = \"Innovate Inc.\" # Class variable\n",
    "\n",
    "    def __init__(self, name):\n",
    "        self.name = name # Instance variable\n",
    "\n",
    "    @classmethod\n",
    "    def get_company(cls): # Class method\n",
    "        print(f\"Company: {cls.company_name}\")\n",
    "\n",
    "Employee.get_company()\n"
   ]
  },
  {
   "cell_type": "markdown",
   "id": "4015d925",
   "metadata": {},
   "source": [
    "\n",
    "## Hour 1 - Constructors and Destructors\n",
    "\n",
    "**Concept**: Special methods that manage an object's lifecycle.\n",
    "- **Constructor (__init__)**: Called automatically at object creation. Used for setup and initialization.\n",
    "- **Destructor (__del__)**: Called just before an object is destroyed. Used for cleanup.\n",
    "\n",
    "**Question**: What is the primary purpose of the `__init__` method? Can a class exist without one?\n"
   ]
  },
  {
   "cell_type": "code",
   "execution_count": 6,
   "id": "d45fe449",
   "metadata": {},
   "outputs": [
    {
     "name": "stdout",
     "output_type": "stream",
     "text": [
      "CONSTRUCTOR: Opening 'app.log'...\n",
      "FileHandler object created.\n"
     ]
    }
   ],
   "source": [
    "\n",
    "# Example: FileHandler Class\n",
    "class FileHandler:\n",
    "    def __init__(self, filename):\n",
    "        print(f\"CONSTRUCTOR: Opening '{filename}'...\")\n",
    "        self.file = open(filename, 'w')\n",
    "        self.file.write(\"Log started.\\n\")\n",
    "\n",
    "    def __del__(self):\n",
    "        print(\"DESTRUCTOR: Closing file...\")\n",
    "        self.file.close()\n",
    "\n",
    "log = FileHandler(\"app.log\")\n",
    "# __del__ is called automatically when the program ends or 'log' is deleted.\n",
    "# In a notebook, this might happen at kernel shutdown.\n",
    "print(\"FileHandler object created.\")\n"
   ]
  },
  {
   "cell_type": "markdown",
   "id": "715d8a7a",
   "metadata": {},
   "source": [
    "\n",
    "## Hour 2-3 - Inheritance (Single)\n",
    "\n",
    "**Concept**: A child class inherits attributes and methods from a parent class, creating an \"is-a\" relationship. This is the foundation of code reuse.\n",
    "\n",
    "**Question**: What is the main benefit of using inheritance? Why not just copy the code from the `Vehicle` class into the `Car` class?\n"
   ]
  },
  {
   "cell_type": "code",
   "execution_count": null,
   "id": "cccfbe70",
   "metadata": {},
   "outputs": [],
   "source": [
    "\n",
    "# Example: Vehicle and Car\n",
    "class Vehicle: # Parent\n",
    "    def start_engine(self):\n",
    "        print(\"Engine starting...\")\n",
    "\n",
    "class Car(Vehicle): # Child inherits from Vehicle\n",
    "    def drive(self):\n",
    "        print(\"Driving the car.\")\n",
    "\n",
    "my_car = Car()\n",
    "my_car.start_engine() # Inherited method\n",
    "my_car.drive()      # Own method\n"
   ]
  },
  {
   "cell_type": "markdown",
   "id": "03f27c95",
   "metadata": {},
   "source": [
    "\n",
    "## Hour 2-3 - Multilevel & Hierarchical Inheritance\n",
    "\n",
    "- **Multilevel**: A chain of inheritance (`A` -> `B` -> `C`).\n",
    "- **Hierarchical**: One parent has multiple, independent children (`A` -> `B`, `A` -> `C`).\n",
    "\n",
    "**Question**: Provide a real-world example for both Multilevel and Hierarchical inheritance that is different from the ones shown.\n"
   ]
  },
  {
   "cell_type": "code",
   "execution_count": 8,
   "id": "1b02d223",
   "metadata": {},
   "outputs": [
    {
     "name": "stdout",
     "output_type": "stream",
     "text": [
      "Multilevel: Dog is an Animal, which is an Organism.\n",
      "Hierarchical: Circle and Square are both Shapes.\n"
     ]
    }
   ],
   "source": [
    "\n",
    "# Example: Multilevel\n",
    "class Organism: pass\n",
    "class Animal(Organism): pass\n",
    "class Dog(Animal): pass # Dog inherits from Animal and Organism\n",
    "print(\"Multilevel: Dog is an Animal, which is an Organism.\")\n",
    "\n",
    "# Example: Hierarchical\n",
    "class Shape: pass\n",
    "class Circle(Shape): pass\n",
    "class Square(Shape): pass # Circle and Square are siblings\n",
    "print(\"Hierarchical: Circle and Square are both Shapes.\")\n"
   ]
  },
  {
   "cell_type": "markdown",
   "id": "be39d790",
   "metadata": {},
   "source": [
    "\n",
    "## Hour 2-3 - Multiple Inheritance & MRO\n",
    "\n",
    "**Concept**: A class can inherit from multiple parent classes, combining their functionalities.\n",
    "**MRO (Method Resolution Order)**: The clear, predictable path Python follows to find a method when a class has multiple parents. It prevents ambiguity.\n",
    "\n",
    "**Question**: Why is a defined Method Resolution Order (MRO) essential for making multiple inheritance usable and predictable?\n"
   ]
  },
  {
   "cell_type": "code",
   "execution_count": 16,
   "id": "17b647e9",
   "metadata": {},
   "outputs": [
    {
     "name": "stdout",
     "output_type": "stream",
     "text": [
      "Swimming\n",
      "Flying\n",
      " Flyer's walking\n",
      "Method Resolution Order (MRO):\n",
      "[<class '__main__.Duck'>, <class '__main__.Flyer'>, <class '__main__.Swimmer'>, <class 'object'>]\n"
     ]
    }
   ],
   "source": [
    "\n",
    "# Example: Duck Class\n",
    "class Swimmer:\n",
    "    def swim(self): print(\"Swimming\")\n",
    "    def walk(self): print(\" Swimmer's walking\")\n",
    "\n",
    "class Flyer:\n",
    "    def fly(self): print(\"Flying\")\n",
    "    def walk(self): print(\" Flyer's walking\")\n",
    "\n",
    "class Duck(Flyer,Swimmer): # Multiple Inheritance\n",
    "    pass\n",
    "\n",
    "d = Duck()\n",
    "d.swim()\n",
    "d.fly()\n",
    "d.walk()\n",
    "print(\"Method Resolution Order (MRO):\")\n",
    "print(Duck.mro()) # Shows the search order\n"
   ]
  },
  {
   "cell_type": "markdown",
   "id": "0fe3aa0d",
   "metadata": {},
   "source": [
    "\n",
    "## Hour 4 - Access Specifiers\n",
    "\n",
    "**Concept**: Naming conventions to suggest how members should be accessed.\n",
    "- **Public (`name`)**: Accessible from anywhere. The default.\n",
    "- **Protected (`_name`)**: A convention; tells developers \"for internal use or for subclasses only.\"\n",
    "- **Private (`__name`)**: Enforced by name mangling; for use only within the class.\n",
    "\n",
    "**Question**: Since Python allows you to access protected and private members (with some effort), what is the real purpose of using these conventions?\n"
   ]
  },
  {
   "cell_type": "code",
   "execution_count": 18,
   "id": "8d569fe8",
   "metadata": {},
   "outputs": [
    {
     "name": "stdout",
     "output_type": "stream",
     "text": [
      "Public member: 12345\n",
      "Protected member (discouraged access): John Doe\n"
     ]
    }
   ],
   "source": [
    "\n",
    "# Example: BankAccount Class\n",
    "class BankAccount:\n",
    "    def __init__(self, balance):\n",
    "        self.account_number = \"12345\" # Public\n",
    "        self._holder_name = \"John Doe\" # Protected\n",
    "        self.__balance = balance     # Private\n",
    "\n",
    "acc = BankAccount(5000)\n",
    "print(f\"Public member: {acc.account_number}\")\n",
    "print(f\"Protected member (discouraged access): {acc._holder_name}\")\n",
    "# print(acc.__balance) # This would cause an AttributeError\n"
   ]
  },
  {
   "cell_type": "code",
   "execution_count": 36,
   "id": "17ae9431-6087-4c23-889a-31294f1a9076",
   "metadata": {},
   "outputs": [
    {
     "name": "stdout",
     "output_type": "stream",
     "text": [
      "Public member: 12345\n"
     ]
    },
    {
     "data": {
      "text/plain": [
       "'John Doe'"
      ]
     },
     "execution_count": 36,
     "metadata": {},
     "output_type": "execute_result"
    }
   ],
   "source": [
    "# Example: BankAccount Class\n",
    "class BankAccount:\n",
    "    def __init__(self, balance):\n",
    "        self.account_number = \"12345\" # Public\n",
    "        self._holder_name = \"John Doe\" # Protected\n",
    "        self.__balance = balance     # Private\n",
    "class sub_account(BankAccount): pass\n",
    "acc = BankAccount(5000)\n",
    "print(f\"Public member: {acc.account_number}\")\n",
    "s = sub_account(3000)\n",
    "s._holder_name\n",
    "# print(acc.__balance) # This would cause an AttributeError"
   ]
  },
  {
   "cell_type": "markdown",
   "id": "44688e2a",
   "metadata": {},
   "source": [
    "\n",
    "## Hour 4 - Name Mangling\n",
    "\n",
    "**Concept**: Python's process of renaming a private member from `__variable` to `_ClassName__variable` to prevent accidental overrides in subclasses.\n",
    "\n",
    "**Question**: How does name mangling help avoid bugs when a child class defines an attribute with the same name as a private attribute in its parent?\n"
   ]
  },
  {
   "cell_type": "code",
   "execution_count": null,
   "id": "5f86545c",
   "metadata": {},
   "outputs": [],
   "source": [
    "\n",
    "# Example: Name Mangling\n",
    "class MyClass:\n",
    "    def __init__(self):\n",
    "        self.__secret = \"abc\"\n",
    "\n",
    "obj = MyClass()\n",
    "# print(obj.__secret) # This will cause an AttributeError\n",
    "print(\"Accessing private member via mangled name:\")\n",
    "print(obj._MyClass__secret) # This works\n"
   ]
  },
  {
   "cell_type": "markdown",
   "id": "7def87e6",
   "metadata": {},
   "source": [
    "\n",
    "## Hour 4 - Inner/Nested Classes\n",
    "\n",
    "**Concept**: A class defined entirely inside another class. It's used when one class is logically a component of another.\n",
    "\n",
    "**Question**: Why would you define an `Engine` class inside a `Car` class instead of making it a separate, top-level class?\n"
   ]
  },
  {
   "cell_type": "code",
   "execution_count": 38,
   "id": "db302c22",
   "metadata": {},
   "outputs": [
    {
     "name": "stdout",
     "output_type": "stream",
     "text": [
      "My Mustang has a V8 engine.\n"
     ]
    }
   ],
   "source": [
    "\n",
    "# Example: Car with a nested Engine class\n",
    "class Car:\n",
    "    def __init__(self, model):\n",
    "        self.model = model\n",
    "        self.engine = self.Engine(\"V8\") # Create instance of inner class\n",
    "\n",
    "    class Engine: # Inner Class\n",
    "        def __init__(self, type):\n",
    "            self.type = type\n",
    "\n",
    "my_car = Car(\"Mustang\")\n",
    "print(f\"My {my_car.model} has a {my_car.engine.type} engine.\")\n"
   ]
  },
  {
   "cell_type": "markdown",
   "id": "73ab6fda",
   "metadata": {},
   "source": [
    "\n",
    "## Hour 4 - Object Relationships\n",
    "\n",
    "**Concept**: Describes how objects are connected based on their lifecycles.\n",
    "- **Association (\"uses-a\")**: Independent lifecycles (Doctor, Patient).\n",
    "- **Aggregation (\"has-a\")**: The \"part\" can exist without the \"whole\" (Department, Professors).\n",
    "- **Composition (\"owns-a\")**: The \"part\" is destroyed with the \"whole\" (Person, Heart).\n",
    "\n",
    "**Question**: What is the single most important factor that distinguishes Composition from Aggregation?\n"
   ]
  },
  {
   "cell_type": "code",
   "execution_count": null,
   "id": "b702b58e",
   "metadata": {},
   "outputs": [],
   "source": [
    "\n",
    "# Example Code (Conceptual)\n",
    "\n",
    "# Aggregation: Professor can exist without a Department\n",
    "class Professor:\n",
    "    def __init__(self, name): self.name = name\n",
    "\n",
    "class Department:\n",
    "    def __init__(self, professors_list):\n",
    "        self.professors = professors_list # Stores existing objects\n",
    "\n",
    "prof = Professor(\"Dr. Turing\")\n",
    "dept = Department([prof])\n",
    "print(\"Aggregation: Department has a professor.\")\n",
    "\n",
    "\n",
    "# Composition: The Heart is created inside and tied to the Person\n",
    "class Person:\n",
    "    def __init__(self):\n",
    "        self.heart = self.Heart() # Person creates and owns its Heart\n",
    "    class Heart:\n",
    "        pass\n",
    "\n",
    "p = Person()\n",
    "print(\"Composition: Person has created its own heart.\")\n"
   ]
  },
  {
   "cell_type": "markdown",
   "id": "d52fe63b",
   "metadata": {},
   "source": [
    "\n",
    "## Final Assignment Task: Build a Simple University Management System\n",
    "\n",
    "**Task**:\n",
    "1. **Base Class**: Create a `Person` class with `name` and `age`. Add a class variable `university_name`.\n",
    "2. **Hierarchical Inheritance**: Create `Student` and `Professor` classes inheriting from `Person`.\n",
    "   - `Student` must have a private `__student_id`.\n",
    "   - `Professor` must have a protected `_employee_id`.\n",
    "3. **Composition & Nested Class**: Create a `Department` class. It must be *composed* of an `Office` object. The `Office` class should be nested inside `Department`.\n",
    "4. **Aggregation**: The `Department` \"has-a\" list of professors. Its `__init__` should accept a list of externally created `Professor` objects.\n",
    "5. **Demonstrate**: Write a script that shows all components working together.\n"
   ]
  },
  {
   "cell_type": "markdown",
   "id": "b4806aad",
   "metadata": {},
   "source": [
    "### Assignment Solution"
   ]
  },
  {
   "cell_type": "code",
   "execution_count": null,
   "id": "319ed045",
   "metadata": {},
   "outputs": [],
   "source": [
    "\n",
    "# 1. Base Class with Class Variable\n",
    "class Person:\n",
    "    university_name = \"Python University\"\n",
    "\n",
    "    def __init__(self, name, age):\n",
    "        self.name = name\n",
    "        self.age = age\n",
    "\n",
    "    def show_details(self):\n",
    "        print(f\"Name: {self.name}, Age: {self.age}, University: {self.university_name}\")\n",
    "\n",
    "# 2. Hierarchical Inheritance\n",
    "class Student(Person):\n",
    "    def __init__(self, name, age, student_id):\n",
    "        super().__init__(name, age)\n",
    "        self.__student_id = student_id # Private attribute\n",
    "\n",
    "    def show_details(self): # Overridden method\n",
    "        super().show_details()\n",
    "        print(f\"  Student ID: {self.__student_id}\")\n",
    "\n",
    "class Professor(Person):\n",
    "    def __init__(self, name, age, employee_id):\n",
    "        super().__init__(name, age)\n",
    "        self._employee_id = employee_id # Protected attribute\n",
    "\n",
    "    def show_details(self): # Overridden method\n",
    "        super().show_details()\n",
    "        print(f\"  Employee ID: {self._employee_id}\")\n",
    "\n",
    "\n",
    "# 3. Composition, Nested Class, and Aggregation\n",
    "class Department:\n",
    "    def __init__(self, name, professors_list):\n",
    "        self.name = name\n",
    "        # Aggregation: stores references to external Professor objects\n",
    "        self.professors = professors_list\n",
    "        # Composition: creates and owns its own Office object\n",
    "        self.office = self.Office(\"Room 101\")\n",
    "\n",
    "    # 4. Nested Class\n",
    "    class Office:\n",
    "        def __init__(self, room_number):\n",
    "            self.room_number = room_number\n",
    "\n",
    "    def show_details(self):\n",
    "        print(f\"Department: {self.name}\")\n",
    "        print(f\"  Office Location: {self.office.room_number}\")\n",
    "        print(\"  Professors:\")\n",
    "        for prof in self.professors:\n",
    "            print(f\"    - {prof.name}\")\n",
    "\n",
    "\n",
    "# 5. Demonstrate the system\n",
    "print(\"--- University Management System ---\")\n",
    "\n",
    "# Create external objects for aggregation\n",
    "prof1 = Professor(\"Dr. Turing\", 41, \"EMP001\")\n",
    "prof2 = Professor(\"Dr. Hopper\", 85, \"EMP002\")\n",
    "\n",
    "# Create Department (Aggregation + Composition)\n",
    "cs_department = Department(\"Computer Science\", [prof1, prof2])\n",
    "\n",
    "# Create a Student\n",
    "student1 = Student(\"Ada Lovelace\", 25, \"STU123\")\n",
    "\n",
    "print(\"\\n--- Professor Details ---\")\n",
    "prof1.show_details()\n",
    "\n",
    "print(\"\\n--- Student Details ---\")\n",
    "student1.show_details()\n",
    "\n",
    "print(\"\\n--- Department Details ---\")\n",
    "cs_department.show_details()\n"
   ]
  }
 ],
 "metadata": {
  "kernelspec": {
   "display_name": "Python [conda env:base] *",
   "language": "python",
   "name": "conda-base-py"
  },
  "language_info": {
   "codemirror_mode": {
    "name": "ipython",
    "version": 3
   },
   "file_extension": ".py",
   "mimetype": "text/x-python",
   "name": "python",
   "nbconvert_exporter": "python",
   "pygments_lexer": "ipython3",
   "version": "3.12.7"
  }
 },
 "nbformat": 4,
 "nbformat_minor": 5
}
