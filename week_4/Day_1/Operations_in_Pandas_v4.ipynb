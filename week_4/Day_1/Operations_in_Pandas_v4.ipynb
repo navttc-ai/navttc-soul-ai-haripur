{
 "cells": [
  {
   "cell_type": "markdown",
   "id": "b0368afb",
   "metadata": {},
   "source": [
    "# 📘 Introduction to Pandas for Data Analysis\n",
    "\n",
    "Welcome to your first step into the world of data analysis with Python! This notebook is designed for beginners and will guide you through some of the most powerful features of the Pandas library in a 2-hour session.\n",
    "\n",
    "**Pandas** is a super-useful tool that helps us work with structured data, like tables in a spreadsheet. Think of it as Excel on steroids! 🚀\n",
    "\n",
    "### 🎯 Learning Objectives for Today:\n",
    "\n",
    "By the end of this 2-hour session, you will be able to:\n",
    "1.  **Combine Data**: Learn how to stack and merge different datasets together.\n",
    "2.  **Group & Aggregate**: Summarize your data to find insights using the `GroupBy` mechanic.\n",
    "3.  **Bin Data**: Convert numerical data into categories (e.g., 'Low', 'Medium', 'High').\n",
    "4.  **Visualize Data**: Create simple but powerful plots directly from your data.\n",
    "5.  **Save Your Work**: Export your cleaned and analyzed data to a CSV file.\n",
    "\n",
    "Let's get started! Don't be afraid to experiment and change the code. That's the best way to learn."
   ]
  },
  {
   "cell_type": "markdown",
   "id": "af67effb",
   "metadata": {},
   "source": [
    "## 🛠️ Setup: Importing Pandas & Creating Sample Data\n",
    "\n",
    "First things first, we need to import the `pandas` library. We give it a nickname `pd` to make our code shorter and easier to write. We'll also create the sample datasets we'll use throughout this session, taken directly from our course notes."
   ]
  },
  {
   "cell_type": "code",
   "execution_count": 1,
   "id": "420fe0d6",
   "metadata": {},
   "outputs": [
    {
     "name": "stdout",
     "output_type": "stream",
     "text": [
      "✅ Sample DataFrames created successfully!\n",
      "\n",
      "--- Employees ---\n",
      "   employee_id     name  department_id\n",
      "0          101    Alice              1\n",
      "1          102      Bob              2\n",
      "2          103  Charlie              1\n",
      "3          104    David              3\n",
      "\n",
      "--- Departments ---\n",
      "   department_id department_name\n",
      "0              1              HR\n",
      "1              2     Engineering\n",
      "2              4       Marketing\n",
      "\n",
      "--- Sales Data ---\n",
      "  Region Manager  Sales  Units\n",
      "0   East    John    250     25\n",
      "1   West    Anna    300     30\n",
      "2   East    John    350     35\n",
      "3   West    Anna    400     40\n",
      "4   East    John    200     20\n",
      "5   West    Anna    450     45\n"
     ]
    }
   ],
   "source": [
    "# Import the pandas library\n",
    "import pandas as pd\n",
    "\n",
    "# --- Sample DataFrame 1: For Merging ---\n",
    "employees = pd.DataFrame({\n",
    "    'employee_id': [101, 102, 103, 104],\n",
    "    'name': ['Alice', 'Bob', 'Charlie', 'David'],\n",
    "    'department_id': [1, 2, 1, 3]\n",
    "})\n",
    "\n",
    "departments = pd.DataFrame({\n",
    "    'department_id': [1, 2, 4],\n",
    "    'department_name': ['HR', 'Engineering', 'Marketing']\n",
    "})\n",
    "\n",
    "# --- Sample DataFrame 2: For GroupBy, Plotting, and Binning ---\n",
    "sales_data = pd.DataFrame({\n",
    "    'Region': ['East', 'West', 'East', 'West', 'East', 'West'],\n",
    "    'Manager': ['John', 'Anna', 'John', 'Anna', 'John', 'Anna'],\n",
    "    'Sales': [250, 300, 350, 400, 200, 450],\n",
    "    'Units': [25, 30, 35, 40, 20, 45]\n",
    "})\n",
    "\n",
    "print(\"✅ Sample DataFrames created successfully!\")\n",
    "print(\"\\n--- Employees ---\")\n",
    "print(employees)\n",
    "print(\"\\n--- Departments ---\")\n",
    "print(departments)\n",
    "print(\"\\n--- Sales Data ---\")\n",
    "print(sales_data)"
   ]
  },
  {
   "cell_type": "markdown",
   "id": "bce97e6b",
   "metadata": {},
   "source": [
    "--- \n",
    "## Topic 1: Combining Data with `pd.concat()`\n",
    "\n",
    "📄 **Explanation**\n",
    "\n",
    "Sometimes, your data is split into multiple files. `pd.concat()` is like stacking sheets of paper on top of each other. It lets you combine DataFrames either vertically (stacking rows, `axis=0`) or horizontally (placing columns side-by-side, `axis=1`).\n",
    "\n",
    "Most often, you'll use it to append rows from one DataFrame to another."
   ]
  },
  {
   "cell_type": "code",
   "execution_count": null,
   "id": "f2bf0912-9300-43c1-84a6-1ed0c98ada06",
   "metadata": {},
   "outputs": [],
   "source": []
  },
  {
   "cell_type": "code",
   "execution_count": 5,
   "id": "efc6cc9e-0fea-4754-89cd-f5ac557a7f77",
   "metadata": {},
   "outputs": [
    {
     "data": {
      "text/html": [
       "<div>\n",
       "<style scoped>\n",
       "    .dataframe tbody tr th:only-of-type {\n",
       "        vertical-align: middle;\n",
       "    }\n",
       "\n",
       "    .dataframe tbody tr th {\n",
       "        vertical-align: top;\n",
       "    }\n",
       "\n",
       "    .dataframe thead th {\n",
       "        text-align: right;\n",
       "    }\n",
       "</style>\n",
       "<table border=\"1\" class=\"dataframe\">\n",
       "  <thead>\n",
       "    <tr style=\"text-align: right;\">\n",
       "      <th></th>\n",
       "      <th>name</th>\n",
       "      <th>grade</th>\n",
       "    </tr>\n",
       "  </thead>\n",
       "  <tbody>\n",
       "    <tr>\n",
       "      <th>0</th>\n",
       "      <td>Alice</td>\n",
       "      <td>85</td>\n",
       "    </tr>\n",
       "    <tr>\n",
       "      <th>1</th>\n",
       "      <td>Bob</td>\n",
       "      <td>90</td>\n",
       "    </tr>\n",
       "  </tbody>\n",
       "</table>\n",
       "</div>"
      ],
      "text/plain": [
       "    name  grade\n",
       "0  Alice     85\n",
       "1    Bob     90"
      ]
     },
     "execution_count": 5,
     "metadata": {},
     "output_type": "execute_result"
    }
   ],
   "source": [
    "# Example: Stacking two small DataFrames vertically\n",
    "\n",
    "# DataFrame with the first set of students\n",
    "df1 = pd.DataFrame({'name': ['Alice', 'Bob'], 'grade': [85, 90]})\n",
    "df1"
   ]
  },
  {
   "cell_type": "code",
   "execution_count": 7,
   "id": "3b6d30f2-9126-4d29-835d-86ac3d308362",
   "metadata": {},
   "outputs": [
    {
     "data": {
      "text/html": [
       "<div>\n",
       "<style scoped>\n",
       "    .dataframe tbody tr th:only-of-type {\n",
       "        vertical-align: middle;\n",
       "    }\n",
       "\n",
       "    .dataframe tbody tr th {\n",
       "        vertical-align: top;\n",
       "    }\n",
       "\n",
       "    .dataframe thead th {\n",
       "        text-align: right;\n",
       "    }\n",
       "</style>\n",
       "<table border=\"1\" class=\"dataframe\">\n",
       "  <thead>\n",
       "    <tr style=\"text-align: right;\">\n",
       "      <th></th>\n",
       "      <th>name</th>\n",
       "      <th>grade</th>\n",
       "    </tr>\n",
       "  </thead>\n",
       "  <tbody>\n",
       "    <tr>\n",
       "      <th>0</th>\n",
       "      <td>Charlie</td>\n",
       "      <td>88</td>\n",
       "    </tr>\n",
       "    <tr>\n",
       "      <th>1</th>\n",
       "      <td>David</td>\n",
       "      <td>92</td>\n",
       "    </tr>\n",
       "  </tbody>\n",
       "</table>\n",
       "</div>"
      ],
      "text/plain": [
       "      name  grade\n",
       "0  Charlie     88\n",
       "1    David     92"
      ]
     },
     "execution_count": 7,
     "metadata": {},
     "output_type": "execute_result"
    }
   ],
   "source": [
    "# DataFrame with more students\n",
    "df2 = pd.DataFrame({'name': ['Charlie', 'David'], 'grade': [88, 92]})\n",
    "df2"
   ]
  },
  {
   "cell_type": "code",
   "execution_count": 8,
   "id": "155ea37f-1ab6-4a8d-b3e1-ac57aa84f27e",
   "metadata": {},
   "outputs": [
    {
     "name": "stdout",
     "output_type": "stream",
     "text": [
      "--- Combined DataFrame ---\n",
      "      name  grade\n",
      "0    Alice     85\n",
      "1      Bob     90\n",
      "2  Charlie     88\n",
      "3    David     92\n"
     ]
    }
   ],
   "source": [
    "# Let's concatenate them!\n",
    "all_students = pd.concat([df1, df2], ignore_index=True) # ignore_index resets the row numbers\n",
    "print(\"--- Combined DataFrame ---\")\n",
    "print(all_students)"
   ]
  },
  {
   "cell_type": "code",
   "execution_count": null,
   "id": "d797168c",
   "metadata": {},
   "outputs": [],
   "source": [
    "\n",
    "\n",
    "\n",
    "\n",
    "\n",
    "\n"
   ]
  },
  {
   "cell_type": "code",
   "execution_count": null,
   "id": "d5760a61-3c55-41d4-9341-652dbd0d5c3a",
   "metadata": {},
   "outputs": [],
   "source": []
  },
  {
   "cell_type": "markdown",
   "id": "c54ddd1e",
   "metadata": {},
   "source": [
    "### 🧠 Practice Task: Your Turn to Concatenate!\n",
    "\n",
    "Create two new DataFrames:\n",
    "1.  `inventory_A` with columns `product` and `quantity` for 'apples' and 'oranges'.\n",
    "2.  `inventory_B` with columns `product` and `quantity` for 'bananas' and 'grapes'.\n",
    "\n",
    "Combine them into a single DataFrame called `full_inventory`."
   ]
  },
  {
   "cell_type": "code",
   "execution_count": null,
   "id": "d6bc00f5",
   "metadata": {},
   "outputs": [],
   "source": [
    "# Your code here!\n",
    "inventory_A = pd.DataFrame({'product': ['apples', 'oranges'], 'quantity': [50, 75]})\n",
    "inventory_B = pd.DataFrame({'product': ['bananas', 'grapes'], 'quantity': [100, 60]})\n",
    "\n",
    "# Concatenate them into a new DataFrame called full_inventory\n",
    "# full_inventory = ...\n",
    "\n",
    "# Print your result\n",
    "# print(full_inventory)\n"
   ]
  },
  {
   "cell_type": "markdown",
   "id": "36498e9f",
   "metadata": {},
   "source": [
    "--- \n",
    "## Topic 2: Smart Combining with `pd.merge()`\n",
    "\n",
    "📄 **Explanation**\n",
    "\n",
    "`pd.merge()` is more intelligent than `concat`. It combines DataFrames based on a common column, similar to a VLOOKUP in Excel or a JOIN in SQL. This is essential when you want to enrich one dataset with information from another.\n",
    "\n",
    "We use the `on` parameter to tell Pandas which column to use as the key, and the `how` parameter to decide what to do with non-matching rows. A `left` join keeps everything from the left DataFrame and only adds matching data from the right."
   ]
  },
  {
   "cell_type": "code",
   "execution_count": 15,
   "id": "5e3f96e9",
   "metadata": {},
   "outputs": [
    {
     "name": "stdout",
     "output_type": "stream",
     "text": [
      "--- Merged DataFrame (Left Join) ---\n",
      "   employee_id     name  department_id department_name\n",
      "0          101    Alice              1              HR\n",
      "1          102      Bob              2     Engineering\n",
      "2          103  Charlie              1              HR\n",
      "3          104    David              3             NaN\n"
     ]
    }
   ],
   "source": [
    "# Example: Let's find the department name for each employee\n",
    "\n",
    "# We will merge 'employees' (left) with 'departments' (right)\n",
    "# The common column is 'department_id'\n",
    "employee_depts = pd.merge(employees, departments, on='department_id', how='left')\n",
    "\n",
    "print(\"--- Merged DataFrame (Left Join) ---\")\n",
    "print(employee_depts)\n",
    "\n",
    "# 💡 Notice David? His department_id (3) isn't in the departments table, \n",
    "# so his department_name is 'NaN' (Not a Number), which means 'missing'."
   ]
  },
  {
   "cell_type": "markdown",
   "id": "bbfe6903",
   "metadata": {},
   "source": [
    "### 🧠 Practice Task: The Inner Join\n",
    "\n",
    "An `inner` join only keeps rows that have a match in **both** DataFrames.\n",
    "\n",
    "Copy the code from the example above, but change `how='left'` to `how='inner'`. What happens to David in the output? Why?"
   ]
  },
  {
   "cell_type": "code",
   "execution_count": null,
   "id": "3060c184",
   "metadata": {},
   "outputs": [],
   "source": [
    "# Your code here!\n",
    "# employee_depts_inner = pd.merge( ... )\n",
    "\n",
    "# print(employee_depts_inner)\n",
    "\n",
    "# Write your answer in a comment: \n",
    "# David disappears because... \n"
   ]
  },
  {
   "cell_type": "markdown",
   "id": "18e5b0a7",
   "metadata": {},
   "source": [
    "--- \n",
    "## Topic 3: Summarizing Data with `groupby()`\n",
    "\n",
    "📄 **Explanation**\n",
    "\n",
    "This is one of the most powerful features in Pandas! It follows a simple **Split-Apply-Combine** strategy:\n",
    "1.  **Split**: It splits your data into groups based on a category (e.g., all sales for the 'East' region).\n",
    "2.  **Apply**: It applies a function to each group (e.g., calculate the `sum()` or `mean()` of sales for that group).\n",
    "3.  **Combine**: It combines the results into a new DataFrame.\n",
    "\n",
    "This is perfect for answering questions like \"What are the total sales per region?\" or \"What is the average number of units sold by each manager?\""
   ]
  },
  {
   "cell_type": "code",
   "execution_count": 16,
   "id": "012977cc-e128-4daf-95c5-26d6434f6a7a",
   "metadata": {},
   "outputs": [
    {
     "data": {
      "text/html": [
       "<div>\n",
       "<style scoped>\n",
       "    .dataframe tbody tr th:only-of-type {\n",
       "        vertical-align: middle;\n",
       "    }\n",
       "\n",
       "    .dataframe tbody tr th {\n",
       "        vertical-align: top;\n",
       "    }\n",
       "\n",
       "    .dataframe thead th {\n",
       "        text-align: right;\n",
       "    }\n",
       "</style>\n",
       "<table border=\"1\" class=\"dataframe\">\n",
       "  <thead>\n",
       "    <tr style=\"text-align: right;\">\n",
       "      <th></th>\n",
       "      <th>Region</th>\n",
       "      <th>Manager</th>\n",
       "      <th>Sales</th>\n",
       "      <th>Units</th>\n",
       "    </tr>\n",
       "  </thead>\n",
       "  <tbody>\n",
       "    <tr>\n",
       "      <th>0</th>\n",
       "      <td>East</td>\n",
       "      <td>John</td>\n",
       "      <td>250</td>\n",
       "      <td>25</td>\n",
       "    </tr>\n",
       "    <tr>\n",
       "      <th>1</th>\n",
       "      <td>West</td>\n",
       "      <td>Anna</td>\n",
       "      <td>300</td>\n",
       "      <td>30</td>\n",
       "    </tr>\n",
       "    <tr>\n",
       "      <th>2</th>\n",
       "      <td>East</td>\n",
       "      <td>John</td>\n",
       "      <td>350</td>\n",
       "      <td>35</td>\n",
       "    </tr>\n",
       "    <tr>\n",
       "      <th>3</th>\n",
       "      <td>West</td>\n",
       "      <td>Anna</td>\n",
       "      <td>400</td>\n",
       "      <td>40</td>\n",
       "    </tr>\n",
       "    <tr>\n",
       "      <th>4</th>\n",
       "      <td>East</td>\n",
       "      <td>John</td>\n",
       "      <td>200</td>\n",
       "      <td>20</td>\n",
       "    </tr>\n",
       "    <tr>\n",
       "      <th>5</th>\n",
       "      <td>West</td>\n",
       "      <td>Anna</td>\n",
       "      <td>450</td>\n",
       "      <td>45</td>\n",
       "    </tr>\n",
       "  </tbody>\n",
       "</table>\n",
       "</div>"
      ],
      "text/plain": [
       "  Region Manager  Sales  Units\n",
       "0   East    John    250     25\n",
       "1   West    Anna    300     30\n",
       "2   East    John    350     35\n",
       "3   West    Anna    400     40\n",
       "4   East    John    200     20\n",
       "5   West    Anna    450     45"
      ]
     },
     "execution_count": 16,
     "metadata": {},
     "output_type": "execute_result"
    }
   ],
   "source": [
    "sales_data"
   ]
  },
  {
   "cell_type": "code",
   "execution_count": 17,
   "id": "d257e749",
   "metadata": {},
   "outputs": [
    {
     "name": "stdout",
     "output_type": "stream",
     "text": [
      "--- Total Sales by Region ---\n",
      "Region\n",
      "East     800\n",
      "West    1150\n",
      "Name: Sales, dtype: int64\n"
     ]
    }
   ],
   "source": [
    "# Example 1: Calculate the total sales for each Region\n",
    "\n",
    "# 1. Split by 'Region', 2. Select the 'Sales' column, 3. Apply sum()\n",
    "region_sales = sales_data.groupby('Region')['Sales'].sum()\n",
    "\n",
    "print(\"--- Total Sales by Region ---\")\n",
    "print(region_sales)"
   ]
  },
  {
   "cell_type": "code",
   "execution_count": 18,
   "id": "c64d82a1",
   "metadata": {},
   "outputs": [
    {
     "name": "stdout",
     "output_type": "stream",
     "text": [
      "--- Detailed Summary by Region and Manager ---\n",
      "                Total_Sales  Average_Units\n",
      "Region Manager                            \n",
      "East   John             800      26.666667\n",
      "West   Anna            1150      38.333333\n"
     ]
    }
   ],
   "source": [
    "# Example 2: Group by multiple columns and apply multiple functions!\n",
    "\n",
    "# Get the total Sales and average Units for each Manager in each Region\n",
    "detailed_summary = sales_data.groupby(['Region', 'Manager']).agg(\n",
    "    Total_Sales=('Sales', 'sum'),\n",
    "    Average_Units=('Units', 'mean')\n",
    ")\n",
    "\n",
    "print(\"--- Detailed Summary by Region and Manager ---\")\n",
    "print(detailed_summary)"
   ]
  },
  {
   "cell_type": "markdown",
   "id": "68f8be67",
   "metadata": {},
   "source": [
    "### 🧠 Practice Task: Manager Performance\n",
    "\n",
    "Using the `sales_data` DataFrame, find the **average sales** for each `Manager`. "
   ]
  },
  {
   "cell_type": "code",
   "execution_count": 21,
   "id": "b0ed1eb8",
   "metadata": {},
   "outputs": [],
   "source": [
    "# Your code here!\n",
    "# Calculate the average sales per manager\n",
    "# manager_avg_sales = ...\n",
    "\n",
    "# Print the result\n",
    "# print(manager_avg_sales)\n"
   ]
  },
  {
   "cell_type": "markdown",
   "id": "8d27b244",
   "metadata": {},
   "source": [
    "--- \n",
    "## Topic 4: Discretization and Binning with `pd.cut()`\n",
    "\n",
    "📄 **Explanation**\n",
    "\n",
    "Binning is a way to turn continuous numbers (like age or sales figures) into categories. The `pd.cut()` function lets us define the 'bins' or ranges.\n",
    "\n",
    "This is super useful for feature engineering in AI or just making data easier to understand. For example, instead of looking at exact sales numbers, we can group them into 'Low', 'Medium', and 'High' performance categories."
   ]
  },
  {
   "cell_type": "code",
   "execution_count": 22,
   "id": "183666c8",
   "metadata": {},
   "outputs": [
    {
     "name": "stdout",
     "output_type": "stream",
     "text": [
      "--- DataFrame with Binned Sales ---\n",
      "  Region Manager  Sales  Units Sales_Bin\n",
      "0   East    John    250     25       Low\n",
      "1   West    Anna    300     30    Medium\n",
      "2   East    John    350     35    Medium\n",
      "3   West    Anna    400     40    Medium\n",
      "4   East    John    200     20       Low\n",
      "5   West    Anna    450     45      High\n"
     ]
    }
   ],
   "source": [
    "# Example: Create sales categories based on the 'Sales' column\n",
    "\n",
    "# 1. Define the edges of our bins\n",
    "bins = [0, 250, 400, 500]\n",
    "\n",
    "# 2. Define the names for each bin\n",
    "labels = ['Low', 'Medium', 'High']\n",
    "\n",
    "# 3. Create the new 'Sales_Bin' column\n",
    "sales_data['Sales_Bin'] = pd.cut(sales_data['Sales'], bins=bins, labels=labels, include_lowest=True)\n",
    "\n",
    "print(\"--- DataFrame with Binned Sales ---\")\n",
    "print(sales_data)\n",
    "\n",
    "# 🧪 Try changing the bin numbers or labels and see what happens!"
   ]
  },
  {
   "cell_type": "markdown",
   "id": "09c520dd",
   "metadata": {},
   "source": [
    "### 🧠 Practice Task: Categorize Units\n",
    "\n",
    "Create a new column in `sales_data` called `Unit_Size`. Use `pd.cut` to categorize the `Units` column into two groups: 'Small' (0-30 units) and 'Large' (31-50 units)."
   ]
  },
  {
   "cell_type": "code",
   "execution_count": 29,
   "id": "5ea5e5d5",
   "metadata": {},
   "outputs": [],
   "source": [
    "# Your code here!\n",
    "# unit_bins = [...]\n",
    "# unit_labels = [...]\n",
    "\n",
    "# sales_data['Unit_Size'] = ...\n",
    "\n",
    "# print(sales_data[['Units', 'Unit_Size']])\n"
   ]
  },
  {
   "cell_type": "code",
   "execution_count": 31,
   "id": "ed1625bc-be04-4554-8886-dfc780ab9235",
   "metadata": {},
   "outputs": [
    {
     "data": {
      "text/plain": [
       "0    Q1\n",
       "1    Q2\n",
       "2    Q2\n",
       "3    Q3\n",
       "4    Q1\n",
       "5    Q3\n",
       "Name: Units, dtype: category\n",
       "Categories (3, object): ['Q1' < 'Q2' < 'Q3']"
      ]
     },
     "execution_count": 31,
     "metadata": {},
     "output_type": "execute_result"
    }
   ],
   "source": [
    "# pd.qcut determines the cut-off points (quantiles)\n",
    "pd.qcut(sales_data['Units'], q=3, labels=['Q1', 'Q2', 'Q3'])"
   ]
  },
  {
   "cell_type": "markdown",
   "id": "191ff42b",
   "metadata": {},
   "source": [
    "--- \n",
    "## Topic 5: Basic Plotting with `.plot()`\n",
    "\n",
    "📄 **Explanation**\n",
    "\n",
    "A picture is worth a thousand words! Pandas has a built-in `.plot()` method that makes it incredibly easy to create simple visualizations of your data. It's a great way to quickly see patterns and trends.\n",
    "\n",
    "You can specify the type of plot you want using the `kind` parameter (e.g., `kind='bar'`, `kind='line'`, `kind='hist'`, `kind='scatter'`)."
   ]
  },
  {
   "cell_type": "code",
   "execution_count": 36,
   "id": "ea582d6d",
   "metadata": {
    "scrolled": true
   },
   "outputs": [
    {
     "name": "stdout",
     "output_type": "stream",
     "text": [
      "--- Data to be plotted ---\n",
      "Region\n",
      "East     800\n",
      "West    1150\n",
      "Name: Sales, dtype: int64\n"
     ]
    },
    {
     "data": {
      "text/plain": [
       "<Axes: title={'center': 'Total Sales by Region'}, xlabel='Region', ylabel='Total Sales'>"
      ]
     },
     "execution_count": 36,
     "metadata": {},
     "output_type": "execute_result"
    },
    {
     "data": {
      "image/png": "[encoded data removed]",
      "text/plain": [
       "<Figure size 640x480 with 1 Axes>"
      ]
     },
     "metadata": {},
     "output_type": "display_data"
    }
   ],
   "source": [
    "# Example: Create a bar plot of total sales by region\n",
    "\n",
    "# First, let's get the data we want to plot (we already calculated this!)\n",
    "region_sales = sales_data.groupby('Region')['Sales'].sum()\n",
    "\n",
    "print(\"--- Data to be plotted ---\")\n",
    "print(region_sales)\n",
    "\n",
    "# Now, let's plot it!\n",
    "region_sales.plot(kind='line', title='Total Sales by Region', ylabel='Total Sales')\n",
    "\n",
    "# In Jupyter, the plot appears automatically below the cell. Magic! ✨"
   ]
  },
  {
   "cell_type": "code",
   "execution_count": null,
   "id": "1c85d311-3ef6-4ff1-bbb3-304e31f3eeed",
   "metadata": {},
   "outputs": [],
   "source": [
    "# ASSIGNMENT 2: Line Plot - Total Units per Manager\n",
    "\n",
    "# First, let's get the data we want to plot (total units per manager)\n",
    "# manager_total_units = sales_data.groupby('Manager')['Units']....\n",
    "\n",
    "print(\"--- Data to be plotted (Total Units) ---\")\n",
    "# print(manager_total_units)\n",
    "\n",
    "# Now, plot the results as a Line Plot!\n",
    "# ... .plot(kind='line', title='Total Units Sold by Manager', ylabel='Total Units')\n",
    "\n",
    "# In Jupyter, the plot appears automatically below the cell."
   ]
  },
  {
   "cell_type": "code",
   "execution_count": 38,
   "id": "2efd46c9-649e-4d5c-86cd-dd8f5ec57219",
   "metadata": {
    "scrolled": true
   },
   "outputs": [
    {
     "name": "stdout",
     "output_type": "stream",
     "text": [
      "--- Data to be plotted (Series) ---\n",
      "Region\n",
      "East     800\n",
      "West    1150\n",
      "Name: Sales, dtype: int64\n"
     ]
    },
    {
     "data": {
      "text/plain": [
       "<Axes: title={'center': 'Bar Plot: Total Sales by Region'}, xlabel='Region', ylabel='Total Sales'>"
      ]
     },
     "execution_count": 38,
     "metadata": {},
     "output_type": "execute_result"
    },
    {
     "data": {
      "image/png": "[encoded data removed]",
      "text/plain": [
       "<Figure size 640x480 with 1 Axes>"
      ]
     },
     "metadata": {},
     "output_type": "display_data"
    }
   ],
   "source": [
    "# Example: Create a bar plot of total sales by region\n",
    "\n",
    "# First, let's get the data we want to plot\n",
    "region_sales = sales_data.groupby('Region')['Sales'].sum()\n",
    "\n",
    "print(\"--- Data to be plotted (Series) ---\")\n",
    "print(region_sales)\n",
    "\n",
    "# Now, let's plot it using the Series .plot() method!\n",
    "region_sales.plot(kind='bar', title='Bar Plot: Total Sales by Region', ylabel='Total Sales', rot=0)\n",
    "\n",
    "# In Jupyter, the plot appears automatically below the cell. Magic! ✨"
   ]
  },
  {
   "cell_type": "code",
   "execution_count": null,
   "id": "8794027d-71de-459c-a9f0-a54bae6a8fee",
   "metadata": {},
   "outputs": [],
   "source": [
    "# ASSIGNMENT 1: Bar Plot - Average Sales per Manager\n",
    "\n",
    "# First, let's get the data we want to plot (average sales per manager)\n",
    "# manager_avg_sales = ...\n",
    "\n",
    "print(\"--- Data to be plotted (Average Sales) ---\")\n",
    "# print(manager_avg_sales)\n",
    "\n",
    "# Now, plot the results as a Bar Plot!\n",
    "# ... .plot(kind='bar', title='Average Sales per Manager', ylabel='Average Sales', rot=0)\n",
    "\n",
    "# In Jupyter, the plot appears automatically below the cell."
   ]
  },
  {
   "cell_type": "code",
   "execution_count": 39,
   "id": "78a4b33c-0e11-4d04-b6d8-3520adeb5ce6",
   "metadata": {
    "scrolled": true
   },
   "outputs": [
    {
     "name": "stdout",
     "output_type": "stream",
     "text": [
      "--- Data to be plotted (Series) ---\n",
      "Region\n",
      "East     800\n",
      "West    1150\n",
      "Name: Sales, dtype: int64\n"
     ]
    },
    {
     "data": {
      "text/plain": [
       "<Axes: title={'center': 'Area Plot: Total Sales by Region'}, xlabel='Region', ylabel='Total Sales'>"
      ]
     },
     "execution_count": 39,
     "metadata": {},
     "output_type": "execute_result"
    },
    {
     "data": {
      "image/png": "[encoded data removed]",
      "text/plain": [
       "<Figure size 640x480 with 1 Axes>"
      ]
     },
     "metadata": {},
     "output_type": "display_data"
    }
   ],
   "source": [
    "# Example: Create an area plot of total sales by region\n",
    "\n",
    "# First, let's get the data we want to plot\n",
    "region_sales = sales_data.groupby('Region')['Sales'].sum()\n",
    "\n",
    "print(\"--- Data to be plotted (Series) ---\")\n",
    "print(region_sales)\n",
    "\n",
    "# Now, let's plot it!\n",
    "region_sales.plot(kind='area', title='Area Plot: Total Sales by Region', ylabel='Total Sales')\n",
    "\n",
    "# In Jupyter, the plot appears automatically below the cell. Magic! ✨"
   ]
  },
  {
   "cell_type": "code",
   "execution_count": 46,
   "id": "bc48a5c9-5721-4191-83ad-55bb79750e0a",
   "metadata": {},
   "outputs": [
    {
     "name": "stdout",
     "output_type": "stream",
     "text": [
      "--- Data to be plotted (Total Sales) ---\n"
     ]
    }
   ],
   "source": [
    "# ASSIGNMENT 3: Area Plot - Total Sales per Manager\n",
    "\n",
    "# First, let's get the data we want to plot (total sales per manager)\n",
    "# manager_total_sales = sales_data.groupby('Manager')['Sales']....\n",
    "\n",
    "print(\"--- Data to be plotted (Total Sales) ---\")\n",
    "# print(manager_total_sales)\n",
    "\n",
    "# Now, plot the results as an Area Plot!\n",
    "# ... .plot(kind='area', title='Total Sales by Manager (Area)', ylabel='Total Sales')\n",
    "\n",
    "# In Jupyter, the plot appears automatically below the cell."
   ]
  },
  {
   "cell_type": "code",
   "execution_count": 40,
   "id": "7683d97f-4d66-46aa-a002-ceadbf9a6219",
   "metadata": {
    "scrolled": true
   },
   "outputs": [
    {
     "name": "stdout",
     "output_type": "stream",
     "text": [
      "--- Data to be plotted (Series) ---\n",
      "Region\n",
      "East     800\n",
      "West    1150\n",
      "Name: Sales, dtype: int64\n"
     ]
    },
    {
     "data": {
      "text/plain": [
       "<Axes: title={'center': 'Pie Plot: Sales Distribution by Region'}>"
      ]
     },
     "execution_count": 40,
     "metadata": {},
     "output_type": "execute_result"
    },
    {
     "data": {
      "image/png": "[encoded data removed]",
      "text/plain": [
       "<Figure size 640x480 with 1 Axes>"
      ]
     },
     "metadata": {},
     "output_type": "display_data"
    }
   ],
   "source": [
    "# Example: Create a pie plot of total sales by region\n",
    "\n",
    "# First, let's get the data we want to plot\n",
    "region_sales = sales_data.groupby('Region')['Sales'].sum()\n",
    "\n",
    "print(\"--- Data to be plotted (Series) ---\")\n",
    "print(region_sales)\n",
    "\n",
    "# Now, let's plot it!\n",
    "# The `ylabel=''` removes the Series name from the plot center for a cleaner look.\n",
    "region_sales.plot(kind='pie', legend=False, autopct='%1.1f%%', title='Pie Plot: Sales Distribution by Region', ylabel='')\n",
    "\n",
    "# In Jupyter, the plot appears automatically below the cell. Magic! ✨"
   ]
  },
  {
   "cell_type": "code",
   "execution_count": null,
   "id": "5531edcf-d5b2-435a-862f-aaec890237c1",
   "metadata": {},
   "outputs": [],
   "source": [
    "# ASSIGNMENT 4: Pie Plot - Sales Contribution by Manager\n",
    "\n",
    "# First, let's get the data we want to plot (total sales per manager)\n",
    "# manager_sales_sum = sales_data.groupby('Manager')['Sales']....\n",
    "\n",
    "print(\"--- Data to be plotted (Total Sales Sum) ---\")\n",
    "# print(manager_sales_sum)\n",
    "\n",
    "# Now, plot the results as a Pie Plot!\n",
    "# ... .plot(kind='pie', autopct='%1.0f%%', title='Sales Contribution by Manager', ylabel='')\n",
    "\n",
    "# In Jupyter, the plot appears automatically below the cell."
   ]
  },
  {
   "cell_type": "code",
   "execution_count": 41,
   "id": "80a9a9a5-92c9-4074-a4d1-9c55e46194bb",
   "metadata": {
    "scrolled": true
   },
   "outputs": [
    {
     "name": "stdout",
     "output_type": "stream",
     "text": [
      "--- Data to be plotted (Column Series) ---\n",
      "0    250\n",
      "1    300\n",
      "2    350\n",
      "3    400\n",
      "4    200\n",
      "5    450\n",
      "Name: Sales, dtype: int64\n"
     ]
    },
    {
     "data": {
      "text/plain": [
       "<Axes: title={'center': 'Histogram: Sales Frequency'}, ylabel='Frequency'>"
      ]
     },
     "execution_count": 41,
     "metadata": {},
     "output_type": "execute_result"
    },
    {
     "data": {
      "image/png": "[encoded data removed]",
      "text/plain": [
       "<Figure size 640x480 with 1 Axes>"
      ]
     },
     "metadata": {},
     "output_type": "display_data"
    }
   ],
   "source": [
    "# Example: Create a histogram of the Sales figures\n",
    "\n",
    "# The data is the 'Sales' column directly from the DataFrame\n",
    "sales_column = sales_data['Sales']\n",
    "\n",
    "print(\"--- Data to be plotted (Column Series) ---\")\n",
    "print(sales_column)\n",
    "\n",
    "# Now, let's plot it!\n",
    "sales_column.plot(kind='hist', title='Histogram: Sales Frequency', bins=4)\n",
    "\n",
    "# In Jupyter, the plot appears automatically below the cell. Magic! ✨"
   ]
  },
  {
   "cell_type": "code",
   "execution_count": null,
   "id": "044a21dc-25a4-4a24-a7ea-be5dfb0f34c5",
   "metadata": {},
   "outputs": [],
   "source": [
    "# ASSIGNMENT 5: Histogram - Distribution of Units Sold\n",
    "\n",
    "# The data is the 'Units' column directly from the DataFrame\n",
    "# units_column = sales_data[...]\n",
    "\n",
    "print(\"--- Data to be plotted (Units Column) ---\")\n",
    "# print(units_column)\n",
    "\n",
    "# Now, plot the results as a Histogram! Use bins=3.\n",
    "# ... .plot(kind='hist', title='Frequency Distribution of Units Sold', bins=3)\n",
    "\n",
    "# In Jupyter, the plot appears automatically below the cell."
   ]
  },
  {
   "cell_type": "code",
   "execution_count": 42,
   "id": "32f6e7f4-bba2-4a6e-9d3e-02714154e024",
   "metadata": {},
   "outputs": [
    {
     "name": "stdout",
     "output_type": "stream",
     "text": [
      "--- Data to be plotted (Column Series) ---\n",
      "0    250\n",
      "1    300\n",
      "2    350\n",
      "3    400\n",
      "4    200\n",
      "5    450\n",
      "Name: Sales, dtype: int64\n"
     ]
    },
    {
     "data": {
      "text/plain": [
       "<Axes: title={'center': 'KDE/Density Plot: Sales Distribution'}, ylabel='Density'>"
      ]
     },
     "execution_count": 42,
     "metadata": {},
     "output_type": "execute_result"
    },
    {
     "data": {
      "image/png": "[encoded data removed]",
      "text/plain": [
       "<Figure size 640x480 with 1 Axes>"
      ]
     },
     "metadata": {},
     "output_type": "display_data"
    }
   ],
   "source": [
    "# Example: Create a Density/KDE plot of the Sales distribution\n",
    "\n",
    "# The data is the 'Sales' column directly from the DataFrame\n",
    "sales_column = sales_data['Sales']\n",
    "\n",
    "print(\"--- Data to be plotted (Column Series) ---\")\n",
    "print(sales_column)\n",
    "\n",
    "# Now, let's plot it! ('density' and 'kde' are synonyms)\n",
    "sales_column.plot(kind='kde', title='KDE/Density Plot: Sales Distribution')\n",
    "\n",
    "# In Jupyter, the plot appears automatically below the cell. Magic! ✨"
   ]
  },
  {
   "cell_type": "code",
   "execution_count": 47,
   "id": "9ce3f400-108d-483a-ac21-6b893270fa00",
   "metadata": {},
   "outputs": [
    {
     "name": "stdout",
     "output_type": "stream",
     "text": [
      "--- Data to be plotted (Sales Column) ---\n"
     ]
    }
   ],
   "source": [
    "# ASSIGNMENT 6: Density/KDE Plot - Sales Distribution\n",
    "\n",
    "# The data is the 'Sales' column directly from the DataFrame\n",
    "# sales_column = sales_data['Sales']\n",
    "\n",
    "print(\"--- Data to be plotted (Sales Column) ---\")\n",
    "# print(sales_column)\n",
    "\n",
    "# Now, plot the results as a KDE Plot!\n",
    "# ... .plot(kind='kde', title='Kernel Density Estimate of Sales')\n",
    "\n",
    "# In Jupyter, the plot appears automatically below the cell."
   ]
  },
  {
   "cell_type": "code",
   "execution_count": 43,
   "id": "302db529-b176-4f00-b99c-69de0313eb22",
   "metadata": {
    "scrolled": true
   },
   "outputs": [
    {
     "name": "stdout",
     "output_type": "stream",
     "text": [
      "--- Data to be plotted (DataFrame) ---\n",
      "   Units  Sales\n",
      "0     25    250\n",
      "1     30    300\n",
      "2     35    350\n",
      "3     40    400\n",
      "4     20    200\n",
      "5     45    450\n"
     ]
    },
    {
     "data": {
      "text/plain": [
       "<Axes: title={'center': 'Scatter Plot: Sales vs Units'}, xlabel='Units', ylabel='Sales'>"
      ]
     },
     "execution_count": 43,
     "metadata": {},
     "output_type": "execute_result"
    },
    {
     "data": {
      "image/png": "[encoded data removed]",
      "text/plain": [
       "<Figure size 640x480 with 1 Axes>"
      ]
     },
     "metadata": {},
     "output_type": "display_data"
    }
   ],
   "source": [
    "# Example: Create a scatter plot of Units vs. Sales\n",
    "\n",
    "# The data is the full DataFrame, specifying X and Y columns\n",
    "df_for_scatter = sales_data[['Units', 'Sales']]\n",
    "\n",
    "print(\"--- Data to be plotted (DataFrame) ---\")\n",
    "print(df_for_scatter)\n",
    "\n",
    "# Now, let's plot it using the DataFrame .plot() method!\n",
    "sales_data.plot(kind='scatter', x='Units', y='Sales', title='Scatter Plot: Sales vs Units')\n",
    "\n",
    "# In Jupyter, the plot appears automatically below the cell. Magic! ✨"
   ]
  },
  {
   "cell_type": "code",
   "execution_count": 48,
   "id": "907b75a1-28ac-4bf8-8b73-e81cf0b8e9ea",
   "metadata": {},
   "outputs": [
    {
     "name": "stdout",
     "output_type": "stream",
     "text": [
      "--- Data to be plotted (DataFrame) ---\n"
     ]
    }
   ],
   "source": [
    "# ASSIGNMENT 7: Scatter Plot - Sales vs. Units\n",
    "\n",
    "# The data is the full DataFrame, specifying X and Y columns\n",
    "df_for_scatter = sales_data[['Units', 'Sales']]\n",
    "\n",
    "print(\"--- Data to be plotted (DataFrame) ---\")\n",
    "# print(df_for_scatter)\n",
    "\n",
    "# Now, plot the results as a Scatter Plot!\n",
    "# sales_data.plot(kind='scatter', x='Units', y='Sales', title='Relationship: Sales vs. Units')\n",
    "\n",
    "# In Jupyter, the plot appears automatically below the cell."
   ]
  },
  {
   "cell_type": "code",
   "execution_count": 44,
   "id": "a65e4d1d-f811-4e64-ae7e-214f66e04cdb",
   "metadata": {
    "scrolled": true
   },
   "outputs": [
    {
     "name": "stdout",
     "output_type": "stream",
     "text": [
      "--- Data to be plotted (DataFrame) ---\n",
      "  Region  Sales\n",
      "0   East    250\n",
      "1   West    300\n",
      "2   East    350\n",
      "3   West    400\n",
      "4   East    200\n",
      "5   West    450\n"
     ]
    },
    {
     "data": {
      "text/plain": [
       "<Axes: title={'center': 'Sales'}, xlabel='Region'>"
      ]
     },
     "execution_count": 44,
     "metadata": {},
     "output_type": "execute_result"
    },
    {
     "data": {
      "image/png": "[encoded data removed]",
      "text/plain": [
       "<Figure size 640x480 with 1 Axes>"
      ]
     },
     "metadata": {},
     "output_type": "display_data"
    }
   ],
   "source": [
    "# Example: Create a box plot of Sales grouped by Region\n",
    "\n",
    "# The data is the full DataFrame, specifying the column and grouping variable\n",
    "df_for_boxplot = sales_data[['Region', 'Sales']]\n",
    "\n",
    "print(\"--- Data to be plotted (DataFrame) ---\")\n",
    "print(df_for_boxplot)\n",
    "\n",
    "# Now, let's plot it using the DataFrame .boxplot() method!\n",
    "sales_data.boxplot(column='Sales', by='Region')\n",
    "\n",
    "# In Jupyter, the plot appears automatically below the cell. Magic! ✨"
   ]
  },
  {
   "cell_type": "code",
   "execution_count": 49,
   "id": "14f70bb4-a3f9-416d-b9bb-0cdadb9d9d56",
   "metadata": {},
   "outputs": [
    {
     "name": "stdout",
     "output_type": "stream",
     "text": [
      "--- Data to be plotted (DataFrame) ---\n"
     ]
    }
   ],
   "source": [
    "# ASSIGNMENT 8: Box Plot - Units Distribution by Region\n",
    "\n",
    "# The data is the full DataFrame, specifying the column and grouping variable\n",
    "df_for_boxplot = sales_data[['Region', 'Units']]\n",
    "\n",
    "print(\"--- Data to be plotted (DataFrame) ---\")\n",
    "# print(df_for_boxplot)\n",
    "\n",
    "# Now, plot the results using the DataFrame .boxplot() method!\n",
    "# sales_data.boxplot(column='Units', by='Region')\n",
    "\n",
    "# In Jupyter, the plot appears automatically below the cell."
   ]
  },
  {
   "cell_type": "code",
   "execution_count": 45,
   "id": "4e55fff4-e37b-495b-8f23-ac14ab95092e",
   "metadata": {
    "scrolled": true
   },
   "outputs": [
    {
     "name": "stdout",
     "output_type": "stream",
     "text": [
      "--- Data to be plotted (DataFrame) ---\n",
      "   Units  Sales\n",
      "0     25    250\n",
      "1     30    300\n",
      "2     35    350\n",
      "3     40    400\n",
      "4     20    200\n",
      "5     45    450\n"
     ]
    },
    {
     "data": {
      "text/plain": [
       "<Axes: title={'center': 'Hexbin Plot: Sales vs Units'}, xlabel='Units', ylabel='Sales'>"
      ]
     },
     "execution_count": 45,
     "metadata": {},
     "output_type": "execute_result"
    },
    {
     "data": {
      "image/png": "[encoded data removed]",
      "text/plain": [
       "<Figure size 640x480 with 2 Axes>"
      ]
     },
     "metadata": {},
     "output_type": "display_data"
    }
   ],
   "source": [
    "# Example: Create a hexbin plot of Units vs. Sales\n",
    "\n",
    "# The data is the full DataFrame, specifying X and Y columns\n",
    "df_for_hexbin = sales_data[['Units', 'Sales']]\n",
    "\n",
    "print(\"--- Data to be plotted (DataFrame) ---\")\n",
    "print(df_for_hexbin)\n",
    "\n",
    "# Now, let's plot it! (gridsize controls the number of hexagonal bins)\n",
    "sales_data.plot(kind='hexbin', x='Units', y='Sales', gridsize=5, title='Hexbin Plot: Sales vs Units')\n",
    "\n",
    "# In Jupyter, the plot appears automatically below the cell. Magic! ✨"
   ]
  },
  {
   "cell_type": "code",
   "execution_count": 50,
   "id": "0a2e9415-a42b-452f-91b5-a40038ae5409",
   "metadata": {},
   "outputs": [
    {
     "name": "stdout",
     "output_type": "stream",
     "text": [
      "--- Data to be plotted (DataFrame) ---\n"
     ]
    }
   ],
   "source": [
    "# ASSIGNMENT 9: Hexbin Plot - Density of Sales vs. Units\n",
    "\n",
    "# The data is the full DataFrame, specifying X and Y columns\n",
    "df_for_hexbin = sales_data[['Units', 'Sales']]\n",
    "\n",
    "print(\"--- Data to be plotted (DataFrame) ---\")\n",
    "# print(df_for_hexbin)\n",
    "\n",
    "# Now, plot the results as a Hexbin Plot! (Use gridsize=4)\n",
    "# sales_data.plot(kind='hexbin', x='Units', y='Sales', gridsize=4, title='Density: Sales vs Units')\n",
    "\n",
    "# In Jupyter, the plot appears automatically below the cell."
   ]
  },
  {
   "cell_type": "code",
   "execution_count": null,
   "id": "bb42e756-5d44-4ead-b77a-bf7e463ff1de",
   "metadata": {},
   "outputs": [],
   "source": []
  },
  {
   "cell_type": "markdown",
   "id": "725b271b",
   "metadata": {},
   "source": [
    "### 🧠 Practice Task: Visualize Manager Sales\n",
    "\n",
    "In an earlier exercise, you calculated the average sales per manager. Now, create a horizontal bar plot (`kind='barh'`) to visualize those results. A horizontal bar chart can be easier to read when you have long labels."
   ]
  },
  {
   "cell_type": "code",
   "execution_count": null,
   "id": "c2c0ee99",
   "metadata": {},
   "outputs": [],
   "source": [
    "# Your code here!\n",
    "# 1. Calculate the average sales per manager\n",
    "manager_avg_sales = sales_data.groupby('Manager')['Sales'].mean()\n",
    "\n",
    "# 2. Create a horizontal bar plot\n",
    "# manager_avg_sales.plot(...)\n"
   ]
  },
  {
   "cell_type": "markdown",
   "id": "6f1d59ee",
   "metadata": {},
   "source": [
    "--- \n",
    "## Topic 6: Saving Your Data with `.to_csv()`\n",
    "\n",
    "📄 **Explanation**\n",
    "\n",
    "After all your hard work cleaning and analyzing, you'll want to save the results! The `.to_csv()` method lets you save a DataFrame to a comma-separated values (CSV) file, which is a universal format that can be opened by almost any data software (like Excel, Google Sheets, etc.).\n",
    "\n",
    "💡 **Pro-Tip**: Use `index=False` to prevent Pandas from writing the DataFrame index (those numbers on the far left) as a column in your file. You usually don't need it."
   ]
  },
  {
   "cell_type": "code",
   "execution_count": 32,
   "id": "fef10027",
   "metadata": {},
   "outputs": [
    {
     "name": "stdout",
     "output_type": "stream",
     "text": [
      "✅ Saved 'region_sales_summary.csv' to disk!\n",
      "Check the file explorer on the left to see your new file.\n"
     ]
    }
   ],
   "source": [
    "# Example: Save our region_sales summary to a CSV file\n",
    "\n",
    "# Let's re-calculate our summary of sales by region\n",
    "region_sales_summary = sales_data.groupby('Region')['Sales'].sum().reset_index() # .reset_index() turns the grouped output back into a DataFrame\n",
    "\n",
    "# Save it to a file named 'region_sales_summary.csv'\n",
    "region_sales_summary.to_csv('region_sales_summary.csv', index=False)\n",
    "\n",
    "print(\"✅ Saved 'region_sales_summary.csv' to disk!\")\n",
    "print(\"Check the file explorer on the left to see your new file.\")"
   ]
  },
  {
   "cell_type": "markdown",
   "id": "ef207977",
   "metadata": {},
   "source": [
    "### 🧠 Practice Task: Save Employee Data\n",
    "\n",
    "Remember the `employee_depts` DataFrame we created by merging? Save that DataFrame to a new file called `employee_report.csv`. Don't forget to set `index=False`!"
   ]
  },
  {
   "cell_type": "code",
   "execution_count": null,
   "id": "467e2518",
   "metadata": {},
   "outputs": [],
   "source": [
    "# Your code here!\n",
    "# employee_depts.to_csv( ... )\n",
    "\n",
    "print(\"File saved! Well done.\")\n"
   ]
  },
  {
   "cell_type": "markdown",
   "id": "1f05d95f",
   "metadata": {},
   "source": [
    "--- \n",
    "# 🎉 Final Revision Assignment 🎉\n",
    "\n",
    "Congratulations! You've learned the fundamentals of combining, grouping, visualizing, and saving data with Pandas. Now it's time to put all your new skills together.\n",
    "\n",
    "**Scenario**: You are a data analyst for a small online store. You have two datasets: one for products and one for recent sales. Your task is to analyze the sales performance.\n",
    "\n",
    "---"
   ]
  },
  {
   "cell_type": "markdown",
   "id": "820c1ec9",
   "metadata": {},
   "source": [
    "### 🎯 Your Tasks:\n",
    "\n",
    "**1. Create the DataFrames**:\n",
    "   - Run the code cell below to create a `products` DataFrame and a `sales` DataFrame.\n",
    "\n",
    "**2. Merge the Data**:\n",
    "   - Merge the `sales` DataFrame with the `products` DataFrame to include the `product_name` and `price` for each transaction. Call the new DataFrame `full_sales_data`.\n",
    "\n",
    "**3. Create a Revenue Column**:\n",
    "   - In `full_sales_data`, create a new column called `Revenue` which is the `quantity` sold multiplied by the `price`.\n",
    "\n",
    "**4. Group and Analyze**:\n",
    "   - Group `full_sales_data` by `product_name` and calculate the total `Revenue` for each product. Store this in a new variable called `product_revenue`.\n",
    "\n",
    "**5. Categorize Products by Price**:\n",
    "   - In the `products` DataFrame, create a new column `price_category` using `pd.cut`. The categories should be 'Cheap' (0-20), 'Mid-Range' (21-100), and 'Expensive' (>100).\n",
    "\n",
    "**6. Visualize Your Findings**:\n",
    "   - Create a bar plot for `product_revenue` to show which product is generating the most revenue.\n",
    "\n",
    "**7. Save Your Final Report**:\n",
    "   - Save the `full_sales_data` DataFrame to a CSV file named `final_sales_report.csv`."
   ]
  },
  {
   "cell_type": "code",
   "execution_count": null,
   "id": "65b6a3be",
   "metadata": {},
   "outputs": [],
   "source": [
    "# Task 1: Run this cell to create your data\n",
    "products = pd.DataFrame({\n",
    "    'product_id': [1, 2, 3, 4],\n",
    "    'product_name': ['Laptop', 'Mouse', 'Keyboard', 'Monitor'],\n",
    "    'price': [1200, 25, 75, 300]\n",
    "})\n",
    "\n",
    "sales = pd.DataFrame({\n",
    "    'transaction_id': range(101, 107),\n",
    "    'product_id': [3, 1, 2, 4, 1, 3],\n",
    "    'quantity': [2, 1, 3, 2, 1, 1]\n",
    "})\n",
    "\n",
    "print(\"--- Products ---\")\n",
    "print(products)\n",
    "print(\"\\n--- Sales ---\")\n",
    "print(sales)\n",
    "\n",
    "# --- Your Code Below --- \n",
    "\n",
    "# Task 2: Merge the data\n",
    "\n",
    "\n",
    "# Task 3: Create a Revenue column\n",
    "\n",
    "\n",
    "# Task 4: Group and analyze\n",
    "\n",
    "\n",
    "# Task 5: Categorize products\n",
    "\n",
    "\n",
    "# Task 6: Visualize\n",
    "\n",
    "\n",
    "# Task 7: Save your report\n"
   ]
  }
 ],
 "metadata": {
  "kernelspec": {
   "display_name": "Python 3 (ipykernel)",
   "language": "python",
   "name": "python3"
  },
  "language_info": {
   "codemirror_mode": {
    "name": "ipython",
    "version": 3
   },
   "file_extension": ".py",
   "mimetype": "text/x-python",
   "name": "python",
   "nbconvert_exporter": "python",
   "pygments_lexer": "ipython3",
   "version": "3.12.7"
  }
 },
 "nbformat": 4,
 "nbformat_minor": 5
}
