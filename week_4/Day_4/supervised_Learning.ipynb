{
 "cells": [
  {
   "cell_type": "markdown",
   "id": "d43c88b0",
   "metadata": {},
   "source": [
    "# 🚀 Mastering the Fundamentals of Supervised Learning 🚀\n",
    "\n",
    "Welcome, future AI expert! In this 2-hour interactive session, we will dive into the exciting world of Supervised Machine Learning. We'll break down complex ideas into simple, understandable pieces. \n",
    "\n",
    "Get ready to write some Python code and train your very first AI model from scratch!"
   ]
  },
  {
   "cell_type": "markdown",
   "id": "4956788e",
   "metadata": {},
   "source": [
    "### 🎯 Our Learning Objectives for Today\n",
    "\n",
    "By the end of this session, you will be able to:\n",
    "\n",
    "1.  **Understand** what Supervised Learning is.\n",
    "2.  **Differentiate** between the two main types: Regression and Classification.\n",
    "3.  **Identify** the four core components of any supervised learning model.\n",
    "4.  **Implement** a simple Linear Regression algorithm using Python.\n",
    "5.  **Train** a model to make predictions on new data."
   ]
  },
  {
   "cell_type": "markdown",
   "id": "702d7ae5",
   "metadata": {},
   "source": [
    "## Topic 1: Regression vs. Classification Problems\n",
    "\n",
    "Supervised learning is like learning with a teacher. We show the computer examples, and it learns to make decisions. These decisions usually fall into two categories:\n",
    "\n",
    "📈 **Regression**: Predicting a **continuous numerical value**. Think \"how much?\" or \"how many?\".\n",
    "  - *Example*: Predicting the price of a house.\n",
    "  - *Example*: Forecasting tomorrow's temperature in degrees Celsius.\n",
    "\n",
    "🗂️ **Classification**: Predicting a **discrete category or label**. Think \"what kind?\" or \"which class?\".\n",
    "  - *Example*: Is this email `spam` or `not spam`?\n",
    "  - *Example*: Is this picture a `cat`, a `dog`, or a `bird`?"
   ]
  },
  {
   "cell_type": "code",
   "execution_count": 1,
   "id": "0f1fc20e",
   "metadata": {},
   "outputs": [
    {
     "name": "stdout",
     "output_type": "stream",
     "text": [
      "--- Regression Example ---\n",
      "A house of size 1500 sq. ft. costs $350000.\n",
      "The goal is to predict a specific price value.\n"
     ]
    }
   ],
   "source": [
    "# 💻 Code Example: Regression\n",
    "# Here, we have data on house sizes and their prices.\n",
    "# Our goal is to predict a price (a number).\n",
    "\n",
    "house_sizes = [1000, 1500, 2000, 2500] # input features in square feet\n",
    "house_prices = [250000, 350000, 450000, 550000] # output labels in USD\n",
    "\n",
    "print(\"--- Regression Example ---\")\n",
    "print(f\"A house of size {house_sizes[1]} sq. ft. costs ${house_prices[1]}.\")\n",
    "print(\"The goal is to predict a specific price value.\")"
   ]
  },
  {
   "cell_type": "code",
   "execution_count": 2,
   "id": "71fd89e3",
   "metadata": {},
   "outputs": [
    {
     "name": "stdout",
     "output_type": "stream",
     "text": [
      "--- Classification Example ---\n",
      "A tumor of size 5 cm was classified as: 1 (Malignant).\n",
      "The goal is to predict one of two categories.\n"
     ]
    }
   ],
   "source": [
    "# 💻 Code Example: Classification\n",
    "# Here, we have data on tumor sizes and whether they are malignant.\n",
    "# The output is a category: 'Benign' (0) or 'Malignant' (1).\n",
    "\n",
    "tumor_sizes = [2, 5, 1, 8, 3] # input features in cm\n",
    "is_malignant = [0, 1, 0, 1, 0] # output labels (0 for Benign, 1 for Malignant)\n",
    "\n",
    "print(\"--- Classification Example ---\")\n",
    "print(f\"A tumor of size {tumor_sizes[1]} cm was classified as: {is_malignant[1]} (Malignant).\")\n",
    "print(\"The goal is to predict one of two categories.\")"
   ]
  },
  {
   "cell_type": "markdown",
   "id": "031897ae",
   "metadata": {},
   "source": [
    "### 🧠 Practice Task 1\n",
    "\n",
    "Look at the problem below. Is it a **Regression** or a **Classification** task? \n",
    "\n",
    "**Problem**: You want to build a model that looks at a student's study hours and predicts their final exam score (from 0 to 100).\n",
    "\n",
    "Write your answer in the code cell below as a comment. There's no wrong answer, just thinking!"
   ]
  },
  {
   "cell_type": "code",
   "execution_count": null,
   "id": "6419a261",
   "metadata": {},
   "outputs": [],
   "source": [
    "# Type your answer here. For example:\n",
    "# I think this is a [Your Answer] task because the model needs to predict a [Type of Output]."
   ]
  },
  {
   "cell_type": "markdown",
   "id": "f3e928ca",
   "metadata": {},
   "source": [
    "✅ Well done! You now know the two main types of supervised learning problems."
   ]
  },
  {
   "cell_type": "markdown",
   "id": "9bbcd392",
   "metadata": {},
   "source": [
    "## Topic 2: The 4 Core Components of Supervised Learning\n",
    "\n",
    "Every supervised learning model is built with four key ingredients. Let's learn them one by one."
   ]
  },
  {
   "cell_type": "markdown",
   "id": "bf2b626c",
   "metadata": {},
   "source": [
    "### Component 1: Labeled Data (The \"Fuel\")\n",
    "\n",
    "This is the dataset our model learns from. It contains both the inputs and the correct outputs.\n",
    "\n",
    "- **Input Features (X)**: The information we give the model (e.g., house size).\n",
    "- **Output Label (y)**: The correct answer we want the model to predict (e.g., house price)."
   ]
  },
  {
   "cell_type": "code",
   "execution_count": 1,
   "id": "a88bec77",
   "metadata": {},
   "outputs": [
    {
     "name": "stdout",
     "output_type": "stream",
     "text": [
      "Our Labeled Dataset:\n",
      "- 2 hours of study -> 65 score\n",
      "- 4 hours of study -> 75 score\n",
      "- 5 hours of study -> 78 score\n",
      "- 7 hours of study -> 88 score\n",
      "- 8 hours of study -> 92 score\n"
     ]
    }
   ],
   "source": [
    "# 💻 Example: Labeled Data for predicting test scores from study hours\n",
    "\n",
    "# Input Features (X) - hours spent studying\n",
    "X_study_hours = [2, 4, 5, 7, 8]\n",
    "\n",
    "# Output Labels (y) - exam score (out of 100)\n",
    "y_exam_scores = [65, 75, 78, 88, 92]\n",
    "\n",
    "print(\"Our Labeled Dataset:\")\n",
    "for i in range(len(X_study_hours)):\n",
    "    print(f\"- {X_study_hours[i]} hours of study -> {y_exam_scores[i]} score\")"
   ]
  },
  {
   "cell_type": "markdown",
   "id": "120f4d6b",
   "metadata": {},
   "source": [
    "### 🧠 Practice Task 2\n",
    "\n",
    "Create your own tiny labeled dataset! In the cell below, create two lists for a problem of your choice. Some ideas:\n",
    "- `X_ice_cream_sales`, `y_temperature`\n",
    "- `X_coffee_intake_ml`, `y_hours_awake`"
   ]
  },
  {
   "cell_type": "code",
   "execution_count": null,
   "id": "cde458b5",
   "metadata": {},
   "outputs": [],
   "source": [
    "# Create your X and y lists here\n",
    "X_my_data = []\n",
    "y_my_data = []\n",
    "\n",
    "print(f\"My X values: {X_my_data}\")\n",
    "print(f\"My y values: {y_my_data}\")"
   ]
  },
  {
   "cell_type": "markdown",
   "id": "8f0cde95",
   "metadata": {},
   "source": [
    "### Component 2: Hypothesis (The \"Guess\")\n",
    "\n",
    "The hypothesis is a function that represents the model's attempt to map inputs to outputs. For simple linear regression, it's just the equation of a straight line!\n",
    "\n",
    "**`h(x) = θ₀ + θ₁ * x`**\n",
    "\n",
    "- `x`: The input feature (e.g., study hours).\n",
    "- `θ₀` (theta-zero): The y-intercept of the line. Where the line starts.\n",
    "- `θ₁` (theta-one): The slope of the line. How steep the line is.\n",
    "\n",
    "The model's job is to **find the best values for `θ₀` and `θ₁`** that make the line fit the data."
   ]
  },
  {
   "cell_type": "code",
   "execution_count": 3,
   "id": "9c649370",
   "metadata": {},
   "outputs": [
    {
     "name": "stdout",
     "output_type": "stream",
     "text": [
      "With our initial guess, we predict that 6 study hours will result in a score of 80.\n"
     ]
    }
   ],
   "source": [
    "# 💻 Example: Let's create a hypothesis function in Python\n",
    "\n",
    "def hypothesis(theta0, theta1, x):\n",
    "    \"\"\"Calculates the model's prediction for a given input x.\"\"\"\n",
    "    return theta0 + theta1 * x\n",
    "\n",
    "# Let's make a guess with some random theta values\n",
    "theta0_guess = 50\n",
    "theta1_guess = 5\n",
    "study_hours_example = 6\n",
    "\n",
    "predicted_score = hypothesis(theta0_guess, theta1_guess, study_hours_example)\n",
    "\n",
    "print(f\"With our initial guess, we predict that {study_hours_example} study hours will result in a score of {predicted_score}.\")"
   ]
  },
  {
   "cell_type": "markdown",
   "id": "d94ee1ea",
   "metadata": {},
   "source": [
    "### 🧠 Practice Task 3\n",
    "\n",
    "Use the `hypothesis` function from the cell above. Call it with your own values for `theta0`, `theta1`, and `x` to see what it predicts.\n",
    "\n",
    "🧪 **Try changing the values!** What happens to the prediction if you increase `theta1`? What if you increase `theta0`?"
   ]
  },
  {
   "cell_type": "code",
   "execution_count": 4,
   "id": "8545de1e",
   "metadata": {},
   "outputs": [
    {
     "name": "stdout",
     "output_type": "stream",
     "text": [
      "My prediction is: 90\n"
     ]
    }
   ],
   "source": [
    "# Your turn! Call the hypothesis function with new values.\n",
    "my_theta0 = 60\n",
    "my_theta1 = 3\n",
    "my_x = 10\n",
    "\n",
    "my_prediction = hypothesis(my_theta0, my_theta1, my_x)\n",
    "print(f\"My prediction is: {my_prediction}\")"
   ]
  },
  {
   "cell_type": "markdown",
   "id": "a21838b9",
   "metadata": {},
   "source": [
    "### Component 3: Cost Function (The \"Error Calculator\")\n",
    "\n",
    "How do we know if our model's guesses (`θ₀`, `θ₁`) are any good? We use a Cost Function!\n",
    "\n",
    "Its job is to measure how wrong the model's predictions are compared to the actual labels. A popular one is **Mean Squared Error (MSE)**.\n",
    "\n",
    "**In simple terms**: For each data point, it calculates `(prediction - actual)²`. The average of these squared errors is the cost. \n",
    "\n",
    "**Goal**: We want to make this cost as low as possible!"
   ]
  },
  {
   "cell_type": "code",
   "execution_count": 5,
   "id": "bcc42114",
   "metadata": {},
   "outputs": [
    {
     "name": "stdout",
     "output_type": "stream",
     "text": [
      "The prediction was off by 7 points.\n",
      "The squared error for this one prediction is: 49\n"
     ]
    }
   ],
   "source": [
    "# 💻 Example: A simple function to calculate the error for ONE data point\n",
    "\n",
    "def calculate_squared_error(prediction, actual_y):\n",
    "    \"\"\"Calculates the squared difference between prediction and actual value.\"\"\"\n",
    "    error = prediction - actual_y\n",
    "    return error ** 2\n",
    "\n",
    "# Let's say our model predicted a score of 85 for a student who actually scored 92\n",
    "predicted_score = 85\n",
    "actual_score = 92\n",
    "\n",
    "squared_error = calculate_squared_error(predicted_score, actual_score)\n",
    "\n",
    "print(f\"The prediction was off by {actual_score - predicted_score} points.\")\n",
    "print(f\"The squared error for this one prediction is: {squared_error}\")"
   ]
  },
  {
   "cell_type": "markdown",
   "id": "49a54d8d",
   "metadata": {},
   "source": [
    "### 🧠 Practice Task 4\n",
    "\n",
    "Imagine another student studied for 3 hours. Your model (with its current `theta` guesses) predicts a score of 70, but their actual score was 68. \n",
    "\n",
    "Use the `calculate_squared_error` function to find the error for this prediction."
   ]
  },
  {
   "cell_type": "code",
   "execution_count": null,
   "id": "2f4ea638",
   "metadata": {},
   "outputs": [],
   "source": [
    "new_prediction = 70\n",
    "new_actual = 68\n",
    "\n",
    "# Calculate the squared error for these new values\n",
    "new_error = calculate_squared_error(new_prediction, new_actual)\n",
    "print(f\"The squared error is: {new_error}\")"
   ]
  },
  {
   "cell_type": "markdown",
   "id": "394529b8",
   "metadata": {},
   "source": [
    "### Component 4: Optimizer (The \"Improver\")\n",
    "\n",
    "The optimizer's job is to **minimize the cost function**. It does this by intelligently changing the `θ₀` and `θ₁` values.\n",
    "\n",
    "The most famous optimizer is **Gradient Descent**. \n",
    "\n",
    "**Intuition**: Imagine you are on a foggy mountain (the cost function) and want to get to the lowest valley. You'd look at the ground around you and take a step in the steepest downhill direction. You repeat this until you can't go any lower.\n",
    "\n",
    "- The **\"step size\"** you take is called the **Learning Rate (alpha)**. It's a small number we choose.\n",
    "- Gradient Descent calculates the \"steepest downhill direction\" for `θ₀` and `θ₁` and nudges them in that direction.\n",
    "\n",
    "This process of predicting, calculating error, and updating the thetas is called **training**!"
   ]
  },
  {
   "cell_type": "markdown",
   "id": "22f21290",
   "metadata": {},
   "source": [
    "✅ Fantastic work! You now understand the four fundamental building blocks of a supervised learning model. Now, let's put them all together!"
   ]
  },
  {
   "cell_type": "markdown",
   "id": "87e8e0fb",
   "metadata": {},
   "source": [
    "## Topic 3: Putting It All Together - Linear Regression from Scratch!\n",
    "\n",
    "Time for the main event! We will combine all four components to build and train a model that learns the relationship between study hours and exam scores."
   ]
  },
  {
   "cell_type": "code",
   "execution_count": null,
   "id": "5ace80c7",
   "metadata": {},
   "outputs": [],
   "source": [
    "# Step 1: The Labeled Data\n",
    "X_study_hours = [2, 4, 5, 7, 8] # Our inputs\n",
    "y_exam_scores = [65, 75, 78, 88, 92] # Our correct answers\n",
    "\n",
    "print(\"Data is ready!\")"
   ]
  },
  {
   "cell_type": "code",
   "execution_count": 6,
   "id": "41916406",
   "metadata": {},
   "outputs": [
    {
     "name": "stdout",
     "output_type": "stream",
     "text": [
      "Parameters initialized!\n"
     ]
    }
   ],
   "source": [
    "# Step 2: Initialize Parameters & Hyperparameters\n",
    "\n",
    "# Our model's parameters (we'll start them at 0)\n",
    "theta0 = 0.0\n",
    "theta1 = 0.0\n",
    "\n",
    "# Our optimizer's hyperparameter (the step size)\n",
    "learning_rate = 0.01\n",
    "\n",
    "# How many times we want to repeat the training process\n",
    "iterations = 1000\n",
    "\n",
    "# Get the number of training examples\n",
    "m = len(X_study_hours)\n",
    "\n",
    "print(\"Parameters initialized!\")"
   ]
  },
  {
   "cell_type": "code",
   "execution_count": 7,
   "id": "be7b1ba7",
   "metadata": {},
   "outputs": [
    {
     "name": "stdout",
     "output_type": "stream",
     "text": [
      "Iteration 0: Cost = 3214.20\n",
      "Iteration 100: Cost = 159.14\n",
      "Iteration 200: Cost = 120.16\n",
      "Iteration 300: Cost = 90.74\n",
      "Iteration 400: Cost = 68.54\n",
      "Iteration 500: Cost = 51.77\n",
      "Iteration 600: Cost = 39.11\n",
      "Iteration 700: Cost = 29.56\n",
      "Iteration 800: Cost = 22.35\n",
      "Iteration 900: Cost = 16.90\n",
      "\n",
      "Training complete!\n"
     ]
    }
   ],
   "source": [
    "# Step 3 & 4: The Training Loop (Hypothesis, Cost, and Optimizer)\n",
    "\n",
    "for i in range(iterations):\n",
    "    # --- Make predictions with current thetas (Hypothesis) ---\n",
    "    predictions = []\n",
    "    for x in X_study_hours:\n",
    "        pred = theta0 + theta1 * x\n",
    "        predictions.append(pred)\n",
    "    \n",
    "    # --- Calculate total error (for the Cost Function) ---\n",
    "    errors = []\n",
    "    for j in range(m):\n",
    "        error = predictions[j] - y_exam_scores[j]\n",
    "        errors.append(error)\n",
    "        \n",
    "    # --- Calculate the cost (for us to see) ---\n",
    "    cost = sum([e**2 for e in errors]) / (2*m)\n",
    "    \n",
    "    # Print the cost every 100 iterations to see it go down\n",
    "    if i % 100 == 0:\n",
    "        print(f\"Iteration {i}: Cost = {cost:.2f}\")\n",
    "    \n",
    "    # --- Update the parameters (Optimizer) ---\n",
    "    # This part uses calculus (derivatives), but just trust the formulas for now!\n",
    "    # They calculate the 'steepest downhill' direction.\n",
    "    sum_errors_for_theta0 = sum(errors)\n",
    "    \n",
    "    sum_errors_for_theta1 = 0\n",
    "    for j in range(m):\n",
    "        sum_errors_for_theta1 += errors[j] * X_study_hours[j]\n",
    "    \n",
    "    # Nudge the thetas in the right direction!\n",
    "    theta0 = theta0 - (learning_rate / m) * sum_errors_for_theta0\n",
    "    theta1 = theta1 - (learning_rate / m) * sum_errors_for_theta1\n",
    "\n",
    "print(\"\\nTraining complete!\")"
   ]
  },
  {
   "cell_type": "code",
   "execution_count": 8,
   "id": "3b97b30e",
   "metadata": {},
   "outputs": [
    {
     "name": "stdout",
     "output_type": "stream",
     "text": [
      "Our model learned the following parameters:\n",
      "theta0 (intercept) = 43.00\n",
      "theta1 (slope) = 6.68\n",
      "\n",
      "Prediction: For a student who studies 6 hours, we predict a score of 83.08.\n"
     ]
    }
   ],
   "source": [
    "# Step 5: Check the results!\n",
    "\n",
    "print(f\"Our model learned the following parameters:\")\n",
    "print(f\"theta0 (intercept) = {theta0:.2f}\")\n",
    "print(f\"theta1 (slope) = {theta1:.2f}\")\n",
    "\n",
    "# Let's use our trained model to make a prediction on new, unseen data\n",
    "new_study_hours = 6\n",
    "predicted_score = theta0 + theta1 * new_study_hours\n",
    "\n",
    "print(f\"\\nPrediction: For a student who studies {new_study_hours} hours, we predict a score of {predicted_score:.2f}.\")"
   ]
  },
  {
   "cell_type": "markdown",
   "id": "c2e500af",
   "metadata": {},
   "source": [
    "### 🧠 Practice Task 5\n",
    "\n",
    "You did it! You trained a model! Now, let's experiment.\n",
    "\n",
    "🧪 **Go back to the code cell named `Step 2: Initialize Parameters & Hyperparameters`**.\n",
    "\n",
    "1.  Change the `learning_rate` to a very big number like `1.0`. What happens to the cost when you re-run the training loop? (It might explode! This is called divergence).\n",
    "2.  Change the `learning_rate` to a very small number like `0.0001`. Does the model still learn? Is it faster or slower?\n",
    "\n",
    "This shows how important the `learning_rate` is!"
   ]
  },
  {
   "cell_type": "markdown",
   "id": "bc7dcd21",
   "metadata": {},
   "source": [
    "## 🎉 Final Revision Assignment 🎉\n",
    "\n",
    "Congratulations on completing the session! Here are a few challenges to practice at home and solidify your new skills."
   ]
  },
  {
   "cell_type": "markdown",
   "id": "54168b4e",
   "metadata": {},
   "source": [
    "**Task 1: Conceptual Question**\n",
    "\n",
    "In your own words, explain why predicting the `species of a flower` based on its petal length is a **classification** problem, while predicting its `height in cm` is a **regression** problem."
   ]
  },
  {
   "cell_type": "markdown",
   "id": "e2b71732",
   "metadata": {},
   "source": [
    "**Task 2: Create a New Dataset**\n",
    "\n",
    "A coffee shop owner wants to predict ice cream sales based on the day's temperature. Create two Python lists, `X_temperatures` and `y_sales`, with at least 5 data points. For example, on a hot day (e.g., 30°C), sales should be high (e.g., 100 units)."
   ]
  },
  {
   "cell_type": "code",
   "execution_count": null,
   "id": "65bf9e6b",
   "metadata": {},
   "outputs": [],
   "source": [
    "# Your code for Task 2 here\n",
    "X_temperatures = []\n",
    "y_sales = []"
   ]
  },
  {
   "cell_type": "markdown",
   "id": "274e4153",
   "metadata": {},
   "source": [
    "**Task 3: Adapt the Training Code**\n",
    "\n",
    "Copy the full training loop from *Topic 3* into the cell below. Modify it to use your new `X_temperatures` and `y_sales` data. You might need to adjust the `learning_rate` or `iterations` to get a good result!"
   ]
  },
  {
   "cell_type": "code",
   "execution_count": null,
   "id": "bc1eb61b",
   "metadata": {},
   "outputs": [],
   "source": [
    "# Your code for Task 3 here\n",
    "# 1. Copy the training loop code here.\n",
    "# 2. Make sure it uses your temperature and sales variables.\n",
    "# 3. Run it to train a new model!"
   ]
  },
  {
   "cell_type": "markdown",
   "id": "17d83d6b",
   "metadata": {},
   "source": [
    "**Task 4: Make a Final Prediction**\n",
    "\n",
    "After your new model is trained, use the final `theta0` and `theta1` it learned to predict how many ice creams the shop will sell on a day when the temperature is 25°C."
   ]
  },
  {
   "cell_type": "code",
   "execution_count": null,
   "id": "8698b3de",
   "metadata": {},
   "outputs": [],
   "source": [
    "# Your code for Task 4 here\n",
    "# Use your final theta0 and theta1 from Task 3\n",
    "final_theta0 = 0 # Replace with your value\n",
    "final_theta1 = 0 # Replace with your value\n",
    "temp_to_predict = 25\n",
    "\n",
    "predicted_sales = final_theta0 + final_theta1 * temp_to_predict\n",
    "print(f\"On a {temp_to_predict}°C day, we predict {predicted_sales:.0f} ice cream sales.\")"
   ]
  },
  {
   "cell_type": "markdown",
   "id": "a2c341fe",
   "metadata": {},
   "source": [
    "### 💡 You have reached the end of the notebook. Amazing job today! Keep experimenting and asking questions. This is just the beginning of your AI journey! 💡"
   ]
  }
 ],
 "metadata": {
  "kernelspec": {
   "display_name": "Python 3 (ipykernel)",
   "language": "python",
   "name": "python3"
  },
  "language_info": {
   "codemirror_mode": {
    "name": "ipython",
    "version": 3
   },
   "file_extension": ".py",
   "mimetype": "text/x-python",
   "name": "python",
   "nbconvert_exporter": "python",
   "pygments_lexer": "ipython3",
   "version": "3.12.7"
  }
 },
 "nbformat": 4,
 "nbformat_minor": 5
}
